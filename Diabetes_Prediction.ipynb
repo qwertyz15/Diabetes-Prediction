{
  "nbformat": 4,
  "nbformat_minor": 0,
  "metadata": {
    "colab": {
      "name": "Diabetes_Prediction.ipynb",
      "provenance": []
    },
    "kernelspec": {
      "name": "python3",
      "display_name": "Python 3"
    },
    "accelerator": "GPU"
  },
  "cells": [
    {
      "cell_type": "code",
      "metadata": {
        "colab": {
          "base_uri": "https://localhost:8080/"
        },
        "id": "z695v8qP5all",
        "outputId": "9612fc36-a5b2-48db-fc27-9bbb2c0176ce"
      },
      "source": [
        "#Mount the google drive\n",
        "from google.colab import drive\n",
        "drive.mount('/content/drive')"
      ],
      "execution_count": 9,
      "outputs": [
        {
          "output_type": "stream",
          "text": [
            "Drive already mounted at /content/drive; to attempt to forcibly remount, call drive.mount(\"/content/drive\", force_remount=True).\n"
          ],
          "name": "stdout"
        }
      ]
    },
    {
      "cell_type": "code",
      "metadata": {
        "id": "DqsivQ5V5-qq"
      },
      "source": [
        "# Import Necessary libraries\n",
        "import os \n",
        "\n",
        "# Set Directory path for Dataset\n",
        "os.chdir(\"/content/drive/My Drive/\")"
      ],
      "execution_count": 10,
      "outputs": []
    },
    {
      "cell_type": "code",
      "metadata": {
        "id": "SgH7HzuT6HVJ"
      },
      "source": [
        "import pandas as pd\n",
        "import numpy as np\n",
        "import matplotlib.pyplot as plt\n",
        "import seaborn as sns\n",
        "%matplotlib inline"
      ],
      "execution_count": 11,
      "outputs": []
    },
    {
      "cell_type": "code",
      "metadata": {
        "id": "kEAz9oku6H0i"
      },
      "source": [
        "#importing dataset\n",
        "df = pd.read_excel('Diabetes-2017-18.xlsx')"
      ],
      "execution_count": 12,
      "outputs": []
    },
    {
      "cell_type": "code",
      "metadata": {
        "colab": {
          "base_uri": "https://localhost:8080/",
          "height": 198
        },
        "id": "aheBgPZd6INk",
        "outputId": "0529a85e-dbff-4252-ce2d-583dcfa90aa1"
      },
      "source": [
        "df.head()"
      ],
      "execution_count": 13,
      "outputs": [
        {
          "output_type": "execute_result",
          "data": {
            "text/html": [
              "<div>\n",
              "<style scoped>\n",
              "    .dataframe tbody tr th:only-of-type {\n",
              "        vertical-align: middle;\n",
              "    }\n",
              "\n",
              "    .dataframe tbody tr th {\n",
              "        vertical-align: top;\n",
              "    }\n",
              "\n",
              "    .dataframe thead th {\n",
              "        text-align: right;\n",
              "    }\n",
              "</style>\n",
              "<table border=\"1\" class=\"dataframe\">\n",
              "  <thead>\n",
              "    <tr style=\"text-align: right;\">\n",
              "      <th></th>\n",
              "      <th>HV024</th>\n",
              "      <th>HV025</th>\n",
              "      <th>HV270</th>\n",
              "      <th>HV104</th>\n",
              "      <th>HV105</th>\n",
              "      <th>HV106</th>\n",
              "      <th>SB308</th>\n",
              "      <th>SB311A</th>\n",
              "      <th>SB311B</th>\n",
              "      <th>SB311C</th>\n",
              "      <th>SB333AA</th>\n",
              "      <th>SB333AB</th>\n",
              "      <th>Deabetic</th>\n",
              "      <th>SBBM</th>\n",
              "    </tr>\n",
              "  </thead>\n",
              "  <tbody>\n",
              "    <tr>\n",
              "      <th>0</th>\n",
              "      <td>1</td>\n",
              "      <td>2</td>\n",
              "      <td>1</td>\n",
              "      <td>1</td>\n",
              "      <td>25</td>\n",
              "      <td>1</td>\n",
              "      <td>31</td>\n",
              "      <td>1.0</td>\n",
              "      <td>1.0</td>\n",
              "      <td>1.0</td>\n",
              "      <td>111</td>\n",
              "      <td>58</td>\n",
              "      <td>1</td>\n",
              "      <td>2055</td>\n",
              "    </tr>\n",
              "    <tr>\n",
              "      <th>1</th>\n",
              "      <td>1</td>\n",
              "      <td>2</td>\n",
              "      <td>1</td>\n",
              "      <td>2</td>\n",
              "      <td>34</td>\n",
              "      <td>0</td>\n",
              "      <td>0</td>\n",
              "      <td>1.0</td>\n",
              "      <td>1.0</td>\n",
              "      <td>1.0</td>\n",
              "      <td>101</td>\n",
              "      <td>67</td>\n",
              "      <td>1</td>\n",
              "      <td>2481</td>\n",
              "    </tr>\n",
              "    <tr>\n",
              "      <th>2</th>\n",
              "      <td>1</td>\n",
              "      <td>2</td>\n",
              "      <td>1</td>\n",
              "      <td>2</td>\n",
              "      <td>35</td>\n",
              "      <td>1</td>\n",
              "      <td>0</td>\n",
              "      <td>1.0</td>\n",
              "      <td>1.0</td>\n",
              "      <td>1.0</td>\n",
              "      <td>100</td>\n",
              "      <td>66</td>\n",
              "      <td>1</td>\n",
              "      <td>1744</td>\n",
              "    </tr>\n",
              "    <tr>\n",
              "      <th>3</th>\n",
              "      <td>1</td>\n",
              "      <td>2</td>\n",
              "      <td>1</td>\n",
              "      <td>1</td>\n",
              "      <td>55</td>\n",
              "      <td>2</td>\n",
              "      <td>52</td>\n",
              "      <td>1.0</td>\n",
              "      <td>0.0</td>\n",
              "      <td>1.0</td>\n",
              "      <td>105</td>\n",
              "      <td>71</td>\n",
              "      <td>1</td>\n",
              "      <td>2108</td>\n",
              "    </tr>\n",
              "    <tr>\n",
              "      <th>4</th>\n",
              "      <td>1</td>\n",
              "      <td>2</td>\n",
              "      <td>1</td>\n",
              "      <td>2</td>\n",
              "      <td>45</td>\n",
              "      <td>1</td>\n",
              "      <td>15</td>\n",
              "      <td>1.0</td>\n",
              "      <td>1.0</td>\n",
              "      <td>0.0</td>\n",
              "      <td>144</td>\n",
              "      <td>94</td>\n",
              "      <td>1</td>\n",
              "      <td>2455</td>\n",
              "    </tr>\n",
              "  </tbody>\n",
              "</table>\n",
              "</div>"
            ],
            "text/plain": [
              "   HV024  HV025  HV270  HV104  HV105  ...  SB311C  SB333AA  SB333AB  Deabetic  SBBM\n",
              "0      1      2      1      1     25  ...     1.0      111       58         1  2055\n",
              "1      1      2      1      2     34  ...     1.0      101       67         1  2481\n",
              "2      1      2      1      2     35  ...     1.0      100       66         1  1744\n",
              "3      1      2      1      1     55  ...     1.0      105       71         1  2108\n",
              "4      1      2      1      2     45  ...     0.0      144       94         1  2455\n",
              "\n",
              "[5 rows x 14 columns]"
            ]
          },
          "metadata": {
            "tags": []
          },
          "execution_count": 13
        }
      ]
    },
    {
      "cell_type": "markdown",
      "metadata": {
        "id": "tvsi2yUB8PzP"
      },
      "source": [
        "#**Exploratory Data Analysis**"
      ]
    },
    {
      "cell_type": "code",
      "metadata": {
        "colab": {
          "base_uri": "https://localhost:8080/",
          "height": 308
        },
        "id": "hD8i5I_X6Inn",
        "outputId": "fcc9cd1a-2704-460d-f59d-61114d0739f2"
      },
      "source": [
        "df.describe(include='all')"
      ],
      "execution_count": 14,
      "outputs": [
        {
          "output_type": "execute_result",
          "data": {
            "text/html": [
              "<div>\n",
              "<style scoped>\n",
              "    .dataframe tbody tr th:only-of-type {\n",
              "        vertical-align: middle;\n",
              "    }\n",
              "\n",
              "    .dataframe tbody tr th {\n",
              "        vertical-align: top;\n",
              "    }\n",
              "\n",
              "    .dataframe thead th {\n",
              "        text-align: right;\n",
              "    }\n",
              "</style>\n",
              "<table border=\"1\" class=\"dataframe\">\n",
              "  <thead>\n",
              "    <tr style=\"text-align: right;\">\n",
              "      <th></th>\n",
              "      <th>HV024</th>\n",
              "      <th>HV025</th>\n",
              "      <th>HV270</th>\n",
              "      <th>HV104</th>\n",
              "      <th>HV105</th>\n",
              "      <th>HV106</th>\n",
              "      <th>SB308</th>\n",
              "      <th>SB311A</th>\n",
              "      <th>SB311B</th>\n",
              "      <th>SB311C</th>\n",
              "      <th>SB333AA</th>\n",
              "      <th>SB333AB</th>\n",
              "      <th>Deabetic</th>\n",
              "      <th>SBBM</th>\n",
              "    </tr>\n",
              "  </thead>\n",
              "  <tbody>\n",
              "    <tr>\n",
              "      <th>count</th>\n",
              "      <td>12299.000000</td>\n",
              "      <td>12299.000000</td>\n",
              "      <td>12299.000000</td>\n",
              "      <td>12299.000000</td>\n",
              "      <td>12299.000000</td>\n",
              "      <td>12299.000000</td>\n",
              "      <td>12299.000000</td>\n",
              "      <td>12292.000000</td>\n",
              "      <td>12292.000000</td>\n",
              "      <td>12292.000000</td>\n",
              "      <td>12299.000000</td>\n",
              "      <td>12299.000000</td>\n",
              "      <td>12299.000000</td>\n",
              "      <td>12299.000000</td>\n",
              "    </tr>\n",
              "    <tr>\n",
              "      <th>mean</th>\n",
              "      <td>4.519067</td>\n",
              "      <td>1.642816</td>\n",
              "      <td>3.060086</td>\n",
              "      <td>1.569233</td>\n",
              "      <td>39.847305</td>\n",
              "      <td>1.369786</td>\n",
              "      <td>15.645581</td>\n",
              "      <td>0.325740</td>\n",
              "      <td>0.074113</td>\n",
              "      <td>0.154979</td>\n",
              "      <td>123.346939</td>\n",
              "      <td>81.117001</td>\n",
              "      <td>0.510204</td>\n",
              "      <td>2328.192617</td>\n",
              "    </tr>\n",
              "    <tr>\n",
              "      <th>std</th>\n",
              "      <td>2.240941</td>\n",
              "      <td>0.479189</td>\n",
              "      <td>1.430126</td>\n",
              "      <td>0.495204</td>\n",
              "      <td>16.555463</td>\n",
              "      <td>1.035168</td>\n",
              "      <td>17.245654</td>\n",
              "      <td>0.481007</td>\n",
              "      <td>0.293598</td>\n",
              "      <td>0.392941</td>\n",
              "      <td>31.313292</td>\n",
              "      <td>27.006653</td>\n",
              "      <td>0.649848</td>\n",
              "      <td>924.122039</td>\n",
              "    </tr>\n",
              "    <tr>\n",
              "      <th>min</th>\n",
              "      <td>1.000000</td>\n",
              "      <td>1.000000</td>\n",
              "      <td>1.000000</td>\n",
              "      <td>1.000000</td>\n",
              "      <td>18.000000</td>\n",
              "      <td>0.000000</td>\n",
              "      <td>0.000000</td>\n",
              "      <td>0.000000</td>\n",
              "      <td>0.000000</td>\n",
              "      <td>0.000000</td>\n",
              "      <td>63.000000</td>\n",
              "      <td>38.000000</td>\n",
              "      <td>0.000000</td>\n",
              "      <td>1219.000000</td>\n",
              "    </tr>\n",
              "    <tr>\n",
              "      <th>25%</th>\n",
              "      <td>3.000000</td>\n",
              "      <td>1.000000</td>\n",
              "      <td>2.000000</td>\n",
              "      <td>1.000000</td>\n",
              "      <td>26.000000</td>\n",
              "      <td>1.000000</td>\n",
              "      <td>0.000000</td>\n",
              "      <td>0.000000</td>\n",
              "      <td>0.000000</td>\n",
              "      <td>0.000000</td>\n",
              "      <td>109.000000</td>\n",
              "      <td>73.000000</td>\n",
              "      <td>0.000000</td>\n",
              "      <td>1941.000000</td>\n",
              "    </tr>\n",
              "    <tr>\n",
              "      <th>50%</th>\n",
              "      <td>4.000000</td>\n",
              "      <td>2.000000</td>\n",
              "      <td>3.000000</td>\n",
              "      <td>2.000000</td>\n",
              "      <td>36.000000</td>\n",
              "      <td>1.000000</td>\n",
              "      <td>13.000000</td>\n",
              "      <td>0.000000</td>\n",
              "      <td>0.000000</td>\n",
              "      <td>0.000000</td>\n",
              "      <td>119.000000</td>\n",
              "      <td>80.000000</td>\n",
              "      <td>0.000000</td>\n",
              "      <td>2199.000000</td>\n",
              "    </tr>\n",
              "    <tr>\n",
              "      <th>75%</th>\n",
              "      <td>6.000000</td>\n",
              "      <td>2.000000</td>\n",
              "      <td>4.000000</td>\n",
              "      <td>2.000000</td>\n",
              "      <td>50.000000</td>\n",
              "      <td>2.000000</td>\n",
              "      <td>23.000000</td>\n",
              "      <td>1.000000</td>\n",
              "      <td>0.000000</td>\n",
              "      <td>0.000000</td>\n",
              "      <td>131.000000</td>\n",
              "      <td>87.000000</td>\n",
              "      <td>1.000000</td>\n",
              "      <td>2503.000000</td>\n",
              "    </tr>\n",
              "    <tr>\n",
              "      <th>max</th>\n",
              "      <td>8.000000</td>\n",
              "      <td>2.000000</td>\n",
              "      <td>5.000000</td>\n",
              "      <td>2.000000</td>\n",
              "      <td>95.000000</td>\n",
              "      <td>8.000000</td>\n",
              "      <td>99.000000</td>\n",
              "      <td>9.000000</td>\n",
              "      <td>9.000000</td>\n",
              "      <td>9.000000</td>\n",
              "      <td>996.000000</td>\n",
              "      <td>996.000000</td>\n",
              "      <td>2.000000</td>\n",
              "      <td>9999.000000</td>\n",
              "    </tr>\n",
              "  </tbody>\n",
              "</table>\n",
              "</div>"
            ],
            "text/plain": [
              "              HV024         HV025  ...      Deabetic          SBBM\n",
              "count  12299.000000  12299.000000  ...  12299.000000  12299.000000\n",
              "mean       4.519067      1.642816  ...      0.510204   2328.192617\n",
              "std        2.240941      0.479189  ...      0.649848    924.122039\n",
              "min        1.000000      1.000000  ...      0.000000   1219.000000\n",
              "25%        3.000000      1.000000  ...      0.000000   1941.000000\n",
              "50%        4.000000      2.000000  ...      0.000000   2199.000000\n",
              "75%        6.000000      2.000000  ...      1.000000   2503.000000\n",
              "max        8.000000      2.000000  ...      2.000000   9999.000000\n",
              "\n",
              "[8 rows x 14 columns]"
            ]
          },
          "metadata": {
            "tags": []
          },
          "execution_count": 14
        }
      ]
    },
    {
      "cell_type": "code",
      "metadata": {
        "colab": {
          "base_uri": "https://localhost:8080/"
        },
        "id": "ISnxrBA965C0",
        "outputId": "55103c72-b9c6-475b-b7a9-a9f56bf928b2"
      },
      "source": [
        "df.info()"
      ],
      "execution_count": 15,
      "outputs": [
        {
          "output_type": "stream",
          "text": [
            "<class 'pandas.core.frame.DataFrame'>\n",
            "RangeIndex: 12299 entries, 0 to 12298\n",
            "Data columns (total 14 columns):\n",
            " #   Column    Non-Null Count  Dtype  \n",
            "---  ------    --------------  -----  \n",
            " 0   HV024     12299 non-null  int64  \n",
            " 1   HV025     12299 non-null  int64  \n",
            " 2   HV270     12299 non-null  int64  \n",
            " 3   HV104     12299 non-null  int64  \n",
            " 4   HV105     12299 non-null  int64  \n",
            " 5   HV106     12299 non-null  int64  \n",
            " 6   SB308     12299 non-null  int64  \n",
            " 7   SB311A    12292 non-null  float64\n",
            " 8   SB311B    12292 non-null  float64\n",
            " 9   SB311C    12292 non-null  float64\n",
            " 10  SB333AA   12299 non-null  int64  \n",
            " 11  SB333AB   12299 non-null  int64  \n",
            " 12  Deabetic  12299 non-null  int64  \n",
            " 13  SBBM      12299 non-null  int64  \n",
            "dtypes: float64(3), int64(11)\n",
            "memory usage: 1.3 MB\n"
          ],
          "name": "stdout"
        }
      ]
    },
    {
      "cell_type": "code",
      "metadata": {
        "colab": {
          "base_uri": "https://localhost:8080/"
        },
        "id": "gVUOgoNi6_Rj",
        "outputId": "fc9e4ec8-aeff-486b-bc39-58556aea0604"
      },
      "source": [
        "df.shape"
      ],
      "execution_count": 16,
      "outputs": [
        {
          "output_type": "execute_result",
          "data": {
            "text/plain": [
              "(12299, 14)"
            ]
          },
          "metadata": {
            "tags": []
          },
          "execution_count": 16
        }
      ]
    },
    {
      "cell_type": "markdown",
      "metadata": {
        "id": "zCmB9ppO8gcv"
      },
      "source": [
        "##**Missing Data**"
      ]
    },
    {
      "cell_type": "code",
      "metadata": {
        "colab": {
          "base_uri": "https://localhost:8080/",
          "height": 407
        },
        "id": "LnBeB3iI8fcm",
        "outputId": "865c5b45-6148-47d5-e735-61e837624a81"
      },
      "source": [
        "df.isnull()"
      ],
      "execution_count": 17,
      "outputs": [
        {
          "output_type": "execute_result",
          "data": {
            "text/html": [
              "<div>\n",
              "<style scoped>\n",
              "    .dataframe tbody tr th:only-of-type {\n",
              "        vertical-align: middle;\n",
              "    }\n",
              "\n",
              "    .dataframe tbody tr th {\n",
              "        vertical-align: top;\n",
              "    }\n",
              "\n",
              "    .dataframe thead th {\n",
              "        text-align: right;\n",
              "    }\n",
              "</style>\n",
              "<table border=\"1\" class=\"dataframe\">\n",
              "  <thead>\n",
              "    <tr style=\"text-align: right;\">\n",
              "      <th></th>\n",
              "      <th>HV024</th>\n",
              "      <th>HV025</th>\n",
              "      <th>HV270</th>\n",
              "      <th>HV104</th>\n",
              "      <th>HV105</th>\n",
              "      <th>HV106</th>\n",
              "      <th>SB308</th>\n",
              "      <th>SB311A</th>\n",
              "      <th>SB311B</th>\n",
              "      <th>SB311C</th>\n",
              "      <th>SB333AA</th>\n",
              "      <th>SB333AB</th>\n",
              "      <th>Deabetic</th>\n",
              "      <th>SBBM</th>\n",
              "    </tr>\n",
              "  </thead>\n",
              "  <tbody>\n",
              "    <tr>\n",
              "      <th>0</th>\n",
              "      <td>False</td>\n",
              "      <td>False</td>\n",
              "      <td>False</td>\n",
              "      <td>False</td>\n",
              "      <td>False</td>\n",
              "      <td>False</td>\n",
              "      <td>False</td>\n",
              "      <td>False</td>\n",
              "      <td>False</td>\n",
              "      <td>False</td>\n",
              "      <td>False</td>\n",
              "      <td>False</td>\n",
              "      <td>False</td>\n",
              "      <td>False</td>\n",
              "    </tr>\n",
              "    <tr>\n",
              "      <th>1</th>\n",
              "      <td>False</td>\n",
              "      <td>False</td>\n",
              "      <td>False</td>\n",
              "      <td>False</td>\n",
              "      <td>False</td>\n",
              "      <td>False</td>\n",
              "      <td>False</td>\n",
              "      <td>False</td>\n",
              "      <td>False</td>\n",
              "      <td>False</td>\n",
              "      <td>False</td>\n",
              "      <td>False</td>\n",
              "      <td>False</td>\n",
              "      <td>False</td>\n",
              "    </tr>\n",
              "    <tr>\n",
              "      <th>2</th>\n",
              "      <td>False</td>\n",
              "      <td>False</td>\n",
              "      <td>False</td>\n",
              "      <td>False</td>\n",
              "      <td>False</td>\n",
              "      <td>False</td>\n",
              "      <td>False</td>\n",
              "      <td>False</td>\n",
              "      <td>False</td>\n",
              "      <td>False</td>\n",
              "      <td>False</td>\n",
              "      <td>False</td>\n",
              "      <td>False</td>\n",
              "      <td>False</td>\n",
              "    </tr>\n",
              "    <tr>\n",
              "      <th>3</th>\n",
              "      <td>False</td>\n",
              "      <td>False</td>\n",
              "      <td>False</td>\n",
              "      <td>False</td>\n",
              "      <td>False</td>\n",
              "      <td>False</td>\n",
              "      <td>False</td>\n",
              "      <td>False</td>\n",
              "      <td>False</td>\n",
              "      <td>False</td>\n",
              "      <td>False</td>\n",
              "      <td>False</td>\n",
              "      <td>False</td>\n",
              "      <td>False</td>\n",
              "    </tr>\n",
              "    <tr>\n",
              "      <th>4</th>\n",
              "      <td>False</td>\n",
              "      <td>False</td>\n",
              "      <td>False</td>\n",
              "      <td>False</td>\n",
              "      <td>False</td>\n",
              "      <td>False</td>\n",
              "      <td>False</td>\n",
              "      <td>False</td>\n",
              "      <td>False</td>\n",
              "      <td>False</td>\n",
              "      <td>False</td>\n",
              "      <td>False</td>\n",
              "      <td>False</td>\n",
              "      <td>False</td>\n",
              "    </tr>\n",
              "    <tr>\n",
              "      <th>...</th>\n",
              "      <td>...</td>\n",
              "      <td>...</td>\n",
              "      <td>...</td>\n",
              "      <td>...</td>\n",
              "      <td>...</td>\n",
              "      <td>...</td>\n",
              "      <td>...</td>\n",
              "      <td>...</td>\n",
              "      <td>...</td>\n",
              "      <td>...</td>\n",
              "      <td>...</td>\n",
              "      <td>...</td>\n",
              "      <td>...</td>\n",
              "      <td>...</td>\n",
              "    </tr>\n",
              "    <tr>\n",
              "      <th>12294</th>\n",
              "      <td>False</td>\n",
              "      <td>False</td>\n",
              "      <td>False</td>\n",
              "      <td>False</td>\n",
              "      <td>False</td>\n",
              "      <td>False</td>\n",
              "      <td>False</td>\n",
              "      <td>False</td>\n",
              "      <td>False</td>\n",
              "      <td>False</td>\n",
              "      <td>False</td>\n",
              "      <td>False</td>\n",
              "      <td>False</td>\n",
              "      <td>False</td>\n",
              "    </tr>\n",
              "    <tr>\n",
              "      <th>12295</th>\n",
              "      <td>False</td>\n",
              "      <td>False</td>\n",
              "      <td>False</td>\n",
              "      <td>False</td>\n",
              "      <td>False</td>\n",
              "      <td>False</td>\n",
              "      <td>False</td>\n",
              "      <td>False</td>\n",
              "      <td>False</td>\n",
              "      <td>False</td>\n",
              "      <td>False</td>\n",
              "      <td>False</td>\n",
              "      <td>False</td>\n",
              "      <td>False</td>\n",
              "    </tr>\n",
              "    <tr>\n",
              "      <th>12296</th>\n",
              "      <td>False</td>\n",
              "      <td>False</td>\n",
              "      <td>False</td>\n",
              "      <td>False</td>\n",
              "      <td>False</td>\n",
              "      <td>False</td>\n",
              "      <td>False</td>\n",
              "      <td>False</td>\n",
              "      <td>False</td>\n",
              "      <td>False</td>\n",
              "      <td>False</td>\n",
              "      <td>False</td>\n",
              "      <td>False</td>\n",
              "      <td>False</td>\n",
              "    </tr>\n",
              "    <tr>\n",
              "      <th>12297</th>\n",
              "      <td>False</td>\n",
              "      <td>False</td>\n",
              "      <td>False</td>\n",
              "      <td>False</td>\n",
              "      <td>False</td>\n",
              "      <td>False</td>\n",
              "      <td>False</td>\n",
              "      <td>False</td>\n",
              "      <td>False</td>\n",
              "      <td>False</td>\n",
              "      <td>False</td>\n",
              "      <td>False</td>\n",
              "      <td>False</td>\n",
              "      <td>False</td>\n",
              "    </tr>\n",
              "    <tr>\n",
              "      <th>12298</th>\n",
              "      <td>False</td>\n",
              "      <td>False</td>\n",
              "      <td>False</td>\n",
              "      <td>False</td>\n",
              "      <td>False</td>\n",
              "      <td>False</td>\n",
              "      <td>False</td>\n",
              "      <td>False</td>\n",
              "      <td>False</td>\n",
              "      <td>False</td>\n",
              "      <td>False</td>\n",
              "      <td>False</td>\n",
              "      <td>False</td>\n",
              "      <td>False</td>\n",
              "    </tr>\n",
              "  </tbody>\n",
              "</table>\n",
              "<p>12299 rows × 14 columns</p>\n",
              "</div>"
            ],
            "text/plain": [
              "       HV024  HV025  HV270  HV104  ...  SB333AA  SB333AB  Deabetic   SBBM\n",
              "0      False  False  False  False  ...    False    False     False  False\n",
              "1      False  False  False  False  ...    False    False     False  False\n",
              "2      False  False  False  False  ...    False    False     False  False\n",
              "3      False  False  False  False  ...    False    False     False  False\n",
              "4      False  False  False  False  ...    False    False     False  False\n",
              "...      ...    ...    ...    ...  ...      ...      ...       ...    ...\n",
              "12294  False  False  False  False  ...    False    False     False  False\n",
              "12295  False  False  False  False  ...    False    False     False  False\n",
              "12296  False  False  False  False  ...    False    False     False  False\n",
              "12297  False  False  False  False  ...    False    False     False  False\n",
              "12298  False  False  False  False  ...    False    False     False  False\n",
              "\n",
              "[12299 rows x 14 columns]"
            ]
          },
          "metadata": {
            "tags": []
          },
          "execution_count": 17
        }
      ]
    },
    {
      "cell_type": "code",
      "metadata": {
        "colab": {
          "base_uri": "https://localhost:8080/"
        },
        "id": "x8elaXK88xW5",
        "outputId": "d83e8cd4-277b-492b-a55c-6109a1a70957"
      },
      "source": [
        "df.isnull().sum()"
      ],
      "execution_count": 18,
      "outputs": [
        {
          "output_type": "execute_result",
          "data": {
            "text/plain": [
              "HV024       0\n",
              "HV025       0\n",
              "HV270       0\n",
              "HV104       0\n",
              "HV105       0\n",
              "HV106       0\n",
              "SB308       0\n",
              "SB311A      7\n",
              "SB311B      7\n",
              "SB311C      7\n",
              "SB333AA     0\n",
              "SB333AB     0\n",
              "Deabetic    0\n",
              "SBBM        0\n",
              "dtype: int64"
            ]
          },
          "metadata": {
            "tags": []
          },
          "execution_count": 18
        }
      ]
    },
    {
      "cell_type": "code",
      "metadata": {
        "colab": {
          "base_uri": "https://localhost:8080/",
          "height": 198
        },
        "id": "F95dYPfy9fqg",
        "outputId": "038a8ead-f4d6-405a-f69a-37e5f891391e"
      },
      "source": [
        "df2 = df.dropna()\n",
        "df2.tail()"
      ],
      "execution_count": 19,
      "outputs": [
        {
          "output_type": "execute_result",
          "data": {
            "text/html": [
              "<div>\n",
              "<style scoped>\n",
              "    .dataframe tbody tr th:only-of-type {\n",
              "        vertical-align: middle;\n",
              "    }\n",
              "\n",
              "    .dataframe tbody tr th {\n",
              "        vertical-align: top;\n",
              "    }\n",
              "\n",
              "    .dataframe thead th {\n",
              "        text-align: right;\n",
              "    }\n",
              "</style>\n",
              "<table border=\"1\" class=\"dataframe\">\n",
              "  <thead>\n",
              "    <tr style=\"text-align: right;\">\n",
              "      <th></th>\n",
              "      <th>HV024</th>\n",
              "      <th>HV025</th>\n",
              "      <th>HV270</th>\n",
              "      <th>HV104</th>\n",
              "      <th>HV105</th>\n",
              "      <th>HV106</th>\n",
              "      <th>SB308</th>\n",
              "      <th>SB311A</th>\n",
              "      <th>SB311B</th>\n",
              "      <th>SB311C</th>\n",
              "      <th>SB333AA</th>\n",
              "      <th>SB333AB</th>\n",
              "      <th>Deabetic</th>\n",
              "      <th>SBBM</th>\n",
              "    </tr>\n",
              "  </thead>\n",
              "  <tbody>\n",
              "    <tr>\n",
              "      <th>12294</th>\n",
              "      <td>8</td>\n",
              "      <td>1</td>\n",
              "      <td>5</td>\n",
              "      <td>2</td>\n",
              "      <td>33</td>\n",
              "      <td>2</td>\n",
              "      <td>0</td>\n",
              "      <td>1.0</td>\n",
              "      <td>0.0</td>\n",
              "      <td>1.0</td>\n",
              "      <td>129</td>\n",
              "      <td>96</td>\n",
              "      <td>1</td>\n",
              "      <td>2682</td>\n",
              "    </tr>\n",
              "    <tr>\n",
              "      <th>12295</th>\n",
              "      <td>8</td>\n",
              "      <td>1</td>\n",
              "      <td>5</td>\n",
              "      <td>2</td>\n",
              "      <td>20</td>\n",
              "      <td>2</td>\n",
              "      <td>31</td>\n",
              "      <td>0.0</td>\n",
              "      <td>0.0</td>\n",
              "      <td>0.0</td>\n",
              "      <td>110</td>\n",
              "      <td>79</td>\n",
              "      <td>1</td>\n",
              "      <td>2389</td>\n",
              "    </tr>\n",
              "    <tr>\n",
              "      <th>12296</th>\n",
              "      <td>8</td>\n",
              "      <td>1</td>\n",
              "      <td>5</td>\n",
              "      <td>1</td>\n",
              "      <td>62</td>\n",
              "      <td>2</td>\n",
              "      <td>31</td>\n",
              "      <td>0.0</td>\n",
              "      <td>0.0</td>\n",
              "      <td>0.0</td>\n",
              "      <td>114</td>\n",
              "      <td>69</td>\n",
              "      <td>1</td>\n",
              "      <td>2154</td>\n",
              "    </tr>\n",
              "    <tr>\n",
              "      <th>12297</th>\n",
              "      <td>8</td>\n",
              "      <td>1</td>\n",
              "      <td>5</td>\n",
              "      <td>2</td>\n",
              "      <td>51</td>\n",
              "      <td>1</td>\n",
              "      <td>0</td>\n",
              "      <td>1.0</td>\n",
              "      <td>0.0</td>\n",
              "      <td>1.0</td>\n",
              "      <td>130</td>\n",
              "      <td>79</td>\n",
              "      <td>0</td>\n",
              "      <td>2761</td>\n",
              "    </tr>\n",
              "    <tr>\n",
              "      <th>12298</th>\n",
              "      <td>8</td>\n",
              "      <td>1</td>\n",
              "      <td>5</td>\n",
              "      <td>2</td>\n",
              "      <td>80</td>\n",
              "      <td>0</td>\n",
              "      <td>0</td>\n",
              "      <td>1.0</td>\n",
              "      <td>1.0</td>\n",
              "      <td>0.0</td>\n",
              "      <td>142</td>\n",
              "      <td>71</td>\n",
              "      <td>1</td>\n",
              "      <td>1597</td>\n",
              "    </tr>\n",
              "  </tbody>\n",
              "</table>\n",
              "</div>"
            ],
            "text/plain": [
              "       HV024  HV025  HV270  HV104  ...  SB333AA  SB333AB  Deabetic  SBBM\n",
              "12294      8      1      5      2  ...      129       96         1  2682\n",
              "12295      8      1      5      2  ...      110       79         1  2389\n",
              "12296      8      1      5      1  ...      114       69         1  2154\n",
              "12297      8      1      5      2  ...      130       79         0  2761\n",
              "12298      8      1      5      2  ...      142       71         1  1597\n",
              "\n",
              "[5 rows x 14 columns]"
            ]
          },
          "metadata": {
            "tags": []
          },
          "execution_count": 19
        }
      ]
    },
    {
      "cell_type": "code",
      "metadata": {
        "colab": {
          "base_uri": "https://localhost:8080/",
          "height": 198
        },
        "id": "eyVTVGVG-Pni",
        "outputId": "e6c105ef-aef8-43dd-c061-0f364fdd3cda"
      },
      "source": [
        "df2 = df2.reset_index()\n",
        "df2 = df2.drop(columns=['index'])\n",
        "df2.tail()"
      ],
      "execution_count": 20,
      "outputs": [
        {
          "output_type": "execute_result",
          "data": {
            "text/html": [
              "<div>\n",
              "<style scoped>\n",
              "    .dataframe tbody tr th:only-of-type {\n",
              "        vertical-align: middle;\n",
              "    }\n",
              "\n",
              "    .dataframe tbody tr th {\n",
              "        vertical-align: top;\n",
              "    }\n",
              "\n",
              "    .dataframe thead th {\n",
              "        text-align: right;\n",
              "    }\n",
              "</style>\n",
              "<table border=\"1\" class=\"dataframe\">\n",
              "  <thead>\n",
              "    <tr style=\"text-align: right;\">\n",
              "      <th></th>\n",
              "      <th>HV024</th>\n",
              "      <th>HV025</th>\n",
              "      <th>HV270</th>\n",
              "      <th>HV104</th>\n",
              "      <th>HV105</th>\n",
              "      <th>HV106</th>\n",
              "      <th>SB308</th>\n",
              "      <th>SB311A</th>\n",
              "      <th>SB311B</th>\n",
              "      <th>SB311C</th>\n",
              "      <th>SB333AA</th>\n",
              "      <th>SB333AB</th>\n",
              "      <th>Deabetic</th>\n",
              "      <th>SBBM</th>\n",
              "    </tr>\n",
              "  </thead>\n",
              "  <tbody>\n",
              "    <tr>\n",
              "      <th>12287</th>\n",
              "      <td>8</td>\n",
              "      <td>1</td>\n",
              "      <td>5</td>\n",
              "      <td>2</td>\n",
              "      <td>33</td>\n",
              "      <td>2</td>\n",
              "      <td>0</td>\n",
              "      <td>1.0</td>\n",
              "      <td>0.0</td>\n",
              "      <td>1.0</td>\n",
              "      <td>129</td>\n",
              "      <td>96</td>\n",
              "      <td>1</td>\n",
              "      <td>2682</td>\n",
              "    </tr>\n",
              "    <tr>\n",
              "      <th>12288</th>\n",
              "      <td>8</td>\n",
              "      <td>1</td>\n",
              "      <td>5</td>\n",
              "      <td>2</td>\n",
              "      <td>20</td>\n",
              "      <td>2</td>\n",
              "      <td>31</td>\n",
              "      <td>0.0</td>\n",
              "      <td>0.0</td>\n",
              "      <td>0.0</td>\n",
              "      <td>110</td>\n",
              "      <td>79</td>\n",
              "      <td>1</td>\n",
              "      <td>2389</td>\n",
              "    </tr>\n",
              "    <tr>\n",
              "      <th>12289</th>\n",
              "      <td>8</td>\n",
              "      <td>1</td>\n",
              "      <td>5</td>\n",
              "      <td>1</td>\n",
              "      <td>62</td>\n",
              "      <td>2</td>\n",
              "      <td>31</td>\n",
              "      <td>0.0</td>\n",
              "      <td>0.0</td>\n",
              "      <td>0.0</td>\n",
              "      <td>114</td>\n",
              "      <td>69</td>\n",
              "      <td>1</td>\n",
              "      <td>2154</td>\n",
              "    </tr>\n",
              "    <tr>\n",
              "      <th>12290</th>\n",
              "      <td>8</td>\n",
              "      <td>1</td>\n",
              "      <td>5</td>\n",
              "      <td>2</td>\n",
              "      <td>51</td>\n",
              "      <td>1</td>\n",
              "      <td>0</td>\n",
              "      <td>1.0</td>\n",
              "      <td>0.0</td>\n",
              "      <td>1.0</td>\n",
              "      <td>130</td>\n",
              "      <td>79</td>\n",
              "      <td>0</td>\n",
              "      <td>2761</td>\n",
              "    </tr>\n",
              "    <tr>\n",
              "      <th>12291</th>\n",
              "      <td>8</td>\n",
              "      <td>1</td>\n",
              "      <td>5</td>\n",
              "      <td>2</td>\n",
              "      <td>80</td>\n",
              "      <td>0</td>\n",
              "      <td>0</td>\n",
              "      <td>1.0</td>\n",
              "      <td>1.0</td>\n",
              "      <td>0.0</td>\n",
              "      <td>142</td>\n",
              "      <td>71</td>\n",
              "      <td>1</td>\n",
              "      <td>1597</td>\n",
              "    </tr>\n",
              "  </tbody>\n",
              "</table>\n",
              "</div>"
            ],
            "text/plain": [
              "       HV024  HV025  HV270  HV104  ...  SB333AA  SB333AB  Deabetic  SBBM\n",
              "12287      8      1      5      2  ...      129       96         1  2682\n",
              "12288      8      1      5      2  ...      110       79         1  2389\n",
              "12289      8      1      5      1  ...      114       69         1  2154\n",
              "12290      8      1      5      2  ...      130       79         0  2761\n",
              "12291      8      1      5      2  ...      142       71         1  1597\n",
              "\n",
              "[5 rows x 14 columns]"
            ]
          },
          "metadata": {
            "tags": []
          },
          "execution_count": 20
        }
      ]
    },
    {
      "cell_type": "code",
      "metadata": {
        "colab": {
          "base_uri": "https://localhost:8080/",
          "height": 297
        },
        "id": "lN-0KHdj-aPD",
        "outputId": "38cabf3a-4a7a-43b8-8832-412fc6d5738b"
      },
      "source": [
        "sns.set_style('whitegrid')\n",
        "sns.countplot(x= 'Deabetic',data= df2)"
      ],
      "execution_count": 21,
      "outputs": [
        {
          "output_type": "execute_result",
          "data": {
            "text/plain": [
              "<matplotlib.axes._subplots.AxesSubplot at 0x7f279a603590>"
            ]
          },
          "metadata": {
            "tags": []
          },
          "execution_count": 21
        },
        {
          "output_type": "display_data",
          "data": {
            "image/png": "[encoded data removed]",
            "text/plain": [
              "<Figure size 432x288 with 1 Axes>"
            ]
          },
          "metadata": {
            "tags": []
          }
        }
      ]
    },
    {
      "cell_type": "markdown",
      "metadata": {
        "id": "T464GGnXFxv8"
      },
      "source": [
        "**There are three categories of diabetics (0,1,2). 0 means no diabetes, 1 means type 1 diabetic, 2 means type 2 diabetic. But we want to predict whether the patient has diabetes or not. We, therefore, group together all type 1 and type 2 diabetic patients in the same category.**"
      ]
    },
    {
      "cell_type": "code",
      "metadata": {
        "id": "RrU3ktUfHztT"
      },
      "source": [
        "filt = ((df2['Deabetic'] == 1) | (df2['Deabetic'] == 2))\n",
        "df3 = df2.copy()\n",
        "df3.loc[filt, 'Deabetic'] = 1"
      ],
      "execution_count": 22,
      "outputs": []
    },
    {
      "cell_type": "code",
      "metadata": {
        "colab": {
          "base_uri": "https://localhost:8080/",
          "height": 297
        },
        "id": "aGAmCb3dXRz5",
        "outputId": "b595aa43-a22c-4021-9964-8f2ddf935364"
      },
      "source": [
        "sns.set_style('whitegrid')\n",
        "sns.countplot(x= 'Deabetic',data= df3)"
      ],
      "execution_count": 23,
      "outputs": [
        {
          "output_type": "execute_result",
          "data": {
            "text/plain": [
              "<matplotlib.axes._subplots.AxesSubplot at 0x7f279abff210>"
            ]
          },
          "metadata": {
            "tags": []
          },
          "execution_count": 23
        },
        {
          "output_type": "display_data",
          "data": {
            "image/png": "[encoded data removed]",
            "text/plain": [
              "<Figure size 432x288 with 1 Axes>"
            ]
          },
          "metadata": {
            "tags": []
          }
        }
      ]
    },
    {
      "cell_type": "markdown",
      "metadata": {
        "id": "dJD5jgZwY0EE"
      },
      "source": [
        "###***Visualization based on SEX***"
      ]
    },
    {
      "cell_type": "code",
      "metadata": {
        "colab": {
          "base_uri": "https://localhost:8080/",
          "height": 297
        },
        "id": "d0Z1KRccblQ4",
        "outputId": "a3856469-6059-4ff3-893e-384140f86f01"
      },
      "source": [
        "sns.set_style('whitegrid')\n",
        "sns.countplot(x= 'HV104',data= df3)"
      ],
      "execution_count": 24,
      "outputs": [
        {
          "output_type": "execute_result",
          "data": {
            "text/plain": [
              "<matplotlib.axes._subplots.AxesSubplot at 0x7f279a4cc510>"
            ]
          },
          "metadata": {
            "tags": []
          },
          "execution_count": 24
        },
        {
          "output_type": "display_data",
          "data": {
            "image/png": "[encoded data removed]",
            "text/plain": [
              "<Figure size 432x288 with 1 Axes>"
            ]
          },
          "metadata": {
            "tags": []
          }
        }
      ]
    },
    {
      "cell_type": "code",
      "metadata": {
        "colab": {
          "base_uri": "https://localhost:8080/",
          "height": 297
        },
        "id": "g7tYi1pdYikZ",
        "outputId": "7346e174-47b9-4807-e31b-f091001f42b2"
      },
      "source": [
        "sns.set_style('whitegrid')\n",
        "sns.countplot(x='Deabetic', hue='HV104', data=df3, palette='RdBu_r')"
      ],
      "execution_count": 25,
      "outputs": [
        {
          "output_type": "execute_result",
          "data": {
            "text/plain": [
              "<matplotlib.axes._subplots.AxesSubplot at 0x7f279a4ad590>"
            ]
          },
          "metadata": {
            "tags": []
          },
          "execution_count": 25
        },
        {
          "output_type": "display_data",
          "data": {
            "image/png": "[encoded data removed]",
            "text/plain": [
              "<Figure size 432x288 with 1 Axes>"
            ]
          },
          "metadata": {
            "tags": []
          }
        }
      ]
    },
    {
      "cell_type": "markdown",
      "metadata": {
        "id": "yli3iF2iqOwZ"
      },
      "source": [
        "###***Visualization of Eating Anything***"
      ]
    },
    {
      "cell_type": "code",
      "metadata": {
        "colab": {
          "base_uri": "https://localhost:8080/"
        },
        "id": "hvNjtT0eqWds",
        "outputId": "32a807e0-80a1-4b3f-fc7b-3a4d7ca6e3c5"
      },
      "source": [
        "df3['SB311A'].value_counts()"
      ],
      "execution_count": 26,
      "outputs": [
        {
          "output_type": "execute_result",
          "data": {
            "text/plain": [
              "0.0    8304\n",
              "1.0    3986\n",
              "9.0       2\n",
              "Name: SB311A, dtype: int64"
            ]
          },
          "metadata": {
            "tags": []
          },
          "execution_count": 26
        }
      ]
    },
    {
      "cell_type": "code",
      "metadata": {
        "colab": {
          "base_uri": "https://localhost:8080/",
          "height": 198
        },
        "id": "8BhSBYWsqpQw",
        "outputId": "8c450e32-6393-4a1f-92dc-76388d352ff4"
      },
      "source": [
        "filt = df3['SB311A'] == 9.0\n",
        "df3.loc[filt, 'SB311A'] = np.nan\n",
        "df4 = df3.dropna()\n",
        "df4 = df4.reset_index()\n",
        "df4 = df4.drop(columns = {'index'})\n",
        "df4.tail()"
      ],
      "execution_count": 27,
      "outputs": [
        {
          "output_type": "execute_result",
          "data": {
            "text/html": [
              "<div>\n",
              "<style scoped>\n",
              "    .dataframe tbody tr th:only-of-type {\n",
              "        vertical-align: middle;\n",
              "    }\n",
              "\n",
              "    .dataframe tbody tr th {\n",
              "        vertical-align: top;\n",
              "    }\n",
              "\n",
              "    .dataframe thead th {\n",
              "        text-align: right;\n",
              "    }\n",
              "</style>\n",
              "<table border=\"1\" class=\"dataframe\">\n",
              "  <thead>\n",
              "    <tr style=\"text-align: right;\">\n",
              "      <th></th>\n",
              "      <th>HV024</th>\n",
              "      <th>HV025</th>\n",
              "      <th>HV270</th>\n",
              "      <th>HV104</th>\n",
              "      <th>HV105</th>\n",
              "      <th>HV106</th>\n",
              "      <th>SB308</th>\n",
              "      <th>SB311A</th>\n",
              "      <th>SB311B</th>\n",
              "      <th>SB311C</th>\n",
              "      <th>SB333AA</th>\n",
              "      <th>SB333AB</th>\n",
              "      <th>Deabetic</th>\n",
              "      <th>SBBM</th>\n",
              "    </tr>\n",
              "  </thead>\n",
              "  <tbody>\n",
              "    <tr>\n",
              "      <th>12285</th>\n",
              "      <td>8</td>\n",
              "      <td>1</td>\n",
              "      <td>5</td>\n",
              "      <td>2</td>\n",
              "      <td>33</td>\n",
              "      <td>2</td>\n",
              "      <td>0</td>\n",
              "      <td>1.0</td>\n",
              "      <td>0.0</td>\n",
              "      <td>1.0</td>\n",
              "      <td>129</td>\n",
              "      <td>96</td>\n",
              "      <td>1</td>\n",
              "      <td>2682</td>\n",
              "    </tr>\n",
              "    <tr>\n",
              "      <th>12286</th>\n",
              "      <td>8</td>\n",
              "      <td>1</td>\n",
              "      <td>5</td>\n",
              "      <td>2</td>\n",
              "      <td>20</td>\n",
              "      <td>2</td>\n",
              "      <td>31</td>\n",
              "      <td>0.0</td>\n",
              "      <td>0.0</td>\n",
              "      <td>0.0</td>\n",
              "      <td>110</td>\n",
              "      <td>79</td>\n",
              "      <td>1</td>\n",
              "      <td>2389</td>\n",
              "    </tr>\n",
              "    <tr>\n",
              "      <th>12287</th>\n",
              "      <td>8</td>\n",
              "      <td>1</td>\n",
              "      <td>5</td>\n",
              "      <td>1</td>\n",
              "      <td>62</td>\n",
              "      <td>2</td>\n",
              "      <td>31</td>\n",
              "      <td>0.0</td>\n",
              "      <td>0.0</td>\n",
              "      <td>0.0</td>\n",
              "      <td>114</td>\n",
              "      <td>69</td>\n",
              "      <td>1</td>\n",
              "      <td>2154</td>\n",
              "    </tr>\n",
              "    <tr>\n",
              "      <th>12288</th>\n",
              "      <td>8</td>\n",
              "      <td>1</td>\n",
              "      <td>5</td>\n",
              "      <td>2</td>\n",
              "      <td>51</td>\n",
              "      <td>1</td>\n",
              "      <td>0</td>\n",
              "      <td>1.0</td>\n",
              "      <td>0.0</td>\n",
              "      <td>1.0</td>\n",
              "      <td>130</td>\n",
              "      <td>79</td>\n",
              "      <td>0</td>\n",
              "      <td>2761</td>\n",
              "    </tr>\n",
              "    <tr>\n",
              "      <th>12289</th>\n",
              "      <td>8</td>\n",
              "      <td>1</td>\n",
              "      <td>5</td>\n",
              "      <td>2</td>\n",
              "      <td>80</td>\n",
              "      <td>0</td>\n",
              "      <td>0</td>\n",
              "      <td>1.0</td>\n",
              "      <td>1.0</td>\n",
              "      <td>0.0</td>\n",
              "      <td>142</td>\n",
              "      <td>71</td>\n",
              "      <td>1</td>\n",
              "      <td>1597</td>\n",
              "    </tr>\n",
              "  </tbody>\n",
              "</table>\n",
              "</div>"
            ],
            "text/plain": [
              "       HV024  HV025  HV270  HV104  ...  SB333AA  SB333AB  Deabetic  SBBM\n",
              "12285      8      1      5      2  ...      129       96         1  2682\n",
              "12286      8      1      5      2  ...      110       79         1  2389\n",
              "12287      8      1      5      1  ...      114       69         1  2154\n",
              "12288      8      1      5      2  ...      130       79         0  2761\n",
              "12289      8      1      5      2  ...      142       71         1  1597\n",
              "\n",
              "[5 rows x 14 columns]"
            ]
          },
          "metadata": {
            "tags": []
          },
          "execution_count": 27
        }
      ]
    },
    {
      "cell_type": "code",
      "metadata": {
        "colab": {
          "base_uri": "https://localhost:8080/",
          "height": 301
        },
        "id": "r_RW7Rhbr6av",
        "outputId": "0c6d3d51-98b6-4849-d432-453dd020cd52"
      },
      "source": [
        "sns.set_style('whitegrid')\n",
        "sns.countplot(x='Deabetic', hue='SB311A', data=df4, palette='RdBu_r')"
      ],
      "execution_count": 28,
      "outputs": [
        {
          "output_type": "execute_result",
          "data": {
            "text/plain": [
              "<matplotlib.axes._subplots.AxesSubplot at 0x7f279a53c5d0>"
            ]
          },
          "metadata": {
            "tags": []
          },
          "execution_count": 28
        },
        {
          "output_type": "display_data",
          "data": {
            "image/png": "[encoded data removed]",
            "text/plain": [
              "<Figure size 432x288 with 1 Axes>"
            ]
          },
          "metadata": {
            "tags": []
          }
        }
      ]
    },
    {
      "cell_type": "markdown",
      "metadata": {
        "id": "ZRgAx1PnsC0X"
      },
      "source": [
        "###***Visualization based on Caffeinated drink***"
      ]
    },
    {
      "cell_type": "code",
      "metadata": {
        "colab": {
          "base_uri": "https://localhost:8080/"
        },
        "id": "s9-sJ2e3r_8D",
        "outputId": "3bfcc94e-8d8c-4943-8718-aca8dd3f0fc7"
      },
      "source": [
        "df4['SB311B'].value_counts()"
      ],
      "execution_count": 29,
      "outputs": [
        {
          "output_type": "execute_result",
          "data": {
            "text/plain": [
              "0.0    11405\n",
              "1.0      884\n",
              "9.0        1\n",
              "Name: SB311B, dtype: int64"
            ]
          },
          "metadata": {
            "tags": []
          },
          "execution_count": 29
        }
      ]
    },
    {
      "cell_type": "code",
      "metadata": {
        "colab": {
          "base_uri": "https://localhost:8080/",
          "height": 198
        },
        "id": "Nsz3qeU2sZLN",
        "outputId": "febaf19f-8587-4327-cd2f-e7166b18bc3a"
      },
      "source": [
        "filt = df4['SB311B'] == 9.0\n",
        "df4.loc[filt, 'SB311B'] = np.nan\n",
        "df5 = df4.dropna()\n",
        "df5 = df5.reset_index()\n",
        "df5 = df5.drop(columns = {'index'})\n",
        "df5.tail()"
      ],
      "execution_count": 30,
      "outputs": [
        {
          "output_type": "execute_result",
          "data": {
            "text/html": [
              "<div>\n",
              "<style scoped>\n",
              "    .dataframe tbody tr th:only-of-type {\n",
              "        vertical-align: middle;\n",
              "    }\n",
              "\n",
              "    .dataframe tbody tr th {\n",
              "        vertical-align: top;\n",
              "    }\n",
              "\n",
              "    .dataframe thead th {\n",
              "        text-align: right;\n",
              "    }\n",
              "</style>\n",
              "<table border=\"1\" class=\"dataframe\">\n",
              "  <thead>\n",
              "    <tr style=\"text-align: right;\">\n",
              "      <th></th>\n",
              "      <th>HV024</th>\n",
              "      <th>HV025</th>\n",
              "      <th>HV270</th>\n",
              "      <th>HV104</th>\n",
              "      <th>HV105</th>\n",
              "      <th>HV106</th>\n",
              "      <th>SB308</th>\n",
              "      <th>SB311A</th>\n",
              "      <th>SB311B</th>\n",
              "      <th>SB311C</th>\n",
              "      <th>SB333AA</th>\n",
              "      <th>SB333AB</th>\n",
              "      <th>Deabetic</th>\n",
              "      <th>SBBM</th>\n",
              "    </tr>\n",
              "  </thead>\n",
              "  <tbody>\n",
              "    <tr>\n",
              "      <th>12284</th>\n",
              "      <td>8</td>\n",
              "      <td>1</td>\n",
              "      <td>5</td>\n",
              "      <td>2</td>\n",
              "      <td>33</td>\n",
              "      <td>2</td>\n",
              "      <td>0</td>\n",
              "      <td>1.0</td>\n",
              "      <td>0.0</td>\n",
              "      <td>1.0</td>\n",
              "      <td>129</td>\n",
              "      <td>96</td>\n",
              "      <td>1</td>\n",
              "      <td>2682</td>\n",
              "    </tr>\n",
              "    <tr>\n",
              "      <th>12285</th>\n",
              "      <td>8</td>\n",
              "      <td>1</td>\n",
              "      <td>5</td>\n",
              "      <td>2</td>\n",
              "      <td>20</td>\n",
              "      <td>2</td>\n",
              "      <td>31</td>\n",
              "      <td>0.0</td>\n",
              "      <td>0.0</td>\n",
              "      <td>0.0</td>\n",
              "      <td>110</td>\n",
              "      <td>79</td>\n",
              "      <td>1</td>\n",
              "      <td>2389</td>\n",
              "    </tr>\n",
              "    <tr>\n",
              "      <th>12286</th>\n",
              "      <td>8</td>\n",
              "      <td>1</td>\n",
              "      <td>5</td>\n",
              "      <td>1</td>\n",
              "      <td>62</td>\n",
              "      <td>2</td>\n",
              "      <td>31</td>\n",
              "      <td>0.0</td>\n",
              "      <td>0.0</td>\n",
              "      <td>0.0</td>\n",
              "      <td>114</td>\n",
              "      <td>69</td>\n",
              "      <td>1</td>\n",
              "      <td>2154</td>\n",
              "    </tr>\n",
              "    <tr>\n",
              "      <th>12287</th>\n",
              "      <td>8</td>\n",
              "      <td>1</td>\n",
              "      <td>5</td>\n",
              "      <td>2</td>\n",
              "      <td>51</td>\n",
              "      <td>1</td>\n",
              "      <td>0</td>\n",
              "      <td>1.0</td>\n",
              "      <td>0.0</td>\n",
              "      <td>1.0</td>\n",
              "      <td>130</td>\n",
              "      <td>79</td>\n",
              "      <td>0</td>\n",
              "      <td>2761</td>\n",
              "    </tr>\n",
              "    <tr>\n",
              "      <th>12288</th>\n",
              "      <td>8</td>\n",
              "      <td>1</td>\n",
              "      <td>5</td>\n",
              "      <td>2</td>\n",
              "      <td>80</td>\n",
              "      <td>0</td>\n",
              "      <td>0</td>\n",
              "      <td>1.0</td>\n",
              "      <td>1.0</td>\n",
              "      <td>0.0</td>\n",
              "      <td>142</td>\n",
              "      <td>71</td>\n",
              "      <td>1</td>\n",
              "      <td>1597</td>\n",
              "    </tr>\n",
              "  </tbody>\n",
              "</table>\n",
              "</div>"
            ],
            "text/plain": [
              "       HV024  HV025  HV270  HV104  ...  SB333AA  SB333AB  Deabetic  SBBM\n",
              "12284      8      1      5      2  ...      129       96         1  2682\n",
              "12285      8      1      5      2  ...      110       79         1  2389\n",
              "12286      8      1      5      1  ...      114       69         1  2154\n",
              "12287      8      1      5      2  ...      130       79         0  2761\n",
              "12288      8      1      5      2  ...      142       71         1  1597\n",
              "\n",
              "[5 rows x 14 columns]"
            ]
          },
          "metadata": {
            "tags": []
          },
          "execution_count": 30
        }
      ]
    },
    {
      "cell_type": "code",
      "metadata": {
        "colab": {
          "base_uri": "https://localhost:8080/",
          "height": 297
        },
        "id": "y2N7UPJUsb9y",
        "outputId": "2e20e4b8-1268-45b3-82b7-f7d2c3f40d92"
      },
      "source": [
        "sns.set_style('whitegrid')\n",
        "sns.countplot(x='Deabetic', hue='SB311B', data=df5, palette='RdBu_r')"
      ],
      "execution_count": 31,
      "outputs": [
        {
          "output_type": "execute_result",
          "data": {
            "text/plain": [
              "<matplotlib.axes._subplots.AxesSubplot at 0x7f279a3979d0>"
            ]
          },
          "metadata": {
            "tags": []
          },
          "execution_count": 31
        },
        {
          "output_type": "display_data",
          "data": {
            "image/png": "[encoded data removed]",
            "text/plain": [
              "<Figure size 432x288 with 1 Axes>"
            ]
          },
          "metadata": {
            "tags": []
          }
        }
      ]
    },
    {
      "cell_type": "markdown",
      "metadata": {
        "id": "b39Ke1Bta2XT"
      },
      "source": [
        "###***Visualization based on Smoker***"
      ]
    },
    {
      "cell_type": "code",
      "metadata": {
        "colab": {
          "base_uri": "https://localhost:8080/"
        },
        "id": "cdZDGSn2b5FF",
        "outputId": "004c4369-e21d-48fc-b993-373933580e32"
      },
      "source": [
        "df5['SB311C'].value_counts()"
      ],
      "execution_count": 32,
      "outputs": [
        {
          "output_type": "execute_result",
          "data": {
            "text/plain": [
              "0.0    10419\n",
              "1.0     1869\n",
              "9.0        1\n",
              "Name: SB311C, dtype: int64"
            ]
          },
          "metadata": {
            "tags": []
          },
          "execution_count": 32
        }
      ]
    },
    {
      "cell_type": "code",
      "metadata": {
        "colab": {
          "base_uri": "https://localhost:8080/",
          "height": 198
        },
        "id": "0E8JekYPdmzC",
        "outputId": "c89f8031-f5f8-44bd-bcdd-d19f1789264c"
      },
      "source": [
        "filt = df5['SB311C'] == 9.0\n",
        "df5.loc[filt, 'SB311C'] = np.nan\n",
        "df6 = df5.dropna()\n",
        "df6 = df6.reset_index()\n",
        "df6 = df6.drop(columns = {'index'})\n",
        "df6.tail()"
      ],
      "execution_count": 33,
      "outputs": [
        {
          "output_type": "execute_result",
          "data": {
            "text/html": [
              "<div>\n",
              "<style scoped>\n",
              "    .dataframe tbody tr th:only-of-type {\n",
              "        vertical-align: middle;\n",
              "    }\n",
              "\n",
              "    .dataframe tbody tr th {\n",
              "        vertical-align: top;\n",
              "    }\n",
              "\n",
              "    .dataframe thead th {\n",
              "        text-align: right;\n",
              "    }\n",
              "</style>\n",
              "<table border=\"1\" class=\"dataframe\">\n",
              "  <thead>\n",
              "    <tr style=\"text-align: right;\">\n",
              "      <th></th>\n",
              "      <th>HV024</th>\n",
              "      <th>HV025</th>\n",
              "      <th>HV270</th>\n",
              "      <th>HV104</th>\n",
              "      <th>HV105</th>\n",
              "      <th>HV106</th>\n",
              "      <th>SB308</th>\n",
              "      <th>SB311A</th>\n",
              "      <th>SB311B</th>\n",
              "      <th>SB311C</th>\n",
              "      <th>SB333AA</th>\n",
              "      <th>SB333AB</th>\n",
              "      <th>Deabetic</th>\n",
              "      <th>SBBM</th>\n",
              "    </tr>\n",
              "  </thead>\n",
              "  <tbody>\n",
              "    <tr>\n",
              "      <th>12283</th>\n",
              "      <td>8</td>\n",
              "      <td>1</td>\n",
              "      <td>5</td>\n",
              "      <td>2</td>\n",
              "      <td>33</td>\n",
              "      <td>2</td>\n",
              "      <td>0</td>\n",
              "      <td>1.0</td>\n",
              "      <td>0.0</td>\n",
              "      <td>1.0</td>\n",
              "      <td>129</td>\n",
              "      <td>96</td>\n",
              "      <td>1</td>\n",
              "      <td>2682</td>\n",
              "    </tr>\n",
              "    <tr>\n",
              "      <th>12284</th>\n",
              "      <td>8</td>\n",
              "      <td>1</td>\n",
              "      <td>5</td>\n",
              "      <td>2</td>\n",
              "      <td>20</td>\n",
              "      <td>2</td>\n",
              "      <td>31</td>\n",
              "      <td>0.0</td>\n",
              "      <td>0.0</td>\n",
              "      <td>0.0</td>\n",
              "      <td>110</td>\n",
              "      <td>79</td>\n",
              "      <td>1</td>\n",
              "      <td>2389</td>\n",
              "    </tr>\n",
              "    <tr>\n",
              "      <th>12285</th>\n",
              "      <td>8</td>\n",
              "      <td>1</td>\n",
              "      <td>5</td>\n",
              "      <td>1</td>\n",
              "      <td>62</td>\n",
              "      <td>2</td>\n",
              "      <td>31</td>\n",
              "      <td>0.0</td>\n",
              "      <td>0.0</td>\n",
              "      <td>0.0</td>\n",
              "      <td>114</td>\n",
              "      <td>69</td>\n",
              "      <td>1</td>\n",
              "      <td>2154</td>\n",
              "    </tr>\n",
              "    <tr>\n",
              "      <th>12286</th>\n",
              "      <td>8</td>\n",
              "      <td>1</td>\n",
              "      <td>5</td>\n",
              "      <td>2</td>\n",
              "      <td>51</td>\n",
              "      <td>1</td>\n",
              "      <td>0</td>\n",
              "      <td>1.0</td>\n",
              "      <td>0.0</td>\n",
              "      <td>1.0</td>\n",
              "      <td>130</td>\n",
              "      <td>79</td>\n",
              "      <td>0</td>\n",
              "      <td>2761</td>\n",
              "    </tr>\n",
              "    <tr>\n",
              "      <th>12287</th>\n",
              "      <td>8</td>\n",
              "      <td>1</td>\n",
              "      <td>5</td>\n",
              "      <td>2</td>\n",
              "      <td>80</td>\n",
              "      <td>0</td>\n",
              "      <td>0</td>\n",
              "      <td>1.0</td>\n",
              "      <td>1.0</td>\n",
              "      <td>0.0</td>\n",
              "      <td>142</td>\n",
              "      <td>71</td>\n",
              "      <td>1</td>\n",
              "      <td>1597</td>\n",
              "    </tr>\n",
              "  </tbody>\n",
              "</table>\n",
              "</div>"
            ],
            "text/plain": [
              "       HV024  HV025  HV270  HV104  ...  SB333AA  SB333AB  Deabetic  SBBM\n",
              "12283      8      1      5      2  ...      129       96         1  2682\n",
              "12284      8      1      5      2  ...      110       79         1  2389\n",
              "12285      8      1      5      1  ...      114       69         1  2154\n",
              "12286      8      1      5      2  ...      130       79         0  2761\n",
              "12287      8      1      5      2  ...      142       71         1  1597\n",
              "\n",
              "[5 rows x 14 columns]"
            ]
          },
          "metadata": {
            "tags": []
          },
          "execution_count": 33
        }
      ]
    },
    {
      "cell_type": "code",
      "metadata": {
        "colab": {
          "base_uri": "https://localhost:8080/",
          "height": 297
        },
        "id": "RuskQ1IJaynl",
        "outputId": "1d3a9b3f-4a5f-4ffb-ab90-712c28b0afbc"
      },
      "source": [
        "sns.set_style('whitegrid')\n",
        "sns.countplot(x='Deabetic', hue='SB311C', data=df6, palette='RdBu_r')"
      ],
      "execution_count": 34,
      "outputs": [
        {
          "output_type": "execute_result",
          "data": {
            "text/plain": [
              "<matplotlib.axes._subplots.AxesSubplot at 0x7f2798c05990>"
            ]
          },
          "metadata": {
            "tags": []
          },
          "execution_count": 34
        },
        {
          "output_type": "display_data",
          "data": {
            "image/png": "[encoded data removed]",
            "text/plain": [
              "<Figure size 432x288 with 1 Axes>"
            ]
          },
          "metadata": {
            "tags": []
          }
        }
      ]
    },
    {
      "cell_type": "markdown",
      "metadata": {
        "id": "y24zhx4XqX_a"
      },
      "source": [
        "###***Visualization based on age***"
      ]
    },
    {
      "cell_type": "code",
      "metadata": {
        "colab": {
          "base_uri": "https://localhost:8080/",
          "height": 354
        },
        "id": "gCNQRRrFwHAm",
        "outputId": "59ee7845-2f5f-479b-d832-dcf682612a05"
      },
      "source": [
        "sns.distplot(df6['HV105'],kde=False,color='darkred',bins=10)"
      ],
      "execution_count": 37,
      "outputs": [
        {
          "output_type": "stream",
          "text": [
            "/usr/local/lib/python3.7/dist-packages/seaborn/distributions.py:2557: FutureWarning: `distplot` is a deprecated function and will be removed in a future version. Please adapt your code to use either `displot` (a figure-level function with similar flexibility) or `histplot` (an axes-level function for histograms).\n",
            "  warnings.warn(msg, FutureWarning)\n"
          ],
          "name": "stderr"
        },
        {
          "output_type": "execute_result",
          "data": {
            "text/plain": [
              "<matplotlib.axes._subplots.AxesSubplot at 0x7f27900cff90>"
            ]
          },
          "metadata": {
            "tags": []
          },
          "execution_count": 37
        },
        {
          "output_type": "display_data",
          "data": {
            "image/png": "[encoded data removed]",
            "text/plain": [
              "<Figure size 432x288 with 1 Axes>"
            ]
          },
          "metadata": {
            "tags": []
          }
        }
      ]
    },
    {
      "cell_type": "markdown",
      "metadata": {
        "id": "NIzSWFBapcXO"
      },
      "source": [
        "#**Feature Extraction**"
      ]
    },
    {
      "cell_type": "markdown",
      "metadata": {
        "id": "GdcwJTXhppjZ"
      },
      "source": [
        "###***Correlation Heatmap***"
      ]
    },
    {
      "cell_type": "code",
      "metadata": {
        "colab": {
          "base_uri": "https://localhost:8080/",
          "height": 468
        },
        "id": "D_Qoh1Idupn5",
        "outputId": "e21e6413-51df-4015-e55f-fe7239015498"
      },
      "source": [
        "df6.corr()"
      ],
      "execution_count": 35,
      "outputs": [
        {
          "output_type": "execute_result",
          "data": {
            "text/html": [
              "<div>\n",
              "<style scoped>\n",
              "    .dataframe tbody tr th:only-of-type {\n",
              "        vertical-align: middle;\n",
              "    }\n",
              "\n",
              "    .dataframe tbody tr th {\n",
              "        vertical-align: top;\n",
              "    }\n",
              "\n",
              "    .dataframe thead th {\n",
              "        text-align: right;\n",
              "    }\n",
              "</style>\n",
              "<table border=\"1\" class=\"dataframe\">\n",
              "  <thead>\n",
              "    <tr style=\"text-align: right;\">\n",
              "      <th></th>\n",
              "      <th>HV024</th>\n",
              "      <th>HV025</th>\n",
              "      <th>HV270</th>\n",
              "      <th>HV104</th>\n",
              "      <th>HV105</th>\n",
              "      <th>HV106</th>\n",
              "      <th>SB308</th>\n",
              "      <th>SB311A</th>\n",
              "      <th>SB311B</th>\n",
              "      <th>SB311C</th>\n",
              "      <th>SB333AA</th>\n",
              "      <th>SB333AB</th>\n",
              "      <th>Deabetic</th>\n",
              "      <th>SBBM</th>\n",
              "    </tr>\n",
              "  </thead>\n",
              "  <tbody>\n",
              "    <tr>\n",
              "      <th>HV024</th>\n",
              "      <td>1.000000</td>\n",
              "      <td>0.070776</td>\n",
              "      <td>-0.108893</td>\n",
              "      <td>-0.016370</td>\n",
              "      <td>-0.009034</td>\n",
              "      <td>-0.061918</td>\n",
              "      <td>0.013153</td>\n",
              "      <td>-0.029899</td>\n",
              "      <td>-0.035602</td>\n",
              "      <td>0.001517</td>\n",
              "      <td>-0.002284</td>\n",
              "      <td>-0.003957</td>\n",
              "      <td>-0.092038</td>\n",
              "      <td>-0.043673</td>\n",
              "    </tr>\n",
              "    <tr>\n",
              "      <th>HV025</th>\n",
              "      <td>0.070776</td>\n",
              "      <td>1.000000</td>\n",
              "      <td>-0.404334</td>\n",
              "      <td>0.019461</td>\n",
              "      <td>0.059471</td>\n",
              "      <td>-0.150111</td>\n",
              "      <td>-0.097858</td>\n",
              "      <td>0.028181</td>\n",
              "      <td>-0.053358</td>\n",
              "      <td>0.049521</td>\n",
              "      <td>-0.015628</td>\n",
              "      <td>-0.038648</td>\n",
              "      <td>-0.081210</td>\n",
              "      <td>-0.054240</td>\n",
              "    </tr>\n",
              "    <tr>\n",
              "      <th>HV270</th>\n",
              "      <td>-0.108893</td>\n",
              "      <td>-0.404334</td>\n",
              "      <td>1.000000</td>\n",
              "      <td>-0.006775</td>\n",
              "      <td>-0.028791</td>\n",
              "      <td>0.389567</td>\n",
              "      <td>0.055754</td>\n",
              "      <td>-0.019698</td>\n",
              "      <td>0.077126</td>\n",
              "      <td>-0.103577</td>\n",
              "      <td>0.048389</td>\n",
              "      <td>0.068955</td>\n",
              "      <td>0.170964</td>\n",
              "      <td>0.137624</td>\n",
              "    </tr>\n",
              "    <tr>\n",
              "      <th>HV104</th>\n",
              "      <td>-0.016370</td>\n",
              "      <td>0.019461</td>\n",
              "      <td>-0.006775</td>\n",
              "      <td>1.000000</td>\n",
              "      <td>-0.100385</td>\n",
              "      <td>-0.065309</td>\n",
              "      <td>-0.457962</td>\n",
              "      <td>0.051215</td>\n",
              "      <td>-0.065747</td>\n",
              "      <td>-0.006060</td>\n",
              "      <td>-0.069788</td>\n",
              "      <td>-0.008512</td>\n",
              "      <td>0.015220</td>\n",
              "      <td>0.076378</td>\n",
              "    </tr>\n",
              "    <tr>\n",
              "      <th>HV105</th>\n",
              "      <td>-0.009034</td>\n",
              "      <td>0.059471</td>\n",
              "      <td>-0.028791</td>\n",
              "      <td>-0.100385</td>\n",
              "      <td>1.000000</td>\n",
              "      <td>-0.437745</td>\n",
              "      <td>-0.051618</td>\n",
              "      <td>0.085603</td>\n",
              "      <td>0.048223</td>\n",
              "      <td>0.206671</td>\n",
              "      <td>0.389906</td>\n",
              "      <td>0.131390</td>\n",
              "      <td>0.082219</td>\n",
              "      <td>0.138698</td>\n",
              "    </tr>\n",
              "    <tr>\n",
              "      <th>HV106</th>\n",
              "      <td>-0.061918</td>\n",
              "      <td>-0.150111</td>\n",
              "      <td>0.389567</td>\n",
              "      <td>-0.065309</td>\n",
              "      <td>-0.437745</td>\n",
              "      <td>1.000000</td>\n",
              "      <td>0.122129</td>\n",
              "      <td>-0.049088</td>\n",
              "      <td>0.023049</td>\n",
              "      <td>-0.194187</td>\n",
              "      <td>-0.128329</td>\n",
              "      <td>-0.015372</td>\n",
              "      <td>0.019553</td>\n",
              "      <td>0.029867</td>\n",
              "    </tr>\n",
              "    <tr>\n",
              "      <th>SB308</th>\n",
              "      <td>0.013153</td>\n",
              "      <td>-0.097858</td>\n",
              "      <td>0.055754</td>\n",
              "      <td>-0.457962</td>\n",
              "      <td>-0.051618</td>\n",
              "      <td>0.122129</td>\n",
              "      <td>1.000000</td>\n",
              "      <td>-0.043458</td>\n",
              "      <td>0.037803</td>\n",
              "      <td>-0.023202</td>\n",
              "      <td>0.002635</td>\n",
              "      <td>0.033361</td>\n",
              "      <td>0.026157</td>\n",
              "      <td>-0.052686</td>\n",
              "    </tr>\n",
              "    <tr>\n",
              "      <th>SB311A</th>\n",
              "      <td>-0.029899</td>\n",
              "      <td>0.028181</td>\n",
              "      <td>-0.019698</td>\n",
              "      <td>0.051215</td>\n",
              "      <td>0.085603</td>\n",
              "      <td>-0.049088</td>\n",
              "      <td>-0.043458</td>\n",
              "      <td>1.000000</td>\n",
              "      <td>0.346713</td>\n",
              "      <td>0.392546</td>\n",
              "      <td>0.018427</td>\n",
              "      <td>-0.015889</td>\n",
              "      <td>-0.003141</td>\n",
              "      <td>0.015378</td>\n",
              "    </tr>\n",
              "    <tr>\n",
              "      <th>SB311B</th>\n",
              "      <td>-0.035602</td>\n",
              "      <td>-0.053358</td>\n",
              "      <td>0.077126</td>\n",
              "      <td>-0.065747</td>\n",
              "      <td>0.048223</td>\n",
              "      <td>0.023049</td>\n",
              "      <td>0.037803</td>\n",
              "      <td>0.346713</td>\n",
              "      <td>1.000000</td>\n",
              "      <td>0.190790</td>\n",
              "      <td>0.031583</td>\n",
              "      <td>0.007348</td>\n",
              "      <td>0.035128</td>\n",
              "      <td>0.020644</td>\n",
              "    </tr>\n",
              "    <tr>\n",
              "      <th>SB311C</th>\n",
              "      <td>0.001517</td>\n",
              "      <td>0.049521</td>\n",
              "      <td>-0.103577</td>\n",
              "      <td>-0.006060</td>\n",
              "      <td>0.206671</td>\n",
              "      <td>-0.194187</td>\n",
              "      <td>-0.023202</td>\n",
              "      <td>0.392546</td>\n",
              "      <td>0.190790</td>\n",
              "      <td>1.000000</td>\n",
              "      <td>0.045706</td>\n",
              "      <td>-0.000657</td>\n",
              "      <td>-0.015403</td>\n",
              "      <td>-0.023789</td>\n",
              "    </tr>\n",
              "    <tr>\n",
              "      <th>SB333AA</th>\n",
              "      <td>-0.002284</td>\n",
              "      <td>-0.015628</td>\n",
              "      <td>0.048389</td>\n",
              "      <td>-0.069788</td>\n",
              "      <td>0.389906</td>\n",
              "      <td>-0.128329</td>\n",
              "      <td>0.002635</td>\n",
              "      <td>0.018427</td>\n",
              "      <td>0.031583</td>\n",
              "      <td>0.045706</td>\n",
              "      <td>1.000000</td>\n",
              "      <td>0.776641</td>\n",
              "      <td>0.057629</td>\n",
              "      <td>0.141312</td>\n",
              "    </tr>\n",
              "    <tr>\n",
              "      <th>SB333AB</th>\n",
              "      <td>-0.003957</td>\n",
              "      <td>-0.038648</td>\n",
              "      <td>0.068955</td>\n",
              "      <td>-0.008512</td>\n",
              "      <td>0.131390</td>\n",
              "      <td>-0.015372</td>\n",
              "      <td>0.033361</td>\n",
              "      <td>-0.015889</td>\n",
              "      <td>0.007348</td>\n",
              "      <td>-0.000657</td>\n",
              "      <td>0.776641</td>\n",
              "      <td>1.000000</td>\n",
              "      <td>0.035940</td>\n",
              "      <td>0.127722</td>\n",
              "    </tr>\n",
              "    <tr>\n",
              "      <th>Deabetic</th>\n",
              "      <td>-0.092038</td>\n",
              "      <td>-0.081210</td>\n",
              "      <td>0.170964</td>\n",
              "      <td>0.015220</td>\n",
              "      <td>0.082219</td>\n",
              "      <td>0.019553</td>\n",
              "      <td>0.026157</td>\n",
              "      <td>-0.003141</td>\n",
              "      <td>0.035128</td>\n",
              "      <td>-0.015403</td>\n",
              "      <td>0.057629</td>\n",
              "      <td>0.035940</td>\n",
              "      <td>1.000000</td>\n",
              "      <td>0.062218</td>\n",
              "    </tr>\n",
              "    <tr>\n",
              "      <th>SBBM</th>\n",
              "      <td>-0.043673</td>\n",
              "      <td>-0.054240</td>\n",
              "      <td>0.137624</td>\n",
              "      <td>0.076378</td>\n",
              "      <td>0.138698</td>\n",
              "      <td>0.029867</td>\n",
              "      <td>-0.052686</td>\n",
              "      <td>0.015378</td>\n",
              "      <td>0.020644</td>\n",
              "      <td>-0.023789</td>\n",
              "      <td>0.141312</td>\n",
              "      <td>0.127722</td>\n",
              "      <td>0.062218</td>\n",
              "      <td>1.000000</td>\n",
              "    </tr>\n",
              "  </tbody>\n",
              "</table>\n",
              "</div>"
            ],
            "text/plain": [
              "             HV024     HV025     HV270  ...   SB333AB  Deabetic      SBBM\n",
              "HV024     1.000000  0.070776 -0.108893  ... -0.003957 -0.092038 -0.043673\n",
              "HV025     0.070776  1.000000 -0.404334  ... -0.038648 -0.081210 -0.054240\n",
              "HV270    -0.108893 -0.404334  1.000000  ...  0.068955  0.170964  0.137624\n",
              "HV104    -0.016370  0.019461 -0.006775  ... -0.008512  0.015220  0.076378\n",
              "HV105    -0.009034  0.059471 -0.028791  ...  0.131390  0.082219  0.138698\n",
              "HV106    -0.061918 -0.150111  0.389567  ... -0.015372  0.019553  0.029867\n",
              "SB308     0.013153 -0.097858  0.055754  ...  0.033361  0.026157 -0.052686\n",
              "SB311A   -0.029899  0.028181 -0.019698  ... -0.015889 -0.003141  0.015378\n",
              "SB311B   -0.035602 -0.053358  0.077126  ...  0.007348  0.035128  0.020644\n",
              "SB311C    0.001517  0.049521 -0.103577  ... -0.000657 -0.015403 -0.023789\n",
              "SB333AA  -0.002284 -0.015628  0.048389  ...  0.776641  0.057629  0.141312\n",
              "SB333AB  -0.003957 -0.038648  0.068955  ...  1.000000  0.035940  0.127722\n",
              "Deabetic -0.092038 -0.081210  0.170964  ...  0.035940  1.000000  0.062218\n",
              "SBBM     -0.043673 -0.054240  0.137624  ...  0.127722  0.062218  1.000000\n",
              "\n",
              "[14 rows x 14 columns]"
            ]
          },
          "metadata": {
            "tags": []
          },
          "execution_count": 35
        }
      ]
    },
    {
      "cell_type": "code",
      "metadata": {
        "colab": {
          "base_uri": "https://localhost:8080/",
          "height": 596
        },
        "id": "G7bJTk1MuxbL",
        "outputId": "2b50ab8f-ab3b-4cc1-f581-e93ce7f5d135"
      },
      "source": [
        "#get correlations of each features in dataset\n",
        "corrmat = df6.corr()\n",
        "top_corr_features = corrmat.index\n",
        "plt.figure(figsize=(20,10))\n",
        "#plot heat map\n",
        "g=sns.heatmap(df6[top_corr_features].corr(),annot=True,cmap=\"RdYlGn\")"
      ],
      "execution_count": 36,
      "outputs": [
        {
          "output_type": "display_data",
          "data": {
            "image/png": "[encoded data removed]",
            "text/plain": [
              "<Figure size 1440x720 with 2 Axes>"
            ]
          },
          "metadata": {
            "tags": []
          }
        }
      ]
    },
    {
      "cell_type": "markdown",
      "metadata": {
        "id": "Q8jrJxv2rud6"
      },
      "source": [
        "###***Univariate Selection***"
      ]
    },
    {
      "cell_type": "code",
      "metadata": {
        "id": "ExPRRoi60e-S"
      },
      "source": [
        "import pandas as pd\n",
        "import numpy as np\n",
        "from sklearn.feature_selection import SelectKBest\n",
        "from sklearn.feature_selection import chi2\n",
        "X = df6.copy()  #independent columns\n",
        "y = X.pop('Deabetic')    #target column i.e price range"
      ],
      "execution_count": 38,
      "outputs": []
    },
    {
      "cell_type": "code",
      "metadata": {
        "colab": {
          "base_uri": "https://localhost:8080/",
          "height": 198
        },
        "id": "Ygc3q0Uf0xwC",
        "outputId": "483537dc-7768-435d-b52d-e03cad89a0c0"
      },
      "source": [
        "X.head()"
      ],
      "execution_count": 39,
      "outputs": [
        {
          "output_type": "execute_result",
          "data": {
            "text/html": [
              "<div>\n",
              "<style scoped>\n",
              "    .dataframe tbody tr th:only-of-type {\n",
              "        vertical-align: middle;\n",
              "    }\n",
              "\n",
              "    .dataframe tbody tr th {\n",
              "        vertical-align: top;\n",
              "    }\n",
              "\n",
              "    .dataframe thead th {\n",
              "        text-align: right;\n",
              "    }\n",
              "</style>\n",
              "<table border=\"1\" class=\"dataframe\">\n",
              "  <thead>\n",
              "    <tr style=\"text-align: right;\">\n",
              "      <th></th>\n",
              "      <th>HV024</th>\n",
              "      <th>HV025</th>\n",
              "      <th>HV270</th>\n",
              "      <th>HV104</th>\n",
              "      <th>HV105</th>\n",
              "      <th>HV106</th>\n",
              "      <th>SB308</th>\n",
              "      <th>SB311A</th>\n",
              "      <th>SB311B</th>\n",
              "      <th>SB311C</th>\n",
              "      <th>SB333AA</th>\n",
              "      <th>SB333AB</th>\n",
              "      <th>SBBM</th>\n",
              "    </tr>\n",
              "  </thead>\n",
              "  <tbody>\n",
              "    <tr>\n",
              "      <th>0</th>\n",
              "      <td>1</td>\n",
              "      <td>2</td>\n",
              "      <td>1</td>\n",
              "      <td>1</td>\n",
              "      <td>25</td>\n",
              "      <td>1</td>\n",
              "      <td>31</td>\n",
              "      <td>1.0</td>\n",
              "      <td>1.0</td>\n",
              "      <td>1.0</td>\n",
              "      <td>111</td>\n",
              "      <td>58</td>\n",
              "      <td>2055</td>\n",
              "    </tr>\n",
              "    <tr>\n",
              "      <th>1</th>\n",
              "      <td>1</td>\n",
              "      <td>2</td>\n",
              "      <td>1</td>\n",
              "      <td>2</td>\n",
              "      <td>34</td>\n",
              "      <td>0</td>\n",
              "      <td>0</td>\n",
              "      <td>1.0</td>\n",
              "      <td>1.0</td>\n",
              "      <td>1.0</td>\n",
              "      <td>101</td>\n",
              "      <td>67</td>\n",
              "      <td>2481</td>\n",
              "    </tr>\n",
              "    <tr>\n",
              "      <th>2</th>\n",
              "      <td>1</td>\n",
              "      <td>2</td>\n",
              "      <td>1</td>\n",
              "      <td>2</td>\n",
              "      <td>35</td>\n",
              "      <td>1</td>\n",
              "      <td>0</td>\n",
              "      <td>1.0</td>\n",
              "      <td>1.0</td>\n",
              "      <td>1.0</td>\n",
              "      <td>100</td>\n",
              "      <td>66</td>\n",
              "      <td>1744</td>\n",
              "    </tr>\n",
              "    <tr>\n",
              "      <th>3</th>\n",
              "      <td>1</td>\n",
              "      <td>2</td>\n",
              "      <td>1</td>\n",
              "      <td>1</td>\n",
              "      <td>55</td>\n",
              "      <td>2</td>\n",
              "      <td>52</td>\n",
              "      <td>1.0</td>\n",
              "      <td>0.0</td>\n",
              "      <td>1.0</td>\n",
              "      <td>105</td>\n",
              "      <td>71</td>\n",
              "      <td>2108</td>\n",
              "    </tr>\n",
              "    <tr>\n",
              "      <th>4</th>\n",
              "      <td>1</td>\n",
              "      <td>2</td>\n",
              "      <td>1</td>\n",
              "      <td>2</td>\n",
              "      <td>45</td>\n",
              "      <td>1</td>\n",
              "      <td>15</td>\n",
              "      <td>1.0</td>\n",
              "      <td>1.0</td>\n",
              "      <td>0.0</td>\n",
              "      <td>144</td>\n",
              "      <td>94</td>\n",
              "      <td>2455</td>\n",
              "    </tr>\n",
              "  </tbody>\n",
              "</table>\n",
              "</div>"
            ],
            "text/plain": [
              "   HV024  HV025  HV270  HV104  HV105  ...  SB311B  SB311C  SB333AA  SB333AB  SBBM\n",
              "0      1      2      1      1     25  ...     1.0     1.0      111       58  2055\n",
              "1      1      2      1      2     34  ...     1.0     1.0      101       67  2481\n",
              "2      1      2      1      2     35  ...     1.0     1.0      100       66  1744\n",
              "3      1      2      1      1     55  ...     0.0     1.0      105       71  2108\n",
              "4      1      2      1      2     45  ...     1.0     0.0      144       94  2455\n",
              "\n",
              "[5 rows x 13 columns]"
            ]
          },
          "metadata": {
            "tags": []
          },
          "execution_count": 39
        }
      ]
    },
    {
      "cell_type": "code",
      "metadata": {
        "colab": {
          "base_uri": "https://localhost:8080/"
        },
        "id": "IVNenH8z00fm",
        "outputId": "b4af0b2e-cc10-454d-a4ed-ac7e2bc8e10a"
      },
      "source": [
        "y.head()"
      ],
      "execution_count": 40,
      "outputs": [
        {
          "output_type": "execute_result",
          "data": {
            "text/plain": [
              "0    1\n",
              "1    1\n",
              "2    1\n",
              "3    1\n",
              "4    1\n",
              "Name: Deabetic, dtype: int64"
            ]
          },
          "metadata": {
            "tags": []
          },
          "execution_count": 40
        }
      ]
    },
    {
      "cell_type": "code",
      "metadata": {
        "id": "9nwg0XXt1C7x"
      },
      "source": [
        "#apply SelectKBest class to extract top 10 best features\n",
        "bestfeatures = SelectKBest(score_func=chi2, k=10)\n",
        "fit = bestfeatures.fit(X,y)"
      ],
      "execution_count": 41,
      "outputs": []
    },
    {
      "cell_type": "code",
      "metadata": {
        "id": "n4lSqjJE1E37"
      },
      "source": [
        "dfscores = pd.DataFrame(fit.scores_)\n",
        "dfcolumns = pd.DataFrame(X.columns)"
      ],
      "execution_count": 42,
      "outputs": []
    },
    {
      "cell_type": "code",
      "metadata": {
        "id": "EVwbd_L-1IU2"
      },
      "source": [
        "#concat two dataframes for better visualization \n",
        "featureScores = pd.concat([dfcolumns,dfscores],axis=1)\n",
        "featureScores.columns = ['Specs','Score']  #naming the dataframe columns"
      ],
      "execution_count": 43,
      "outputs": []
    },
    {
      "cell_type": "code",
      "metadata": {
        "colab": {
          "base_uri": "https://localhost:8080/",
          "height": 438
        },
        "id": "nXXkyYfb1L5V",
        "outputId": "4ee84701-d13f-4873-f698-13617c768de0"
      },
      "source": [
        "featureScores"
      ],
      "execution_count": 44,
      "outputs": [
        {
          "output_type": "execute_result",
          "data": {
            "text/html": [
              "<div>\n",
              "<style scoped>\n",
              "    .dataframe tbody tr th:only-of-type {\n",
              "        vertical-align: middle;\n",
              "    }\n",
              "\n",
              "    .dataframe tbody tr th {\n",
              "        vertical-align: top;\n",
              "    }\n",
              "\n",
              "    .dataframe thead th {\n",
              "        text-align: right;\n",
              "    }\n",
              "</style>\n",
              "<table border=\"1\" class=\"dataframe\">\n",
              "  <thead>\n",
              "    <tr style=\"text-align: right;\">\n",
              "      <th></th>\n",
              "      <th>Specs</th>\n",
              "      <th>Score</th>\n",
              "    </tr>\n",
              "  </thead>\n",
              "  <tbody>\n",
              "    <tr>\n",
              "      <th>0</th>\n",
              "      <td>HV024</td>\n",
              "      <td>115.616172</td>\n",
              "    </tr>\n",
              "    <tr>\n",
              "      <th>1</th>\n",
              "      <td>HV025</td>\n",
              "      <td>11.327992</td>\n",
              "    </tr>\n",
              "    <tr>\n",
              "      <th>2</th>\n",
              "      <td>HV270</td>\n",
              "      <td>240.061724</td>\n",
              "    </tr>\n",
              "    <tr>\n",
              "      <th>3</th>\n",
              "      <td>HV104</td>\n",
              "      <td>0.444698</td>\n",
              "    </tr>\n",
              "    <tr>\n",
              "      <th>4</th>\n",
              "      <td>HV105</td>\n",
              "      <td>570.656407</td>\n",
              "    </tr>\n",
              "    <tr>\n",
              "      <th>5</th>\n",
              "      <td>HV106</td>\n",
              "      <td>3.672804</td>\n",
              "    </tr>\n",
              "    <tr>\n",
              "      <th>6</th>\n",
              "      <td>SB308</td>\n",
              "      <td>159.768570</td>\n",
              "    </tr>\n",
              "    <tr>\n",
              "      <th>7</th>\n",
              "      <td>SB311A</td>\n",
              "      <td>0.081897</td>\n",
              "    </tr>\n",
              "    <tr>\n",
              "      <th>8</th>\n",
              "      <td>SB311B</td>\n",
              "      <td>14.072140</td>\n",
              "    </tr>\n",
              "    <tr>\n",
              "      <th>9</th>\n",
              "      <td>SB311C</td>\n",
              "      <td>2.471897</td>\n",
              "    </tr>\n",
              "    <tr>\n",
              "      <th>10</th>\n",
              "      <td>SB333AA</td>\n",
              "      <td>182.429846</td>\n",
              "    </tr>\n",
              "    <tr>\n",
              "      <th>11</th>\n",
              "      <td>SB333AB</td>\n",
              "      <td>50.203578</td>\n",
              "    </tr>\n",
              "    <tr>\n",
              "      <th>12</th>\n",
              "      <td>SBBM</td>\n",
              "      <td>17086.293755</td>\n",
              "    </tr>\n",
              "  </tbody>\n",
              "</table>\n",
              "</div>"
            ],
            "text/plain": [
              "      Specs         Score\n",
              "0     HV024    115.616172\n",
              "1     HV025     11.327992\n",
              "2     HV270    240.061724\n",
              "3     HV104      0.444698\n",
              "4     HV105    570.656407\n",
              "5     HV106      3.672804\n",
              "6     SB308    159.768570\n",
              "7    SB311A      0.081897\n",
              "8    SB311B     14.072140\n",
              "9    SB311C      2.471897\n",
              "10  SB333AA    182.429846\n",
              "11  SB333AB     50.203578\n",
              "12     SBBM  17086.293755"
            ]
          },
          "metadata": {
            "tags": []
          },
          "execution_count": 44
        }
      ]
    },
    {
      "cell_type": "code",
      "metadata": {
        "colab": {
          "base_uri": "https://localhost:8080/"
        },
        "id": "WoiQqwVN1V5_",
        "outputId": "6a74af6a-e7dd-47bf-df4f-ef3d6e94d44c"
      },
      "source": [
        "print(featureScores.nlargest(13,'Score'))  #print 10 best features"
      ],
      "execution_count": 45,
      "outputs": [
        {
          "output_type": "stream",
          "text": [
            "      Specs         Score\n",
            "12     SBBM  17086.293755\n",
            "4     HV105    570.656407\n",
            "2     HV270    240.061724\n",
            "10  SB333AA    182.429846\n",
            "6     SB308    159.768570\n",
            "0     HV024    115.616172\n",
            "11  SB333AB     50.203578\n",
            "8    SB311B     14.072140\n",
            "1     HV025     11.327992\n",
            "5     HV106      3.672804\n",
            "9    SB311C      2.471897\n",
            "3     HV104      0.444698\n",
            "7    SB311A      0.081897\n"
          ],
          "name": "stdout"
        }
      ]
    },
    {
      "cell_type": "markdown",
      "metadata": {
        "id": "CSneSAcrsB1z"
      },
      "source": [
        "###***Feature Importance***"
      ]
    },
    {
      "cell_type": "code",
      "metadata": {
        "colab": {
          "base_uri": "https://localhost:8080/"
        },
        "id": "iN_TDNBv2wPB",
        "outputId": "69f0ce30-7847-42c7-b452-260bb5aaa88f"
      },
      "source": [
        "from sklearn.ensemble import ExtraTreesClassifier\n",
        "import matplotlib.pyplot as plt\n",
        "model = ExtraTreesClassifier()\n",
        "model.fit(X,y)"
      ],
      "execution_count": 46,
      "outputs": [
        {
          "output_type": "execute_result",
          "data": {
            "text/plain": [
              "ExtraTreesClassifier(bootstrap=False, ccp_alpha=0.0, class_weight=None,\n",
              "                     criterion='gini', max_depth=None, max_features='auto',\n",
              "                     max_leaf_nodes=None, max_samples=None,\n",
              "                     min_impurity_decrease=0.0, min_impurity_split=None,\n",
              "                     min_samples_leaf=1, min_samples_split=2,\n",
              "                     min_weight_fraction_leaf=0.0, n_estimators=100,\n",
              "                     n_jobs=None, oob_score=False, random_state=None, verbose=0,\n",
              "                     warm_start=False)"
            ]
          },
          "metadata": {
            "tags": []
          },
          "execution_count": 46
        }
      ]
    },
    {
      "cell_type": "code",
      "metadata": {
        "colab": {
          "base_uri": "https://localhost:8080/"
        },
        "id": "R5yPNoZW2x9h",
        "outputId": "7922a8b5-f61b-4e1f-80c9-e7a1188a8729"
      },
      "source": [
        "print(model.feature_importances_) #use inbuilt class feature_importances of tree based classifiers"
      ],
      "execution_count": 47,
      "outputs": [
        {
          "output_type": "stream",
          "text": [
            "[0.09256837 0.01850843 0.06730869 0.02153718 0.1505856  0.06721605\n",
            " 0.08289396 0.02465023 0.01028373 0.01640934 0.14926662 0.14535207\n",
            " 0.15341974]\n"
          ],
          "name": "stdout"
        }
      ]
    },
    {
      "cell_type": "code",
      "metadata": {
        "colab": {
          "base_uri": "https://localhost:8080/",
          "height": 265
        },
        "id": "RLkc0wiA2260",
        "outputId": "eb982fb4-e9fd-48a4-d0a0-25d6eee7bceb"
      },
      "source": [
        "#plot graph of feature importances for better visualization\n",
        "feat_importances = pd.Series(model.feature_importances_, index=X.columns)\n",
        "feat_importances.nlargest(13).plot(kind='barh')\n",
        "plt.show()"
      ],
      "execution_count": 48,
      "outputs": [
        {
          "output_type": "display_data",
          "data": {
            "image/png": "[encoded data removed]",
            "text/plain": [
              "<Figure size 432x288 with 1 Axes>"
            ]
          },
          "metadata": {
            "tags": []
          }
        }
      ]
    },
    {
      "cell_type": "markdown",
      "metadata": {
        "id": "lt6WHJZEQTGI"
      },
      "source": [
        "#**Train Test Split**"
      ]
    },
    {
      "cell_type": "code",
      "metadata": {
        "id": "YOvq5Znj-Iq1"
      },
      "source": [
        "from sklearn.model_selection import train_test_split\n",
        "feature_columns = ['SBBM', 'HV105', 'SB333AA', 'SB333AB', 'HV024', 'SB308', 'HV106', 'HV270']\n",
        "predicted_class = ['Deabetic']"
      ],
      "execution_count": 49,
      "outputs": []
    },
    {
      "cell_type": "code",
      "metadata": {
        "colab": {
          "base_uri": "https://localhost:8080/",
          "height": 407
        },
        "id": "cTWpBZN7--mW",
        "outputId": "523a0b4a-f915-4c55-ecdd-0732fbc2f565"
      },
      "source": [
        "\n",
        "data = pd.DataFrame(columns = feature_columns, data = df6)\n",
        "data['Deabetic'] = df6['Deabetic']\n",
        "data"
      ],
      "execution_count": 50,
      "outputs": [
        {
          "output_type": "execute_result",
          "data": {
            "text/html": [
              "<div>\n",
              "<style scoped>\n",
              "    .dataframe tbody tr th:only-of-type {\n",
              "        vertical-align: middle;\n",
              "    }\n",
              "\n",
              "    .dataframe tbody tr th {\n",
              "        vertical-align: top;\n",
              "    }\n",
              "\n",
              "    .dataframe thead th {\n",
              "        text-align: right;\n",
              "    }\n",
              "</style>\n",
              "<table border=\"1\" class=\"dataframe\">\n",
              "  <thead>\n",
              "    <tr style=\"text-align: right;\">\n",
              "      <th></th>\n",
              "      <th>SBBM</th>\n",
              "      <th>HV105</th>\n",
              "      <th>SB333AA</th>\n",
              "      <th>SB333AB</th>\n",
              "      <th>HV024</th>\n",
              "      <th>SB308</th>\n",
              "      <th>HV106</th>\n",
              "      <th>HV270</th>\n",
              "      <th>Deabetic</th>\n",
              "    </tr>\n",
              "  </thead>\n",
              "  <tbody>\n",
              "    <tr>\n",
              "      <th>0</th>\n",
              "      <td>2055</td>\n",
              "      <td>25</td>\n",
              "      <td>111</td>\n",
              "      <td>58</td>\n",
              "      <td>1</td>\n",
              "      <td>31</td>\n",
              "      <td>1</td>\n",
              "      <td>1</td>\n",
              "      <td>1</td>\n",
              "    </tr>\n",
              "    <tr>\n",
              "      <th>1</th>\n",
              "      <td>2481</td>\n",
              "      <td>34</td>\n",
              "      <td>101</td>\n",
              "      <td>67</td>\n",
              "      <td>1</td>\n",
              "      <td>0</td>\n",
              "      <td>0</td>\n",
              "      <td>1</td>\n",
              "      <td>1</td>\n",
              "    </tr>\n",
              "    <tr>\n",
              "      <th>2</th>\n",
              "      <td>1744</td>\n",
              "      <td>35</td>\n",
              "      <td>100</td>\n",
              "      <td>66</td>\n",
              "      <td>1</td>\n",
              "      <td>0</td>\n",
              "      <td>1</td>\n",
              "      <td>1</td>\n",
              "      <td>1</td>\n",
              "    </tr>\n",
              "    <tr>\n",
              "      <th>3</th>\n",
              "      <td>2108</td>\n",
              "      <td>55</td>\n",
              "      <td>105</td>\n",
              "      <td>71</td>\n",
              "      <td>1</td>\n",
              "      <td>52</td>\n",
              "      <td>2</td>\n",
              "      <td>1</td>\n",
              "      <td>1</td>\n",
              "    </tr>\n",
              "    <tr>\n",
              "      <th>4</th>\n",
              "      <td>2455</td>\n",
              "      <td>45</td>\n",
              "      <td>144</td>\n",
              "      <td>94</td>\n",
              "      <td>1</td>\n",
              "      <td>15</td>\n",
              "      <td>1</td>\n",
              "      <td>1</td>\n",
              "      <td>1</td>\n",
              "    </tr>\n",
              "    <tr>\n",
              "      <th>...</th>\n",
              "      <td>...</td>\n",
              "      <td>...</td>\n",
              "      <td>...</td>\n",
              "      <td>...</td>\n",
              "      <td>...</td>\n",
              "      <td>...</td>\n",
              "      <td>...</td>\n",
              "      <td>...</td>\n",
              "      <td>...</td>\n",
              "    </tr>\n",
              "    <tr>\n",
              "      <th>12283</th>\n",
              "      <td>2682</td>\n",
              "      <td>33</td>\n",
              "      <td>129</td>\n",
              "      <td>96</td>\n",
              "      <td>8</td>\n",
              "      <td>0</td>\n",
              "      <td>2</td>\n",
              "      <td>5</td>\n",
              "      <td>1</td>\n",
              "    </tr>\n",
              "    <tr>\n",
              "      <th>12284</th>\n",
              "      <td>2389</td>\n",
              "      <td>20</td>\n",
              "      <td>110</td>\n",
              "      <td>79</td>\n",
              "      <td>8</td>\n",
              "      <td>31</td>\n",
              "      <td>2</td>\n",
              "      <td>5</td>\n",
              "      <td>1</td>\n",
              "    </tr>\n",
              "    <tr>\n",
              "      <th>12285</th>\n",
              "      <td>2154</td>\n",
              "      <td>62</td>\n",
              "      <td>114</td>\n",
              "      <td>69</td>\n",
              "      <td>8</td>\n",
              "      <td>31</td>\n",
              "      <td>2</td>\n",
              "      <td>5</td>\n",
              "      <td>1</td>\n",
              "    </tr>\n",
              "    <tr>\n",
              "      <th>12286</th>\n",
              "      <td>2761</td>\n",
              "      <td>51</td>\n",
              "      <td>130</td>\n",
              "      <td>79</td>\n",
              "      <td>8</td>\n",
              "      <td>0</td>\n",
              "      <td>1</td>\n",
              "      <td>5</td>\n",
              "      <td>0</td>\n",
              "    </tr>\n",
              "    <tr>\n",
              "      <th>12287</th>\n",
              "      <td>1597</td>\n",
              "      <td>80</td>\n",
              "      <td>142</td>\n",
              "      <td>71</td>\n",
              "      <td>8</td>\n",
              "      <td>0</td>\n",
              "      <td>0</td>\n",
              "      <td>5</td>\n",
              "      <td>1</td>\n",
              "    </tr>\n",
              "  </tbody>\n",
              "</table>\n",
              "<p>12288 rows × 9 columns</p>\n",
              "</div>"
            ],
            "text/plain": [
              "       SBBM  HV105  SB333AA  SB333AB  HV024  SB308  HV106  HV270  Deabetic\n",
              "0      2055     25      111       58      1     31      1      1         1\n",
              "1      2481     34      101       67      1      0      0      1         1\n",
              "2      1744     35      100       66      1      0      1      1         1\n",
              "3      2108     55      105       71      1     52      2      1         1\n",
              "4      2455     45      144       94      1     15      1      1         1\n",
              "...     ...    ...      ...      ...    ...    ...    ...    ...       ...\n",
              "12283  2682     33      129       96      8      0      2      5         1\n",
              "12284  2389     20      110       79      8     31      2      5         1\n",
              "12285  2154     62      114       69      8     31      2      5         1\n",
              "12286  2761     51      130       79      8      0      1      5         0\n",
              "12287  1597     80      142       71      8      0      0      5         1\n",
              "\n",
              "[12288 rows x 9 columns]"
            ]
          },
          "metadata": {
            "tags": []
          },
          "execution_count": 50
        }
      ]
    },
    {
      "cell_type": "code",
      "metadata": {
        "id": "EduJGM5HAC9L"
      },
      "source": [
        "X = data[feature_columns].values\n",
        "y = data[predicted_class].values\n",
        "\n",
        "X_train, X_test, y_train, y_test = train_test_split(X, y, test_size = 0.20, random_state= random)"
      ],
      "execution_count": 52,
      "outputs": []
    },
    {
      "cell_type": "markdown",
      "metadata": {
        "id": "pRfRho12rG19"
      },
      "source": [
        "#**Feature Scaling**"
      ]
    },
    {
      "cell_type": "code",
      "metadata": {
        "id": "2PeTxzu5ASkR"
      },
      "source": [
        "#Feature scaling\n",
        "\n",
        "from sklearn.preprocessing import StandardScaler\n",
        "sc_X = StandardScaler()\n",
        "X_train = sc_X.fit_transform(X_train)\n",
        "X_test = sc_X.transform(X_test)"
      ],
      "execution_count": 53,
      "outputs": []
    },
    {
      "cell_type": "markdown",
      "metadata": {
        "id": "u8PeouB5n-sO"
      },
      "source": [
        "#**Classifiers**"
      ]
    },
    {
      "cell_type": "code",
      "metadata": {
        "id": "JxfxSIHgBrul"
      },
      "source": [
        "random = 32"
      ],
      "execution_count": 51,
      "outputs": []
    },
    {
      "cell_type": "markdown",
      "metadata": {
        "id": "l3Cx-PSMQZx6"
      },
      "source": [
        "###***Logistic Regression***"
      ]
    },
    {
      "cell_type": "code",
      "metadata": {
        "colab": {
          "base_uri": "https://localhost:8080/"
        },
        "id": "jH-O7-HrQgNW",
        "outputId": "733959db-ae6b-46da-c5c0-4cd41283000e"
      },
      "source": [
        "# Fitting Logistic Regression to the Training set\n",
        "from sklearn.linear_model import LogisticRegression\n",
        "LGclassifier = LogisticRegression(random_state= random)\n",
        "LGclassifier.fit(X_train, y_train)"
      ],
      "execution_count": 54,
      "outputs": [
        {
          "output_type": "stream",
          "text": [
            "/usr/local/lib/python3.7/dist-packages/sklearn/utils/validation.py:760: DataConversionWarning: A column-vector y was passed when a 1d array was expected. Please change the shape of y to (n_samples, ), for example using ravel().\n",
            "  y = column_or_1d(y, warn=True)\n"
          ],
          "name": "stderr"
        },
        {
          "output_type": "execute_result",
          "data": {
            "text/plain": [
              "LogisticRegression(C=1.0, class_weight=None, dual=False, fit_intercept=True,\n",
              "                   intercept_scaling=1, l1_ratio=None, max_iter=100,\n",
              "                   multi_class='auto', n_jobs=None, penalty='l2',\n",
              "                   random_state=32, solver='lbfgs', tol=0.0001, verbose=0,\n",
              "                   warm_start=False)"
            ]
          },
          "metadata": {
            "tags": []
          },
          "execution_count": 54
        }
      ]
    },
    {
      "cell_type": "code",
      "metadata": {
        "colab": {
          "base_uri": "https://localhost:8080/"
        },
        "id": "CgxT7yrVRkyJ",
        "outputId": "66651223-f6c0-4d99-d857-78eccbff3885"
      },
      "source": [
        "predict_train_data = LGclassifier.predict(X_test)\n",
        "\n",
        "from sklearn import metrics\n",
        "\n",
        "print(\"Accuracy = {0:.3f}\".format(metrics.accuracy_score(y_test, predict_train_data)))"
      ],
      "execution_count": 55,
      "outputs": [
        {
          "output_type": "stream",
          "text": [
            "Accuracy = 0.614\n"
          ],
          "name": "stdout"
        }
      ]
    },
    {
      "cell_type": "markdown",
      "metadata": {
        "id": "5IyyQECYSB97"
      },
      "source": [
        "###***Naive Bayes***"
      ]
    },
    {
      "cell_type": "code",
      "metadata": {
        "colab": {
          "base_uri": "https://localhost:8080/"
        },
        "id": "EARqfDSYSGIb",
        "outputId": "87ac5480-58aa-4323-8bb2-2d8e126d42a9"
      },
      "source": [
        "from sklearn.naive_bayes import GaussianNB\n",
        "NBclassifier = GaussianNB()\n",
        "NBclassifier.fit(X_train, y_train)"
      ],
      "execution_count": 56,
      "outputs": [
        {
          "output_type": "stream",
          "text": [
            "/usr/local/lib/python3.7/dist-packages/sklearn/naive_bayes.py:206: DataConversionWarning: A column-vector y was passed when a 1d array was expected. Please change the shape of y to (n_samples, ), for example using ravel().\n",
            "  y = column_or_1d(y, warn=True)\n"
          ],
          "name": "stderr"
        },
        {
          "output_type": "execute_result",
          "data": {
            "text/plain": [
              "GaussianNB(priors=None, var_smoothing=1e-09)"
            ]
          },
          "metadata": {
            "tags": []
          },
          "execution_count": 56
        }
      ]
    },
    {
      "cell_type": "code",
      "metadata": {
        "colab": {
          "base_uri": "https://localhost:8080/"
        },
        "id": "HpCrI5r9SZK5",
        "outputId": "6035e9d0-c119-4ee6-82ee-cff11cd8c41b"
      },
      "source": [
        "predict_train_data = NBclassifier.predict(X_test)\n",
        "\n",
        "from sklearn import metrics\n",
        "\n",
        "print(\"Accuracy = {0:.3f}\".format(metrics.accuracy_score(y_test, predict_train_data)))"
      ],
      "execution_count": 57,
      "outputs": [
        {
          "output_type": "stream",
          "text": [
            "Accuracy = 0.615\n"
          ],
          "name": "stdout"
        }
      ]
    },
    {
      "cell_type": "markdown",
      "metadata": {
        "id": "rWtWvG1BSkGk"
      },
      "source": [
        "###***Decision Tree***"
      ]
    },
    {
      "cell_type": "code",
      "metadata": {
        "colab": {
          "base_uri": "https://localhost:8080/"
        },
        "id": "XLzj-vufSjlo",
        "outputId": "72ecbeb6-f813-46d9-e8ed-d1a9ad65f411"
      },
      "source": [
        "# Fitting Decision tree classifier to the Training set\n",
        "from sklearn.tree import DecisionTreeClassifier\n",
        "DSclassifier = DecisionTreeClassifier(criterion='entropy', random_state=0)\n",
        "DSclassifier.fit(X_train, y_train)"
      ],
      "execution_count": 58,
      "outputs": [
        {
          "output_type": "execute_result",
          "data": {
            "text/plain": [
              "DecisionTreeClassifier(ccp_alpha=0.0, class_weight=None, criterion='entropy',\n",
              "                       max_depth=None, max_features=None, max_leaf_nodes=None,\n",
              "                       min_impurity_decrease=0.0, min_impurity_split=None,\n",
              "                       min_samples_leaf=1, min_samples_split=2,\n",
              "                       min_weight_fraction_leaf=0.0, presort='deprecated',\n",
              "                       random_state=0, splitter='best')"
            ]
          },
          "metadata": {
            "tags": []
          },
          "execution_count": 58
        }
      ]
    },
    {
      "cell_type": "code",
      "metadata": {
        "colab": {
          "base_uri": "https://localhost:8080/"
        },
        "id": "aBMzX2w5S2y4",
        "outputId": "45063ed6-eaea-419f-dc94-d1fed7c60460"
      },
      "source": [
        "predict_train_data = DSclassifier.predict(X_test)\n",
        "\n",
        "from sklearn import metrics\n",
        "\n",
        "print(\"Accuracy = {0:.3f}\".format(metrics.accuracy_score(y_test, predict_train_data)))"
      ],
      "execution_count": 59,
      "outputs": [
        {
          "output_type": "stream",
          "text": [
            "Accuracy = 0.529\n"
          ],
          "name": "stdout"
        }
      ]
    },
    {
      "cell_type": "markdown",
      "metadata": {
        "id": "g79UcI_hQKUe"
      },
      "source": [
        "###***Random Forest***"
      ]
    },
    {
      "cell_type": "code",
      "metadata": {
        "colab": {
          "base_uri": "https://localhost:8080/"
        },
        "id": "y_2l3qfUA_cd",
        "outputId": "60377bd6-5c7c-4e85-a4b1-e118f009ff5e"
      },
      "source": [
        "## Apply Algorithm\n",
        "\n",
        "from sklearn.ensemble import RandomForestClassifier\n",
        "random_forest_model = RandomForestClassifier(random_state= random)\n",
        "\n",
        "random_forest_model.fit(X_train, y_train.ravel())"
      ],
      "execution_count": 60,
      "outputs": [
        {
          "output_type": "execute_result",
          "data": {
            "text/plain": [
              "RandomForestClassifier(bootstrap=True, ccp_alpha=0.0, class_weight=None,\n",
              "                       criterion='gini', max_depth=None, max_features='auto',\n",
              "                       max_leaf_nodes=None, max_samples=None,\n",
              "                       min_impurity_decrease=0.0, min_impurity_split=None,\n",
              "                       min_samples_leaf=1, min_samples_split=2,\n",
              "                       min_weight_fraction_leaf=0.0, n_estimators=100,\n",
              "                       n_jobs=None, oob_score=False, random_state=32, verbose=0,\n",
              "                       warm_start=False)"
            ]
          },
          "metadata": {
            "tags": []
          },
          "execution_count": 60
        }
      ]
    },
    {
      "cell_type": "code",
      "metadata": {
        "colab": {
          "base_uri": "https://localhost:8080/"
        },
        "id": "gYsNP5unBIjw",
        "outputId": "5f8ee98a-1d9b-42d8-dfeb-04d04bd6e473"
      },
      "source": [
        "predict_train_data = random_forest_model.predict(X_test)\n",
        "\n",
        "from sklearn import metrics\n",
        "\n",
        "print(\"Accuracy = {0:.3f}\".format(metrics.accuracy_score(y_test, predict_train_data)))"
      ],
      "execution_count": 61,
      "outputs": [
        {
          "output_type": "stream",
          "text": [
            "Accuracy = 0.621\n"
          ],
          "name": "stdout"
        }
      ]
    },
    {
      "cell_type": "markdown",
      "metadata": {
        "id": "pHUNCdV_TRSS"
      },
      "source": [
        "###***SVM***"
      ]
    },
    {
      "cell_type": "code",
      "metadata": {
        "colab": {
          "base_uri": "https://localhost:8080/"
        },
        "id": "s7QI4eVqTUen",
        "outputId": "ef47b873-1a41-445b-e553-45420cbdbebf"
      },
      "source": [
        "# Fitting SVM classifier to the Training set\n",
        "from sklearn.svm import SVC\n",
        "SVMclassifier = SVC(kernel='linear', random_state= random)\n",
        "SVMclassifier.fit(X_train, y_train)"
      ],
      "execution_count": 62,
      "outputs": [
        {
          "output_type": "stream",
          "text": [
            "/usr/local/lib/python3.7/dist-packages/sklearn/utils/validation.py:760: DataConversionWarning: A column-vector y was passed when a 1d array was expected. Please change the shape of y to (n_samples, ), for example using ravel().\n",
            "  y = column_or_1d(y, warn=True)\n"
          ],
          "name": "stderr"
        },
        {
          "output_type": "execute_result",
          "data": {
            "text/plain": [
              "SVC(C=1.0, break_ties=False, cache_size=200, class_weight=None, coef0=0.0,\n",
              "    decision_function_shape='ovr', degree=3, gamma='scale', kernel='linear',\n",
              "    max_iter=-1, probability=False, random_state=32, shrinking=True, tol=0.001,\n",
              "    verbose=False)"
            ]
          },
          "metadata": {
            "tags": []
          },
          "execution_count": 62
        }
      ]
    },
    {
      "cell_type": "code",
      "metadata": {
        "colab": {
          "base_uri": "https://localhost:8080/"
        },
        "id": "3FP1cKgdTjse",
        "outputId": "05e76a99-354e-4c32-9abc-f4370c5af154"
      },
      "source": [
        "predict_train_data = SVMclassifier.predict(X_test)\n",
        "\n",
        "from sklearn import metrics\n",
        "\n",
        "print(\"Accuracy = {0:.3f}\".format(metrics.accuracy_score(y_test, predict_train_data)))"
      ],
      "execution_count": 63,
      "outputs": [
        {
          "output_type": "stream",
          "text": [
            "Accuracy = 0.585\n"
          ],
          "name": "stdout"
        }
      ]
    },
    {
      "cell_type": "markdown",
      "metadata": {
        "id": "YRvi4PS3T50C"
      },
      "source": [
        "###***Kernel SVM***"
      ]
    },
    {
      "cell_type": "code",
      "metadata": {
        "colab": {
          "base_uri": "https://localhost:8080/"
        },
        "id": "xAZDIs_JT9MB",
        "outputId": "a3f2cd12-2a22-46c9-d774-9dfd2b2f3940"
      },
      "source": [
        "# Fitting classifier to the Training set\n",
        "from sklearn.svm import SVC\n",
        "KSVMclassifier = SVC(kernel='rbf', random_state=0)\n",
        "KSVMclassifier.fit(X_train, y_train)"
      ],
      "execution_count": 64,
      "outputs": [
        {
          "output_type": "stream",
          "text": [
            "/usr/local/lib/python3.7/dist-packages/sklearn/utils/validation.py:760: DataConversionWarning: A column-vector y was passed when a 1d array was expected. Please change the shape of y to (n_samples, ), for example using ravel().\n",
            "  y = column_or_1d(y, warn=True)\n"
          ],
          "name": "stderr"
        },
        {
          "output_type": "execute_result",
          "data": {
            "text/plain": [
              "SVC(C=1.0, break_ties=False, cache_size=200, class_weight=None, coef0=0.0,\n",
              "    decision_function_shape='ovr', degree=3, gamma='scale', kernel='rbf',\n",
              "    max_iter=-1, probability=False, random_state=0, shrinking=True, tol=0.001,\n",
              "    verbose=False)"
            ]
          },
          "metadata": {
            "tags": []
          },
          "execution_count": 64
        }
      ]
    },
    {
      "cell_type": "code",
      "metadata": {
        "colab": {
          "base_uri": "https://localhost:8080/"
        },
        "id": "Jx2Pfk37UGG5",
        "outputId": "ada88809-2f2d-4d24-b77e-82d6a3649faf"
      },
      "source": [
        "predict_train_data = KSVMclassifier.predict(X_test)\n",
        "\n",
        "from sklearn import metrics\n",
        "\n",
        "print(\"Accuracy = {0:.3f}\".format(metrics.accuracy_score(y_test, predict_train_data)))"
      ],
      "execution_count": 65,
      "outputs": [
        {
          "output_type": "stream",
          "text": [
            "Accuracy = 0.624\n"
          ],
          "name": "stdout"
        }
      ]
    },
    {
      "cell_type": "markdown",
      "metadata": {
        "id": "5WR-uGZ8FXsD"
      },
      "source": [
        "###***XG Boost***"
      ]
    },
    {
      "cell_type": "code",
      "metadata": {
        "id": "eVUWOHvUFSiB"
      },
      "source": [
        "## Hyper Parameter Optimization\n",
        "\n",
        "params={\n",
        " \"learning_rate\"    : [0.05, 0.10, 0.15, 0.20, 0.25, 0.30 ] ,\n",
        " \"max_depth\"        : [ 3, 4, 5, 6, 8, 10, 12, 15],\n",
        " \"min_child_weight\" : [ 1, 3, 5, 7 ],\n",
        " \"gamma\"            : [ 0.0, 0.1, 0.2 , 0.3, 0.4 ],\n",
        " \"colsample_bytree\" : [ 0.3, 0.4, 0.5 , 0.7 ]\n",
        "    \n",
        "}"
      ],
      "execution_count": 66,
      "outputs": []
    },
    {
      "cell_type": "code",
      "metadata": {
        "id": "-c83MhkxFcCd"
      },
      "source": [
        "## Hyperparameter optimization using RandomizedSearchCV\n",
        "from sklearn.model_selection import RandomizedSearchCV\n",
        "import xgboost"
      ],
      "execution_count": 67,
      "outputs": []
    },
    {
      "cell_type": "code",
      "metadata": {
        "id": "SOFHmayIFgHC"
      },
      "source": [
        "classifier=xgboost.XGBClassifier()"
      ],
      "execution_count": 68,
      "outputs": []
    },
    {
      "cell_type": "code",
      "metadata": {
        "id": "3u69laq9FjCF"
      },
      "source": [
        "random_search=RandomizedSearchCV(classifier,param_distributions=params,n_iter=5,scoring='roc_auc',n_jobs=-1,cv=5,verbose=3)"
      ],
      "execution_count": 69,
      "outputs": []
    },
    {
      "cell_type": "code",
      "metadata": {
        "id": "wN8MPezGFrzA"
      },
      "source": [
        "def timer(start_time=None):\n",
        "    if not start_time:\n",
        "        start_time = datetime.now()\n",
        "        return start_time\n",
        "    elif start_time:\n",
        "        thour, temp_sec = divmod((datetime.now() - start_time).total_seconds(), 3600)\n",
        "        tmin, tsec = divmod(temp_sec, 60)\n",
        "        print('\\n Time taken: %i hours %i minutes and %s seconds.' % (thour, tmin, round(tsec, 2)))"
      ],
      "execution_count": 70,
      "outputs": []
    },
    {
      "cell_type": "code",
      "metadata": {
        "colab": {
          "base_uri": "https://localhost:8080/"
        },
        "id": "1Y8kN5RwFvKb",
        "outputId": "e46919a1-86a0-4c3e-c194-3e0e0241623f"
      },
      "source": [
        "from datetime import datetime\n",
        "# Here we go\n",
        "start_time = timer(None) # timing starts from this point for \"start_time\" variable\n",
        "random_search.fit(X,y.ravel())\n",
        "timer(start_time) # timing ends here for \"start_time\" variable"
      ],
      "execution_count": 71,
      "outputs": [
        {
          "output_type": "stream",
          "text": [
            "Fitting 5 folds for each of 5 candidates, totalling 25 fits\n"
          ],
          "name": "stdout"
        },
        {
          "output_type": "stream",
          "text": [
            "[Parallel(n_jobs=-1)]: Using backend LokyBackend with 2 concurrent workers.\n",
            "[Parallel(n_jobs=-1)]: Done  25 out of  25 | elapsed:   10.2s finished\n"
          ],
          "name": "stderr"
        },
        {
          "output_type": "stream",
          "text": [
            "\n",
            " Time taken: 0 hours 0 minutes and 10.66 seconds.\n"
          ],
          "name": "stdout"
        }
      ]
    },
    {
      "cell_type": "code",
      "metadata": {
        "colab": {
          "base_uri": "https://localhost:8080/"
        },
        "id": "7q7iNISaFzpD",
        "outputId": "ea4fcc3f-130f-4a20-9d75-89e3455c15d3"
      },
      "source": [
        "random_search.best_estimator_"
      ],
      "execution_count": 72,
      "outputs": [
        {
          "output_type": "execute_result",
          "data": {
            "text/plain": [
              "XGBClassifier(base_score=0.5, booster='gbtree', colsample_bylevel=1,\n",
              "              colsample_bynode=1, colsample_bytree=0.4, gamma=0.4,\n",
              "              learning_rate=0.3, max_delta_step=0, max_depth=4,\n",
              "              min_child_weight=3, missing=None, n_estimators=100, n_jobs=1,\n",
              "              nthread=None, objective='binary:logistic', random_state=0,\n",
              "              reg_alpha=0, reg_lambda=1, scale_pos_weight=1, seed=None,\n",
              "              silent=None, subsample=1, verbosity=1)"
            ]
          },
          "metadata": {
            "tags": []
          },
          "execution_count": 72
        }
      ]
    },
    {
      "cell_type": "code",
      "metadata": {
        "id": "s6Q8VzuCF8L4"
      },
      "source": [
        "classifier=xgboost.XGBClassifier(base_score=0.5, booster='gbtree', colsample_bylevel=1,\n",
        "              colsample_bynode=1, colsample_bytree=0.4, gamma=0.0,\n",
        "              learning_rate=0.25, max_delta_step=0, max_depth=4,\n",
        "              min_child_weight=3, missing=None, n_estimators=100, n_jobs=1,\n",
        "              nthread=None, objective='binary:logistic', random_state=0,\n",
        "              reg_alpha=0, reg_lambda=1, scale_pos_weight=1, seed=None,\n",
        "              silent=None, subsample=1, verbosity=1)"
      ],
      "execution_count": 73,
      "outputs": []
    },
    {
      "cell_type": "code",
      "metadata": {
        "colab": {
          "base_uri": "https://localhost:8080/"
        },
        "id": "8b0wer8mGK-g",
        "outputId": "02b63538-4f0a-4644-e0f0-47f2399f33e4"
      },
      "source": [
        "from sklearn.model_selection import cross_val_score\n",
        "score=cross_val_score(classifier,X,y.ravel(),cv=10)\n",
        "score"
      ],
      "execution_count": 74,
      "outputs": [
        {
          "output_type": "execute_result",
          "data": {
            "text/plain": [
              "array([0.4263629 , 0.61513426, 0.45728234, 0.36533767, 0.60455655,\n",
              "       0.33197722, 0.24572823, 0.50772986, 0.5757329 , 0.59771987])"
            ]
          },
          "metadata": {
            "tags": []
          },
          "execution_count": 74
        }
      ]
    },
    {
      "cell_type": "code",
      "metadata": {
        "colab": {
          "base_uri": "https://localhost:8080/"
        },
        "id": "75Skjns7GOGQ",
        "outputId": "205f7ae6-cbd7-474b-88cd-89b563d13078"
      },
      "source": [
        "score.mean()"
      ],
      "execution_count": 75,
      "outputs": [
        {
          "output_type": "execute_result",
          "data": {
            "text/plain": [
              "0.4727561800462758"
            ]
          },
          "metadata": {
            "tags": []
          },
          "execution_count": 75
        }
      ]
    },
    {
      "cell_type": "markdown",
      "metadata": {
        "id": "Jwy2cdGfGjY2"
      },
      "source": [
        "###***KNN***"
      ]
    },
    {
      "cell_type": "code",
      "metadata": {
        "id": "ALfP7FopGmEd"
      },
      "source": [
        "from sklearn.neighbors import KNeighborsClassifier\n",
        "from sklearn.tree import DecisionTreeClassifier\n",
        "from sklearn.ensemble import RandomForestClassifier"
      ],
      "execution_count": 76,
      "outputs": []
    },
    {
      "cell_type": "code",
      "metadata": {
        "colab": {
          "base_uri": "https://localhost:8080/"
        },
        "id": "lmjSUbdYGyVd",
        "outputId": "87e79879-7d7e-49e2-cc15-090f940408b2"
      },
      "source": [
        "from sklearn.model_selection import cross_val_score\n",
        "knn_scores = []\n",
        "for k in range(1,21):\n",
        "    knn_classifier = KNeighborsClassifier(n_neighbors = k)\n",
        "    score=cross_val_score(knn_classifier,X,y,cv=10)\n",
        "    knn_scores.append(score.mean())"
      ],
      "execution_count": 77,
      "outputs": [
        {
          "output_type": "stream",
          "text": [
            "/usr/local/lib/python3.7/dist-packages/sklearn/model_selection/_validation.py:515: DataConversionWarning: A column-vector y was passed when a 1d array was expected. Please change the shape of y to (n_samples, ), for example using ravel().\n",
            "  estimator.fit(X_train, y_train, **fit_params)\n",
            "/usr/local/lib/python3.7/dist-packages/sklearn/model_selection/_validation.py:515: DataConversionWarning: A column-vector y was passed when a 1d array was expected. Please change the shape of y to (n_samples, ), for example using ravel().\n",
            "  estimator.fit(X_train, y_train, **fit_params)\n",
            "/usr/local/lib/python3.7/dist-packages/sklearn/model_selection/_validation.py:515: DataConversionWarning: A column-vector y was passed when a 1d array was expected. Please change the shape of y to (n_samples, ), for example using ravel().\n",
            "  estimator.fit(X_train, y_train, **fit_params)\n",
            "/usr/local/lib/python3.7/dist-packages/sklearn/model_selection/_validation.py:515: DataConversionWarning: A column-vector y was passed when a 1d array was expected. Please change the shape of y to (n_samples, ), for example using ravel().\n",
            "  estimator.fit(X_train, y_train, **fit_params)\n",
            "/usr/local/lib/python3.7/dist-packages/sklearn/model_selection/_validation.py:515: DataConversionWarning: A column-vector y was passed when a 1d array was expected. Please change the shape of y to (n_samples, ), for example using ravel().\n",
            "  estimator.fit(X_train, y_train, **fit_params)\n",
            "/usr/local/lib/python3.7/dist-packages/sklearn/model_selection/_validation.py:515: DataConversionWarning: A column-vector y was passed when a 1d array was expected. Please change the shape of y to (n_samples, ), for example using ravel().\n",
            "  estimator.fit(X_train, y_train, **fit_params)\n",
            "/usr/local/lib/python3.7/dist-packages/sklearn/model_selection/_validation.py:515: DataConversionWarning: A column-vector y was passed when a 1d array was expected. Please change the shape of y to (n_samples, ), for example using ravel().\n",
            "  estimator.fit(X_train, y_train, **fit_params)\n",
            "/usr/local/lib/python3.7/dist-packages/sklearn/model_selection/_validation.py:515: DataConversionWarning: A column-vector y was passed when a 1d array was expected. Please change the shape of y to (n_samples, ), for example using ravel().\n",
            "  estimator.fit(X_train, y_train, **fit_params)\n",
            "/usr/local/lib/python3.7/dist-packages/sklearn/model_selection/_validation.py:515: DataConversionWarning: A column-vector y was passed when a 1d array was expected. Please change the shape of y to (n_samples, ), for example using ravel().\n",
            "  estimator.fit(X_train, y_train, **fit_params)\n",
            "/usr/local/lib/python3.7/dist-packages/sklearn/model_selection/_validation.py:515: DataConversionWarning: A column-vector y was passed when a 1d array was expected. Please change the shape of y to (n_samples, ), for example using ravel().\n",
            "  estimator.fit(X_train, y_train, **fit_params)\n",
            "/usr/local/lib/python3.7/dist-packages/sklearn/model_selection/_validation.py:515: DataConversionWarning: A column-vector y was passed when a 1d array was expected. Please change the shape of y to (n_samples, ), for example using ravel().\n",
            "  estimator.fit(X_train, y_train, **fit_params)\n",
            "/usr/local/lib/python3.7/dist-packages/sklearn/model_selection/_validation.py:515: DataConversionWarning: A column-vector y was passed when a 1d array was expected. Please change the shape of y to (n_samples, ), for example using ravel().\n",
            "  estimator.fit(X_train, y_train, **fit_params)\n",
            "/usr/local/lib/python3.7/dist-packages/sklearn/model_selection/_validation.py:515: DataConversionWarning: A column-vector y was passed when a 1d array was expected. Please change the shape of y to (n_samples, ), for example using ravel().\n",
            "  estimator.fit(X_train, y_train, **fit_params)\n",
            "/usr/local/lib/python3.7/dist-packages/sklearn/model_selection/_validation.py:515: DataConversionWarning: A column-vector y was passed when a 1d array was expected. Please change the shape of y to (n_samples, ), for example using ravel().\n",
            "  estimator.fit(X_train, y_train, **fit_params)\n",
            "/usr/local/lib/python3.7/dist-packages/sklearn/model_selection/_validation.py:515: DataConversionWarning: A column-vector y was passed when a 1d array was expected. Please change the shape of y to (n_samples, ), for example using ravel().\n",
            "  estimator.fit(X_train, y_train, **fit_params)\n",
            "/usr/local/lib/python3.7/dist-packages/sklearn/model_selection/_validation.py:515: DataConversionWarning: A column-vector y was passed when a 1d array was expected. Please change the shape of y to (n_samples, ), for example using ravel().\n",
            "  estimator.fit(X_train, y_train, **fit_params)\n",
            "/usr/local/lib/python3.7/dist-packages/sklearn/model_selection/_validation.py:515: DataConversionWarning: A column-vector y was passed when a 1d array was expected. Please change the shape of y to (n_samples, ), for example using ravel().\n",
            "  estimator.fit(X_train, y_train, **fit_params)\n",
            "/usr/local/lib/python3.7/dist-packages/sklearn/model_selection/_validation.py:515: DataConversionWarning: A column-vector y was passed when a 1d array was expected. Please change the shape of y to (n_samples, ), for example using ravel().\n",
            "  estimator.fit(X_train, y_train, **fit_params)\n",
            "/usr/local/lib/python3.7/dist-packages/sklearn/model_selection/_validation.py:515: DataConversionWarning: A column-vector y was passed when a 1d array was expected. Please change the shape of y to (n_samples, ), for example using ravel().\n",
            "  estimator.fit(X_train, y_train, **fit_params)\n",
            "/usr/local/lib/python3.7/dist-packages/sklearn/model_selection/_validation.py:515: DataConversionWarning: A column-vector y was passed when a 1d array was expected. Please change the shape of y to (n_samples, ), for example using ravel().\n",
            "  estimator.fit(X_train, y_train, **fit_params)\n",
            "/usr/local/lib/python3.7/dist-packages/sklearn/model_selection/_validation.py:515: DataConversionWarning: A column-vector y was passed when a 1d array was expected. Please change the shape of y to (n_samples, ), for example using ravel().\n",
            "  estimator.fit(X_train, y_train, **fit_params)\n",
            "/usr/local/lib/python3.7/dist-packages/sklearn/model_selection/_validation.py:515: DataConversionWarning: A column-vector y was passed when a 1d array was expected. Please change the shape of y to (n_samples, ), for example using ravel().\n",
            "  estimator.fit(X_train, y_train, **fit_params)\n",
            "/usr/local/lib/python3.7/dist-packages/sklearn/model_selection/_validation.py:515: DataConversionWarning: A column-vector y was passed when a 1d array was expected. Please change the shape of y to (n_samples, ), for example using ravel().\n",
            "  estimator.fit(X_train, y_train, **fit_params)\n",
            "/usr/local/lib/python3.7/dist-packages/sklearn/model_selection/_validation.py:515: DataConversionWarning: A column-vector y was passed when a 1d array was expected. Please change the shape of y to (n_samples, ), for example using ravel().\n",
            "  estimator.fit(X_train, y_train, **fit_params)\n",
            "/usr/local/lib/python3.7/dist-packages/sklearn/model_selection/_validation.py:515: DataConversionWarning: A column-vector y was passed when a 1d array was expected. Please change the shape of y to (n_samples, ), for example using ravel().\n",
            "  estimator.fit(X_train, y_train, **fit_params)\n",
            "/usr/local/lib/python3.7/dist-packages/sklearn/model_selection/_validation.py:515: DataConversionWarning: A column-vector y was passed when a 1d array was expected. Please change the shape of y to (n_samples, ), for example using ravel().\n",
            "  estimator.fit(X_train, y_train, **fit_params)\n",
            "/usr/local/lib/python3.7/dist-packages/sklearn/model_selection/_validation.py:515: DataConversionWarning: A column-vector y was passed when a 1d array was expected. Please change the shape of y to (n_samples, ), for example using ravel().\n",
            "  estimator.fit(X_train, y_train, **fit_params)\n",
            "/usr/local/lib/python3.7/dist-packages/sklearn/model_selection/_validation.py:515: DataConversionWarning: A column-vector y was passed when a 1d array was expected. Please change the shape of y to (n_samples, ), for example using ravel().\n",
            "  estimator.fit(X_train, y_train, **fit_params)\n",
            "/usr/local/lib/python3.7/dist-packages/sklearn/model_selection/_validation.py:515: DataConversionWarning: A column-vector y was passed when a 1d array was expected. Please change the shape of y to (n_samples, ), for example using ravel().\n",
            "  estimator.fit(X_train, y_train, **fit_params)\n",
            "/usr/local/lib/python3.7/dist-packages/sklearn/model_selection/_validation.py:515: DataConversionWarning: A column-vector y was passed when a 1d array was expected. Please change the shape of y to (n_samples, ), for example using ravel().\n",
            "  estimator.fit(X_train, y_train, **fit_params)\n",
            "/usr/local/lib/python3.7/dist-packages/sklearn/model_selection/_validation.py:515: DataConversionWarning: A column-vector y was passed when a 1d array was expected. Please change the shape of y to (n_samples, ), for example using ravel().\n",
            "  estimator.fit(X_train, y_train, **fit_params)\n",
            "/usr/local/lib/python3.7/dist-packages/sklearn/model_selection/_validation.py:515: DataConversionWarning: A column-vector y was passed when a 1d array was expected. Please change the shape of y to (n_samples, ), for example using ravel().\n",
            "  estimator.fit(X_train, y_train, **fit_params)\n",
            "/usr/local/lib/python3.7/dist-packages/sklearn/model_selection/_validation.py:515: DataConversionWarning: A column-vector y was passed when a 1d array was expected. Please change the shape of y to (n_samples, ), for example using ravel().\n",
            "  estimator.fit(X_train, y_train, **fit_params)\n",
            "/usr/local/lib/python3.7/dist-packages/sklearn/model_selection/_validation.py:515: DataConversionWarning: A column-vector y was passed when a 1d array was expected. Please change the shape of y to (n_samples, ), for example using ravel().\n",
            "  estimator.fit(X_train, y_train, **fit_params)\n",
            "/usr/local/lib/python3.7/dist-packages/sklearn/model_selection/_validation.py:515: DataConversionWarning: A column-vector y was passed when a 1d array was expected. Please change the shape of y to (n_samples, ), for example using ravel().\n",
            "  estimator.fit(X_train, y_train, **fit_params)\n",
            "/usr/local/lib/python3.7/dist-packages/sklearn/model_selection/_validation.py:515: DataConversionWarning: A column-vector y was passed when a 1d array was expected. Please change the shape of y to (n_samples, ), for example using ravel().\n",
            "  estimator.fit(X_train, y_train, **fit_params)\n",
            "/usr/local/lib/python3.7/dist-packages/sklearn/model_selection/_validation.py:515: DataConversionWarning: A column-vector y was passed when a 1d array was expected. Please change the shape of y to (n_samples, ), for example using ravel().\n",
            "  estimator.fit(X_train, y_train, **fit_params)\n",
            "/usr/local/lib/python3.7/dist-packages/sklearn/model_selection/_validation.py:515: DataConversionWarning: A column-vector y was passed when a 1d array was expected. Please change the shape of y to (n_samples, ), for example using ravel().\n",
            "  estimator.fit(X_train, y_train, **fit_params)\n",
            "/usr/local/lib/python3.7/dist-packages/sklearn/model_selection/_validation.py:515: DataConversionWarning: A column-vector y was passed when a 1d array was expected. Please change the shape of y to (n_samples, ), for example using ravel().\n",
            "  estimator.fit(X_train, y_train, **fit_params)\n",
            "/usr/local/lib/python3.7/dist-packages/sklearn/model_selection/_validation.py:515: DataConversionWarning: A column-vector y was passed when a 1d array was expected. Please change the shape of y to (n_samples, ), for example using ravel().\n",
            "  estimator.fit(X_train, y_train, **fit_params)\n",
            "/usr/local/lib/python3.7/dist-packages/sklearn/model_selection/_validation.py:515: DataConversionWarning: A column-vector y was passed when a 1d array was expected. Please change the shape of y to (n_samples, ), for example using ravel().\n",
            "  estimator.fit(X_train, y_train, **fit_params)\n",
            "/usr/local/lib/python3.7/dist-packages/sklearn/model_selection/_validation.py:515: DataConversionWarning: A column-vector y was passed when a 1d array was expected. Please change the shape of y to (n_samples, ), for example using ravel().\n",
            "  estimator.fit(X_train, y_train, **fit_params)\n",
            "/usr/local/lib/python3.7/dist-packages/sklearn/model_selection/_validation.py:515: DataConversionWarning: A column-vector y was passed when a 1d array was expected. Please change the shape of y to (n_samples, ), for example using ravel().\n",
            "  estimator.fit(X_train, y_train, **fit_params)\n",
            "/usr/local/lib/python3.7/dist-packages/sklearn/model_selection/_validation.py:515: DataConversionWarning: A column-vector y was passed when a 1d array was expected. Please change the shape of y to (n_samples, ), for example using ravel().\n",
            "  estimator.fit(X_train, y_train, **fit_params)\n",
            "/usr/local/lib/python3.7/dist-packages/sklearn/model_selection/_validation.py:515: DataConversionWarning: A column-vector y was passed when a 1d array was expected. Please change the shape of y to (n_samples, ), for example using ravel().\n",
            "  estimator.fit(X_train, y_train, **fit_params)\n",
            "/usr/local/lib/python3.7/dist-packages/sklearn/model_selection/_validation.py:515: DataConversionWarning: A column-vector y was passed when a 1d array was expected. Please change the shape of y to (n_samples, ), for example using ravel().\n",
            "  estimator.fit(X_train, y_train, **fit_params)\n",
            "/usr/local/lib/python3.7/dist-packages/sklearn/model_selection/_validation.py:515: DataConversionWarning: A column-vector y was passed when a 1d array was expected. Please change the shape of y to (n_samples, ), for example using ravel().\n",
            "  estimator.fit(X_train, y_train, **fit_params)\n",
            "/usr/local/lib/python3.7/dist-packages/sklearn/model_selection/_validation.py:515: DataConversionWarning: A column-vector y was passed when a 1d array was expected. Please change the shape of y to (n_samples, ), for example using ravel().\n",
            "  estimator.fit(X_train, y_train, **fit_params)\n",
            "/usr/local/lib/python3.7/dist-packages/sklearn/model_selection/_validation.py:515: DataConversionWarning: A column-vector y was passed when a 1d array was expected. Please change the shape of y to (n_samples, ), for example using ravel().\n",
            "  estimator.fit(X_train, y_train, **fit_params)\n",
            "/usr/local/lib/python3.7/dist-packages/sklearn/model_selection/_validation.py:515: DataConversionWarning: A column-vector y was passed when a 1d array was expected. Please change the shape of y to (n_samples, ), for example using ravel().\n",
            "  estimator.fit(X_train, y_train, **fit_params)\n",
            "/usr/local/lib/python3.7/dist-packages/sklearn/model_selection/_validation.py:515: DataConversionWarning: A column-vector y was passed when a 1d array was expected. Please change the shape of y to (n_samples, ), for example using ravel().\n",
            "  estimator.fit(X_train, y_train, **fit_params)\n",
            "/usr/local/lib/python3.7/dist-packages/sklearn/model_selection/_validation.py:515: DataConversionWarning: A column-vector y was passed when a 1d array was expected. Please change the shape of y to (n_samples, ), for example using ravel().\n",
            "  estimator.fit(X_train, y_train, **fit_params)\n",
            "/usr/local/lib/python3.7/dist-packages/sklearn/model_selection/_validation.py:515: DataConversionWarning: A column-vector y was passed when a 1d array was expected. Please change the shape of y to (n_samples, ), for example using ravel().\n",
            "  estimator.fit(X_train, y_train, **fit_params)\n",
            "/usr/local/lib/python3.7/dist-packages/sklearn/model_selection/_validation.py:515: DataConversionWarning: A column-vector y was passed when a 1d array was expected. Please change the shape of y to (n_samples, ), for example using ravel().\n",
            "  estimator.fit(X_train, y_train, **fit_params)\n",
            "/usr/local/lib/python3.7/dist-packages/sklearn/model_selection/_validation.py:515: DataConversionWarning: A column-vector y was passed when a 1d array was expected. Please change the shape of y to (n_samples, ), for example using ravel().\n",
            "  estimator.fit(X_train, y_train, **fit_params)\n",
            "/usr/local/lib/python3.7/dist-packages/sklearn/model_selection/_validation.py:515: DataConversionWarning: A column-vector y was passed when a 1d array was expected. Please change the shape of y to (n_samples, ), for example using ravel().\n",
            "  estimator.fit(X_train, y_train, **fit_params)\n",
            "/usr/local/lib/python3.7/dist-packages/sklearn/model_selection/_validation.py:515: DataConversionWarning: A column-vector y was passed when a 1d array was expected. Please change the shape of y to (n_samples, ), for example using ravel().\n",
            "  estimator.fit(X_train, y_train, **fit_params)\n",
            "/usr/local/lib/python3.7/dist-packages/sklearn/model_selection/_validation.py:515: DataConversionWarning: A column-vector y was passed when a 1d array was expected. Please change the shape of y to (n_samples, ), for example using ravel().\n",
            "  estimator.fit(X_train, y_train, **fit_params)\n",
            "/usr/local/lib/python3.7/dist-packages/sklearn/model_selection/_validation.py:515: DataConversionWarning: A column-vector y was passed when a 1d array was expected. Please change the shape of y to (n_samples, ), for example using ravel().\n",
            "  estimator.fit(X_train, y_train, **fit_params)\n",
            "/usr/local/lib/python3.7/dist-packages/sklearn/model_selection/_validation.py:515: DataConversionWarning: A column-vector y was passed when a 1d array was expected. Please change the shape of y to (n_samples, ), for example using ravel().\n",
            "  estimator.fit(X_train, y_train, **fit_params)\n",
            "/usr/local/lib/python3.7/dist-packages/sklearn/model_selection/_validation.py:515: DataConversionWarning: A column-vector y was passed when a 1d array was expected. Please change the shape of y to (n_samples, ), for example using ravel().\n",
            "  estimator.fit(X_train, y_train, **fit_params)\n",
            "/usr/local/lib/python3.7/dist-packages/sklearn/model_selection/_validation.py:515: DataConversionWarning: A column-vector y was passed when a 1d array was expected. Please change the shape of y to (n_samples, ), for example using ravel().\n",
            "  estimator.fit(X_train, y_train, **fit_params)\n",
            "/usr/local/lib/python3.7/dist-packages/sklearn/model_selection/_validation.py:515: DataConversionWarning: A column-vector y was passed when a 1d array was expected. Please change the shape of y to (n_samples, ), for example using ravel().\n",
            "  estimator.fit(X_train, y_train, **fit_params)\n",
            "/usr/local/lib/python3.7/dist-packages/sklearn/model_selection/_validation.py:515: DataConversionWarning: A column-vector y was passed when a 1d array was expected. Please change the shape of y to (n_samples, ), for example using ravel().\n",
            "  estimator.fit(X_train, y_train, **fit_params)\n",
            "/usr/local/lib/python3.7/dist-packages/sklearn/model_selection/_validation.py:515: DataConversionWarning: A column-vector y was passed when a 1d array was expected. Please change the shape of y to (n_samples, ), for example using ravel().\n",
            "  estimator.fit(X_train, y_train, **fit_params)\n",
            "/usr/local/lib/python3.7/dist-packages/sklearn/model_selection/_validation.py:515: DataConversionWarning: A column-vector y was passed when a 1d array was expected. Please change the shape of y to (n_samples, ), for example using ravel().\n",
            "  estimator.fit(X_train, y_train, **fit_params)\n",
            "/usr/local/lib/python3.7/dist-packages/sklearn/model_selection/_validation.py:515: DataConversionWarning: A column-vector y was passed when a 1d array was expected. Please change the shape of y to (n_samples, ), for example using ravel().\n",
            "  estimator.fit(X_train, y_train, **fit_params)\n",
            "/usr/local/lib/python3.7/dist-packages/sklearn/model_selection/_validation.py:515: DataConversionWarning: A column-vector y was passed when a 1d array was expected. Please change the shape of y to (n_samples, ), for example using ravel().\n",
            "  estimator.fit(X_train, y_train, **fit_params)\n",
            "/usr/local/lib/python3.7/dist-packages/sklearn/model_selection/_validation.py:515: DataConversionWarning: A column-vector y was passed when a 1d array was expected. Please change the shape of y to (n_samples, ), for example using ravel().\n",
            "  estimator.fit(X_train, y_train, **fit_params)\n",
            "/usr/local/lib/python3.7/dist-packages/sklearn/model_selection/_validation.py:515: DataConversionWarning: A column-vector y was passed when a 1d array was expected. Please change the shape of y to (n_samples, ), for example using ravel().\n",
            "  estimator.fit(X_train, y_train, **fit_params)\n",
            "/usr/local/lib/python3.7/dist-packages/sklearn/model_selection/_validation.py:515: DataConversionWarning: A column-vector y was passed when a 1d array was expected. Please change the shape of y to (n_samples, ), for example using ravel().\n",
            "  estimator.fit(X_train, y_train, **fit_params)\n",
            "/usr/local/lib/python3.7/dist-packages/sklearn/model_selection/_validation.py:515: DataConversionWarning: A column-vector y was passed when a 1d array was expected. Please change the shape of y to (n_samples, ), for example using ravel().\n",
            "  estimator.fit(X_train, y_train, **fit_params)\n",
            "/usr/local/lib/python3.7/dist-packages/sklearn/model_selection/_validation.py:515: DataConversionWarning: A column-vector y was passed when a 1d array was expected. Please change the shape of y to (n_samples, ), for example using ravel().\n",
            "  estimator.fit(X_train, y_train, **fit_params)\n",
            "/usr/local/lib/python3.7/dist-packages/sklearn/model_selection/_validation.py:515: DataConversionWarning: A column-vector y was passed when a 1d array was expected. Please change the shape of y to (n_samples, ), for example using ravel().\n",
            "  estimator.fit(X_train, y_train, **fit_params)\n",
            "/usr/local/lib/python3.7/dist-packages/sklearn/model_selection/_validation.py:515: DataConversionWarning: A column-vector y was passed when a 1d array was expected. Please change the shape of y to (n_samples, ), for example using ravel().\n",
            "  estimator.fit(X_train, y_train, **fit_params)\n",
            "/usr/local/lib/python3.7/dist-packages/sklearn/model_selection/_validation.py:515: DataConversionWarning: A column-vector y was passed when a 1d array was expected. Please change the shape of y to (n_samples, ), for example using ravel().\n",
            "  estimator.fit(X_train, y_train, **fit_params)\n",
            "/usr/local/lib/python3.7/dist-packages/sklearn/model_selection/_validation.py:515: DataConversionWarning: A column-vector y was passed when a 1d array was expected. Please change the shape of y to (n_samples, ), for example using ravel().\n",
            "  estimator.fit(X_train, y_train, **fit_params)\n",
            "/usr/local/lib/python3.7/dist-packages/sklearn/model_selection/_validation.py:515: DataConversionWarning: A column-vector y was passed when a 1d array was expected. Please change the shape of y to (n_samples, ), for example using ravel().\n",
            "  estimator.fit(X_train, y_train, **fit_params)\n",
            "/usr/local/lib/python3.7/dist-packages/sklearn/model_selection/_validation.py:515: DataConversionWarning: A column-vector y was passed when a 1d array was expected. Please change the shape of y to (n_samples, ), for example using ravel().\n",
            "  estimator.fit(X_train, y_train, **fit_params)\n",
            "/usr/local/lib/python3.7/dist-packages/sklearn/model_selection/_validation.py:515: DataConversionWarning: A column-vector y was passed when a 1d array was expected. Please change the shape of y to (n_samples, ), for example using ravel().\n",
            "  estimator.fit(X_train, y_train, **fit_params)\n",
            "/usr/local/lib/python3.7/dist-packages/sklearn/model_selection/_validation.py:515: DataConversionWarning: A column-vector y was passed when a 1d array was expected. Please change the shape of y to (n_samples, ), for example using ravel().\n",
            "  estimator.fit(X_train, y_train, **fit_params)\n",
            "/usr/local/lib/python3.7/dist-packages/sklearn/model_selection/_validation.py:515: DataConversionWarning: A column-vector y was passed when a 1d array was expected. Please change the shape of y to (n_samples, ), for example using ravel().\n",
            "  estimator.fit(X_train, y_train, **fit_params)\n",
            "/usr/local/lib/python3.7/dist-packages/sklearn/model_selection/_validation.py:515: DataConversionWarning: A column-vector y was passed when a 1d array was expected. Please change the shape of y to (n_samples, ), for example using ravel().\n",
            "  estimator.fit(X_train, y_train, **fit_params)\n",
            "/usr/local/lib/python3.7/dist-packages/sklearn/model_selection/_validation.py:515: DataConversionWarning: A column-vector y was passed when a 1d array was expected. Please change the shape of y to (n_samples, ), for example using ravel().\n",
            "  estimator.fit(X_train, y_train, **fit_params)\n",
            "/usr/local/lib/python3.7/dist-packages/sklearn/model_selection/_validation.py:515: DataConversionWarning: A column-vector y was passed when a 1d array was expected. Please change the shape of y to (n_samples, ), for example using ravel().\n",
            "  estimator.fit(X_train, y_train, **fit_params)\n",
            "/usr/local/lib/python3.7/dist-packages/sklearn/model_selection/_validation.py:515: DataConversionWarning: A column-vector y was passed when a 1d array was expected. Please change the shape of y to (n_samples, ), for example using ravel().\n",
            "  estimator.fit(X_train, y_train, **fit_params)\n",
            "/usr/local/lib/python3.7/dist-packages/sklearn/model_selection/_validation.py:515: DataConversionWarning: A column-vector y was passed when a 1d array was expected. Please change the shape of y to (n_samples, ), for example using ravel().\n",
            "  estimator.fit(X_train, y_train, **fit_params)\n",
            "/usr/local/lib/python3.7/dist-packages/sklearn/model_selection/_validation.py:515: DataConversionWarning: A column-vector y was passed when a 1d array was expected. Please change the shape of y to (n_samples, ), for example using ravel().\n",
            "  estimator.fit(X_train, y_train, **fit_params)\n",
            "/usr/local/lib/python3.7/dist-packages/sklearn/model_selection/_validation.py:515: DataConversionWarning: A column-vector y was passed when a 1d array was expected. Please change the shape of y to (n_samples, ), for example using ravel().\n",
            "  estimator.fit(X_train, y_train, **fit_params)\n",
            "/usr/local/lib/python3.7/dist-packages/sklearn/model_selection/_validation.py:515: DataConversionWarning: A column-vector y was passed when a 1d array was expected. Please change the shape of y to (n_samples, ), for example using ravel().\n",
            "  estimator.fit(X_train, y_train, **fit_params)\n",
            "/usr/local/lib/python3.7/dist-packages/sklearn/model_selection/_validation.py:515: DataConversionWarning: A column-vector y was passed when a 1d array was expected. Please change the shape of y to (n_samples, ), for example using ravel().\n",
            "  estimator.fit(X_train, y_train, **fit_params)\n",
            "/usr/local/lib/python3.7/dist-packages/sklearn/model_selection/_validation.py:515: DataConversionWarning: A column-vector y was passed when a 1d array was expected. Please change the shape of y to (n_samples, ), for example using ravel().\n",
            "  estimator.fit(X_train, y_train, **fit_params)\n",
            "/usr/local/lib/python3.7/dist-packages/sklearn/model_selection/_validation.py:515: DataConversionWarning: A column-vector y was passed when a 1d array was expected. Please change the shape of y to (n_samples, ), for example using ravel().\n",
            "  estimator.fit(X_train, y_train, **fit_params)\n",
            "/usr/local/lib/python3.7/dist-packages/sklearn/model_selection/_validation.py:515: DataConversionWarning: A column-vector y was passed when a 1d array was expected. Please change the shape of y to (n_samples, ), for example using ravel().\n",
            "  estimator.fit(X_train, y_train, **fit_params)\n",
            "/usr/local/lib/python3.7/dist-packages/sklearn/model_selection/_validation.py:515: DataConversionWarning: A column-vector y was passed when a 1d array was expected. Please change the shape of y to (n_samples, ), for example using ravel().\n",
            "  estimator.fit(X_train, y_train, **fit_params)\n",
            "/usr/local/lib/python3.7/dist-packages/sklearn/model_selection/_validation.py:515: DataConversionWarning: A column-vector y was passed when a 1d array was expected. Please change the shape of y to (n_samples, ), for example using ravel().\n",
            "  estimator.fit(X_train, y_train, **fit_params)\n",
            "/usr/local/lib/python3.7/dist-packages/sklearn/model_selection/_validation.py:515: DataConversionWarning: A column-vector y was passed when a 1d array was expected. Please change the shape of y to (n_samples, ), for example using ravel().\n",
            "  estimator.fit(X_train, y_train, **fit_params)\n",
            "/usr/local/lib/python3.7/dist-packages/sklearn/model_selection/_validation.py:515: DataConversionWarning: A column-vector y was passed when a 1d array was expected. Please change the shape of y to (n_samples, ), for example using ravel().\n",
            "  estimator.fit(X_train, y_train, **fit_params)\n",
            "/usr/local/lib/python3.7/dist-packages/sklearn/model_selection/_validation.py:515: DataConversionWarning: A column-vector y was passed when a 1d array was expected. Please change the shape of y to (n_samples, ), for example using ravel().\n",
            "  estimator.fit(X_train, y_train, **fit_params)\n",
            "/usr/local/lib/python3.7/dist-packages/sklearn/model_selection/_validation.py:515: DataConversionWarning: A column-vector y was passed when a 1d array was expected. Please change the shape of y to (n_samples, ), for example using ravel().\n",
            "  estimator.fit(X_train, y_train, **fit_params)\n",
            "/usr/local/lib/python3.7/dist-packages/sklearn/model_selection/_validation.py:515: DataConversionWarning: A column-vector y was passed when a 1d array was expected. Please change the shape of y to (n_samples, ), for example using ravel().\n",
            "  estimator.fit(X_train, y_train, **fit_params)\n",
            "/usr/local/lib/python3.7/dist-packages/sklearn/model_selection/_validation.py:515: DataConversionWarning: A column-vector y was passed when a 1d array was expected. Please change the shape of y to (n_samples, ), for example using ravel().\n",
            "  estimator.fit(X_train, y_train, **fit_params)\n",
            "/usr/local/lib/python3.7/dist-packages/sklearn/model_selection/_validation.py:515: DataConversionWarning: A column-vector y was passed when a 1d array was expected. Please change the shape of y to (n_samples, ), for example using ravel().\n",
            "  estimator.fit(X_train, y_train, **fit_params)\n",
            "/usr/local/lib/python3.7/dist-packages/sklearn/model_selection/_validation.py:515: DataConversionWarning: A column-vector y was passed when a 1d array was expected. Please change the shape of y to (n_samples, ), for example using ravel().\n",
            "  estimator.fit(X_train, y_train, **fit_params)\n",
            "/usr/local/lib/python3.7/dist-packages/sklearn/model_selection/_validation.py:515: DataConversionWarning: A column-vector y was passed when a 1d array was expected. Please change the shape of y to (n_samples, ), for example using ravel().\n",
            "  estimator.fit(X_train, y_train, **fit_params)\n",
            "/usr/local/lib/python3.7/dist-packages/sklearn/model_selection/_validation.py:515: DataConversionWarning: A column-vector y was passed when a 1d array was expected. Please change the shape of y to (n_samples, ), for example using ravel().\n",
            "  estimator.fit(X_train, y_train, **fit_params)\n",
            "/usr/local/lib/python3.7/dist-packages/sklearn/model_selection/_validation.py:515: DataConversionWarning: A column-vector y was passed when a 1d array was expected. Please change the shape of y to (n_samples, ), for example using ravel().\n",
            "  estimator.fit(X_train, y_train, **fit_params)\n",
            "/usr/local/lib/python3.7/dist-packages/sklearn/model_selection/_validation.py:515: DataConversionWarning: A column-vector y was passed when a 1d array was expected. Please change the shape of y to (n_samples, ), for example using ravel().\n",
            "  estimator.fit(X_train, y_train, **fit_params)\n",
            "/usr/local/lib/python3.7/dist-packages/sklearn/model_selection/_validation.py:515: DataConversionWarning: A column-vector y was passed when a 1d array was expected. Please change the shape of y to (n_samples, ), for example using ravel().\n",
            "  estimator.fit(X_train, y_train, **fit_params)\n",
            "/usr/local/lib/python3.7/dist-packages/sklearn/model_selection/_validation.py:515: DataConversionWarning: A column-vector y was passed when a 1d array was expected. Please change the shape of y to (n_samples, ), for example using ravel().\n",
            "  estimator.fit(X_train, y_train, **fit_params)\n",
            "/usr/local/lib/python3.7/dist-packages/sklearn/model_selection/_validation.py:515: DataConversionWarning: A column-vector y was passed when a 1d array was expected. Please change the shape of y to (n_samples, ), for example using ravel().\n",
            "  estimator.fit(X_train, y_train, **fit_params)\n",
            "/usr/local/lib/python3.7/dist-packages/sklearn/model_selection/_validation.py:515: DataConversionWarning: A column-vector y was passed when a 1d array was expected. Please change the shape of y to (n_samples, ), for example using ravel().\n",
            "  estimator.fit(X_train, y_train, **fit_params)\n",
            "/usr/local/lib/python3.7/dist-packages/sklearn/model_selection/_validation.py:515: DataConversionWarning: A column-vector y was passed when a 1d array was expected. Please change the shape of y to (n_samples, ), for example using ravel().\n",
            "  estimator.fit(X_train, y_train, **fit_params)\n",
            "/usr/local/lib/python3.7/dist-packages/sklearn/model_selection/_validation.py:515: DataConversionWarning: A column-vector y was passed when a 1d array was expected. Please change the shape of y to (n_samples, ), for example using ravel().\n",
            "  estimator.fit(X_train, y_train, **fit_params)\n",
            "/usr/local/lib/python3.7/dist-packages/sklearn/model_selection/_validation.py:515: DataConversionWarning: A column-vector y was passed when a 1d array was expected. Please change the shape of y to (n_samples, ), for example using ravel().\n",
            "  estimator.fit(X_train, y_train, **fit_params)\n",
            "/usr/local/lib/python3.7/dist-packages/sklearn/model_selection/_validation.py:515: DataConversionWarning: A column-vector y was passed when a 1d array was expected. Please change the shape of y to (n_samples, ), for example using ravel().\n",
            "  estimator.fit(X_train, y_train, **fit_params)\n",
            "/usr/local/lib/python3.7/dist-packages/sklearn/model_selection/_validation.py:515: DataConversionWarning: A column-vector y was passed when a 1d array was expected. Please change the shape of y to (n_samples, ), for example using ravel().\n",
            "  estimator.fit(X_train, y_train, **fit_params)\n",
            "/usr/local/lib/python3.7/dist-packages/sklearn/model_selection/_validation.py:515: DataConversionWarning: A column-vector y was passed when a 1d array was expected. Please change the shape of y to (n_samples, ), for example using ravel().\n",
            "  estimator.fit(X_train, y_train, **fit_params)\n",
            "/usr/local/lib/python3.7/dist-packages/sklearn/model_selection/_validation.py:515: DataConversionWarning: A column-vector y was passed when a 1d array was expected. Please change the shape of y to (n_samples, ), for example using ravel().\n",
            "  estimator.fit(X_train, y_train, **fit_params)\n",
            "/usr/local/lib/python3.7/dist-packages/sklearn/model_selection/_validation.py:515: DataConversionWarning: A column-vector y was passed when a 1d array was expected. Please change the shape of y to (n_samples, ), for example using ravel().\n",
            "  estimator.fit(X_train, y_train, **fit_params)\n",
            "/usr/local/lib/python3.7/dist-packages/sklearn/model_selection/_validation.py:515: DataConversionWarning: A column-vector y was passed when a 1d array was expected. Please change the shape of y to (n_samples, ), for example using ravel().\n",
            "  estimator.fit(X_train, y_train, **fit_params)\n",
            "/usr/local/lib/python3.7/dist-packages/sklearn/model_selection/_validation.py:515: DataConversionWarning: A column-vector y was passed when a 1d array was expected. Please change the shape of y to (n_samples, ), for example using ravel().\n",
            "  estimator.fit(X_train, y_train, **fit_params)\n",
            "/usr/local/lib/python3.7/dist-packages/sklearn/model_selection/_validation.py:515: DataConversionWarning: A column-vector y was passed when a 1d array was expected. Please change the shape of y to (n_samples, ), for example using ravel().\n",
            "  estimator.fit(X_train, y_train, **fit_params)\n",
            "/usr/local/lib/python3.7/dist-packages/sklearn/model_selection/_validation.py:515: DataConversionWarning: A column-vector y was passed when a 1d array was expected. Please change the shape of y to (n_samples, ), for example using ravel().\n",
            "  estimator.fit(X_train, y_train, **fit_params)\n",
            "/usr/local/lib/python3.7/dist-packages/sklearn/model_selection/_validation.py:515: DataConversionWarning: A column-vector y was passed when a 1d array was expected. Please change the shape of y to (n_samples, ), for example using ravel().\n",
            "  estimator.fit(X_train, y_train, **fit_params)\n",
            "/usr/local/lib/python3.7/dist-packages/sklearn/model_selection/_validation.py:515: DataConversionWarning: A column-vector y was passed when a 1d array was expected. Please change the shape of y to (n_samples, ), for example using ravel().\n",
            "  estimator.fit(X_train, y_train, **fit_params)\n",
            "/usr/local/lib/python3.7/dist-packages/sklearn/model_selection/_validation.py:515: DataConversionWarning: A column-vector y was passed when a 1d array was expected. Please change the shape of y to (n_samples, ), for example using ravel().\n",
            "  estimator.fit(X_train, y_train, **fit_params)\n",
            "/usr/local/lib/python3.7/dist-packages/sklearn/model_selection/_validation.py:515: DataConversionWarning: A column-vector y was passed when a 1d array was expected. Please change the shape of y to (n_samples, ), for example using ravel().\n",
            "  estimator.fit(X_train, y_train, **fit_params)\n",
            "/usr/local/lib/python3.7/dist-packages/sklearn/model_selection/_validation.py:515: DataConversionWarning: A column-vector y was passed when a 1d array was expected. Please change the shape of y to (n_samples, ), for example using ravel().\n",
            "  estimator.fit(X_train, y_train, **fit_params)\n",
            "/usr/local/lib/python3.7/dist-packages/sklearn/model_selection/_validation.py:515: DataConversionWarning: A column-vector y was passed when a 1d array was expected. Please change the shape of y to (n_samples, ), for example using ravel().\n",
            "  estimator.fit(X_train, y_train, **fit_params)\n",
            "/usr/local/lib/python3.7/dist-packages/sklearn/model_selection/_validation.py:515: DataConversionWarning: A column-vector y was passed when a 1d array was expected. Please change the shape of y to (n_samples, ), for example using ravel().\n",
            "  estimator.fit(X_train, y_train, **fit_params)\n",
            "/usr/local/lib/python3.7/dist-packages/sklearn/model_selection/_validation.py:515: DataConversionWarning: A column-vector y was passed when a 1d array was expected. Please change the shape of y to (n_samples, ), for example using ravel().\n",
            "  estimator.fit(X_train, y_train, **fit_params)\n",
            "/usr/local/lib/python3.7/dist-packages/sklearn/model_selection/_validation.py:515: DataConversionWarning: A column-vector y was passed when a 1d array was expected. Please change the shape of y to (n_samples, ), for example using ravel().\n",
            "  estimator.fit(X_train, y_train, **fit_params)\n",
            "/usr/local/lib/python3.7/dist-packages/sklearn/model_selection/_validation.py:515: DataConversionWarning: A column-vector y was passed when a 1d array was expected. Please change the shape of y to (n_samples, ), for example using ravel().\n",
            "  estimator.fit(X_train, y_train, **fit_params)\n",
            "/usr/local/lib/python3.7/dist-packages/sklearn/model_selection/_validation.py:515: DataConversionWarning: A column-vector y was passed when a 1d array was expected. Please change the shape of y to (n_samples, ), for example using ravel().\n",
            "  estimator.fit(X_train, y_train, **fit_params)\n",
            "/usr/local/lib/python3.7/dist-packages/sklearn/model_selection/_validation.py:515: DataConversionWarning: A column-vector y was passed when a 1d array was expected. Please change the shape of y to (n_samples, ), for example using ravel().\n",
            "  estimator.fit(X_train, y_train, **fit_params)\n",
            "/usr/local/lib/python3.7/dist-packages/sklearn/model_selection/_validation.py:515: DataConversionWarning: A column-vector y was passed when a 1d array was expected. Please change the shape of y to (n_samples, ), for example using ravel().\n",
            "  estimator.fit(X_train, y_train, **fit_params)\n",
            "/usr/local/lib/python3.7/dist-packages/sklearn/model_selection/_validation.py:515: DataConversionWarning: A column-vector y was passed when a 1d array was expected. Please change the shape of y to (n_samples, ), for example using ravel().\n",
            "  estimator.fit(X_train, y_train, **fit_params)\n",
            "/usr/local/lib/python3.7/dist-packages/sklearn/model_selection/_validation.py:515: DataConversionWarning: A column-vector y was passed when a 1d array was expected. Please change the shape of y to (n_samples, ), for example using ravel().\n",
            "  estimator.fit(X_train, y_train, **fit_params)\n",
            "/usr/local/lib/python3.7/dist-packages/sklearn/model_selection/_validation.py:515: DataConversionWarning: A column-vector y was passed when a 1d array was expected. Please change the shape of y to (n_samples, ), for example using ravel().\n",
            "  estimator.fit(X_train, y_train, **fit_params)\n",
            "/usr/local/lib/python3.7/dist-packages/sklearn/model_selection/_validation.py:515: DataConversionWarning: A column-vector y was passed when a 1d array was expected. Please change the shape of y to (n_samples, ), for example using ravel().\n",
            "  estimator.fit(X_train, y_train, **fit_params)\n",
            "/usr/local/lib/python3.7/dist-packages/sklearn/model_selection/_validation.py:515: DataConversionWarning: A column-vector y was passed when a 1d array was expected. Please change the shape of y to (n_samples, ), for example using ravel().\n",
            "  estimator.fit(X_train, y_train, **fit_params)\n",
            "/usr/local/lib/python3.7/dist-packages/sklearn/model_selection/_validation.py:515: DataConversionWarning: A column-vector y was passed when a 1d array was expected. Please change the shape of y to (n_samples, ), for example using ravel().\n",
            "  estimator.fit(X_train, y_train, **fit_params)\n",
            "/usr/local/lib/python3.7/dist-packages/sklearn/model_selection/_validation.py:515: DataConversionWarning: A column-vector y was passed when a 1d array was expected. Please change the shape of y to (n_samples, ), for example using ravel().\n",
            "  estimator.fit(X_train, y_train, **fit_params)\n",
            "/usr/local/lib/python3.7/dist-packages/sklearn/model_selection/_validation.py:515: DataConversionWarning: A column-vector y was passed when a 1d array was expected. Please change the shape of y to (n_samples, ), for example using ravel().\n",
            "  estimator.fit(X_train, y_train, **fit_params)\n",
            "/usr/local/lib/python3.7/dist-packages/sklearn/model_selection/_validation.py:515: DataConversionWarning: A column-vector y was passed when a 1d array was expected. Please change the shape of y to (n_samples, ), for example using ravel().\n",
            "  estimator.fit(X_train, y_train, **fit_params)\n",
            "/usr/local/lib/python3.7/dist-packages/sklearn/model_selection/_validation.py:515: DataConversionWarning: A column-vector y was passed when a 1d array was expected. Please change the shape of y to (n_samples, ), for example using ravel().\n",
            "  estimator.fit(X_train, y_train, **fit_params)\n",
            "/usr/local/lib/python3.7/dist-packages/sklearn/model_selection/_validation.py:515: DataConversionWarning: A column-vector y was passed when a 1d array was expected. Please change the shape of y to (n_samples, ), for example using ravel().\n",
            "  estimator.fit(X_train, y_train, **fit_params)\n",
            "/usr/local/lib/python3.7/dist-packages/sklearn/model_selection/_validation.py:515: DataConversionWarning: A column-vector y was passed when a 1d array was expected. Please change the shape of y to (n_samples, ), for example using ravel().\n",
            "  estimator.fit(X_train, y_train, **fit_params)\n",
            "/usr/local/lib/python3.7/dist-packages/sklearn/model_selection/_validation.py:515: DataConversionWarning: A column-vector y was passed when a 1d array was expected. Please change the shape of y to (n_samples, ), for example using ravel().\n",
            "  estimator.fit(X_train, y_train, **fit_params)\n",
            "/usr/local/lib/python3.7/dist-packages/sklearn/model_selection/_validation.py:515: DataConversionWarning: A column-vector y was passed when a 1d array was expected. Please change the shape of y to (n_samples, ), for example using ravel().\n",
            "  estimator.fit(X_train, y_train, **fit_params)\n",
            "/usr/local/lib/python3.7/dist-packages/sklearn/model_selection/_validation.py:515: DataConversionWarning: A column-vector y was passed when a 1d array was expected. Please change the shape of y to (n_samples, ), for example using ravel().\n",
            "  estimator.fit(X_train, y_train, **fit_params)\n",
            "/usr/local/lib/python3.7/dist-packages/sklearn/model_selection/_validation.py:515: DataConversionWarning: A column-vector y was passed when a 1d array was expected. Please change the shape of y to (n_samples, ), for example using ravel().\n",
            "  estimator.fit(X_train, y_train, **fit_params)\n",
            "/usr/local/lib/python3.7/dist-packages/sklearn/model_selection/_validation.py:515: DataConversionWarning: A column-vector y was passed when a 1d array was expected. Please change the shape of y to (n_samples, ), for example using ravel().\n",
            "  estimator.fit(X_train, y_train, **fit_params)\n",
            "/usr/local/lib/python3.7/dist-packages/sklearn/model_selection/_validation.py:515: DataConversionWarning: A column-vector y was passed when a 1d array was expected. Please change the shape of y to (n_samples, ), for example using ravel().\n",
            "  estimator.fit(X_train, y_train, **fit_params)\n",
            "/usr/local/lib/python3.7/dist-packages/sklearn/model_selection/_validation.py:515: DataConversionWarning: A column-vector y was passed when a 1d array was expected. Please change the shape of y to (n_samples, ), for example using ravel().\n",
            "  estimator.fit(X_train, y_train, **fit_params)\n",
            "/usr/local/lib/python3.7/dist-packages/sklearn/model_selection/_validation.py:515: DataConversionWarning: A column-vector y was passed when a 1d array was expected. Please change the shape of y to (n_samples, ), for example using ravel().\n",
            "  estimator.fit(X_train, y_train, **fit_params)\n",
            "/usr/local/lib/python3.7/dist-packages/sklearn/model_selection/_validation.py:515: DataConversionWarning: A column-vector y was passed when a 1d array was expected. Please change the shape of y to (n_samples, ), for example using ravel().\n",
            "  estimator.fit(X_train, y_train, **fit_params)\n",
            "/usr/local/lib/python3.7/dist-packages/sklearn/model_selection/_validation.py:515: DataConversionWarning: A column-vector y was passed when a 1d array was expected. Please change the shape of y to (n_samples, ), for example using ravel().\n",
            "  estimator.fit(X_train, y_train, **fit_params)\n",
            "/usr/local/lib/python3.7/dist-packages/sklearn/model_selection/_validation.py:515: DataConversionWarning: A column-vector y was passed when a 1d array was expected. Please change the shape of y to (n_samples, ), for example using ravel().\n",
            "  estimator.fit(X_train, y_train, **fit_params)\n",
            "/usr/local/lib/python3.7/dist-packages/sklearn/model_selection/_validation.py:515: DataConversionWarning: A column-vector y was passed when a 1d array was expected. Please change the shape of y to (n_samples, ), for example using ravel().\n",
            "  estimator.fit(X_train, y_train, **fit_params)\n",
            "/usr/local/lib/python3.7/dist-packages/sklearn/model_selection/_validation.py:515: DataConversionWarning: A column-vector y was passed when a 1d array was expected. Please change the shape of y to (n_samples, ), for example using ravel().\n",
            "  estimator.fit(X_train, y_train, **fit_params)\n",
            "/usr/local/lib/python3.7/dist-packages/sklearn/model_selection/_validation.py:515: DataConversionWarning: A column-vector y was passed when a 1d array was expected. Please change the shape of y to (n_samples, ), for example using ravel().\n",
            "  estimator.fit(X_train, y_train, **fit_params)\n",
            "/usr/local/lib/python3.7/dist-packages/sklearn/model_selection/_validation.py:515: DataConversionWarning: A column-vector y was passed when a 1d array was expected. Please change the shape of y to (n_samples, ), for example using ravel().\n",
            "  estimator.fit(X_train, y_train, **fit_params)\n",
            "/usr/local/lib/python3.7/dist-packages/sklearn/model_selection/_validation.py:515: DataConversionWarning: A column-vector y was passed when a 1d array was expected. Please change the shape of y to (n_samples, ), for example using ravel().\n",
            "  estimator.fit(X_train, y_train, **fit_params)\n",
            "/usr/local/lib/python3.7/dist-packages/sklearn/model_selection/_validation.py:515: DataConversionWarning: A column-vector y was passed when a 1d array was expected. Please change the shape of y to (n_samples, ), for example using ravel().\n",
            "  estimator.fit(X_train, y_train, **fit_params)\n",
            "/usr/local/lib/python3.7/dist-packages/sklearn/model_selection/_validation.py:515: DataConversionWarning: A column-vector y was passed when a 1d array was expected. Please change the shape of y to (n_samples, ), for example using ravel().\n",
            "  estimator.fit(X_train, y_train, **fit_params)\n",
            "/usr/local/lib/python3.7/dist-packages/sklearn/model_selection/_validation.py:515: DataConversionWarning: A column-vector y was passed when a 1d array was expected. Please change the shape of y to (n_samples, ), for example using ravel().\n",
            "  estimator.fit(X_train, y_train, **fit_params)\n",
            "/usr/local/lib/python3.7/dist-packages/sklearn/model_selection/_validation.py:515: DataConversionWarning: A column-vector y was passed when a 1d array was expected. Please change the shape of y to (n_samples, ), for example using ravel().\n",
            "  estimator.fit(X_train, y_train, **fit_params)\n",
            "/usr/local/lib/python3.7/dist-packages/sklearn/model_selection/_validation.py:515: DataConversionWarning: A column-vector y was passed when a 1d array was expected. Please change the shape of y to (n_samples, ), for example using ravel().\n",
            "  estimator.fit(X_train, y_train, **fit_params)\n",
            "/usr/local/lib/python3.7/dist-packages/sklearn/model_selection/_validation.py:515: DataConversionWarning: A column-vector y was passed when a 1d array was expected. Please change the shape of y to (n_samples, ), for example using ravel().\n",
            "  estimator.fit(X_train, y_train, **fit_params)\n",
            "/usr/local/lib/python3.7/dist-packages/sklearn/model_selection/_validation.py:515: DataConversionWarning: A column-vector y was passed when a 1d array was expected. Please change the shape of y to (n_samples, ), for example using ravel().\n",
            "  estimator.fit(X_train, y_train, **fit_params)\n",
            "/usr/local/lib/python3.7/dist-packages/sklearn/model_selection/_validation.py:515: DataConversionWarning: A column-vector y was passed when a 1d array was expected. Please change the shape of y to (n_samples, ), for example using ravel().\n",
            "  estimator.fit(X_train, y_train, **fit_params)\n",
            "/usr/local/lib/python3.7/dist-packages/sklearn/model_selection/_validation.py:515: DataConversionWarning: A column-vector y was passed when a 1d array was expected. Please change the shape of y to (n_samples, ), for example using ravel().\n",
            "  estimator.fit(X_train, y_train, **fit_params)\n",
            "/usr/local/lib/python3.7/dist-packages/sklearn/model_selection/_validation.py:515: DataConversionWarning: A column-vector y was passed when a 1d array was expected. Please change the shape of y to (n_samples, ), for example using ravel().\n",
            "  estimator.fit(X_train, y_train, **fit_params)\n",
            "/usr/local/lib/python3.7/dist-packages/sklearn/model_selection/_validation.py:515: DataConversionWarning: A column-vector y was passed when a 1d array was expected. Please change the shape of y to (n_samples, ), for example using ravel().\n",
            "  estimator.fit(X_train, y_train, **fit_params)\n",
            "/usr/local/lib/python3.7/dist-packages/sklearn/model_selection/_validation.py:515: DataConversionWarning: A column-vector y was passed when a 1d array was expected. Please change the shape of y to (n_samples, ), for example using ravel().\n",
            "  estimator.fit(X_train, y_train, **fit_params)\n",
            "/usr/local/lib/python3.7/dist-packages/sklearn/model_selection/_validation.py:515: DataConversionWarning: A column-vector y was passed when a 1d array was expected. Please change the shape of y to (n_samples, ), for example using ravel().\n",
            "  estimator.fit(X_train, y_train, **fit_params)\n",
            "/usr/local/lib/python3.7/dist-packages/sklearn/model_selection/_validation.py:515: DataConversionWarning: A column-vector y was passed when a 1d array was expected. Please change the shape of y to (n_samples, ), for example using ravel().\n",
            "  estimator.fit(X_train, y_train, **fit_params)\n",
            "/usr/local/lib/python3.7/dist-packages/sklearn/model_selection/_validation.py:515: DataConversionWarning: A column-vector y was passed when a 1d array was expected. Please change the shape of y to (n_samples, ), for example using ravel().\n",
            "  estimator.fit(X_train, y_train, **fit_params)\n",
            "/usr/local/lib/python3.7/dist-packages/sklearn/model_selection/_validation.py:515: DataConversionWarning: A column-vector y was passed when a 1d array was expected. Please change the shape of y to (n_samples, ), for example using ravel().\n",
            "  estimator.fit(X_train, y_train, **fit_params)\n",
            "/usr/local/lib/python3.7/dist-packages/sklearn/model_selection/_validation.py:515: DataConversionWarning: A column-vector y was passed when a 1d array was expected. Please change the shape of y to (n_samples, ), for example using ravel().\n",
            "  estimator.fit(X_train, y_train, **fit_params)\n",
            "/usr/local/lib/python3.7/dist-packages/sklearn/model_selection/_validation.py:515: DataConversionWarning: A column-vector y was passed when a 1d array was expected. Please change the shape of y to (n_samples, ), for example using ravel().\n",
            "  estimator.fit(X_train, y_train, **fit_params)\n",
            "/usr/local/lib/python3.7/dist-packages/sklearn/model_selection/_validation.py:515: DataConversionWarning: A column-vector y was passed when a 1d array was expected. Please change the shape of y to (n_samples, ), for example using ravel().\n",
            "  estimator.fit(X_train, y_train, **fit_params)\n",
            "/usr/local/lib/python3.7/dist-packages/sklearn/model_selection/_validation.py:515: DataConversionWarning: A column-vector y was passed when a 1d array was expected. Please change the shape of y to (n_samples, ), for example using ravel().\n",
            "  estimator.fit(X_train, y_train, **fit_params)\n",
            "/usr/local/lib/python3.7/dist-packages/sklearn/model_selection/_validation.py:515: DataConversionWarning: A column-vector y was passed when a 1d array was expected. Please change the shape of y to (n_samples, ), for example using ravel().\n",
            "  estimator.fit(X_train, y_train, **fit_params)\n",
            "/usr/local/lib/python3.7/dist-packages/sklearn/model_selection/_validation.py:515: DataConversionWarning: A column-vector y was passed when a 1d array was expected. Please change the shape of y to (n_samples, ), for example using ravel().\n",
            "  estimator.fit(X_train, y_train, **fit_params)\n",
            "/usr/local/lib/python3.7/dist-packages/sklearn/model_selection/_validation.py:515: DataConversionWarning: A column-vector y was passed when a 1d array was expected. Please change the shape of y to (n_samples, ), for example using ravel().\n",
            "  estimator.fit(X_train, y_train, **fit_params)\n",
            "/usr/local/lib/python3.7/dist-packages/sklearn/model_selection/_validation.py:515: DataConversionWarning: A column-vector y was passed when a 1d array was expected. Please change the shape of y to (n_samples, ), for example using ravel().\n",
            "  estimator.fit(X_train, y_train, **fit_params)\n",
            "/usr/local/lib/python3.7/dist-packages/sklearn/model_selection/_validation.py:515: DataConversionWarning: A column-vector y was passed when a 1d array was expected. Please change the shape of y to (n_samples, ), for example using ravel().\n",
            "  estimator.fit(X_train, y_train, **fit_params)\n",
            "/usr/local/lib/python3.7/dist-packages/sklearn/model_selection/_validation.py:515: DataConversionWarning: A column-vector y was passed when a 1d array was expected. Please change the shape of y to (n_samples, ), for example using ravel().\n",
            "  estimator.fit(X_train, y_train, **fit_params)\n",
            "/usr/local/lib/python3.7/dist-packages/sklearn/model_selection/_validation.py:515: DataConversionWarning: A column-vector y was passed when a 1d array was expected. Please change the shape of y to (n_samples, ), for example using ravel().\n",
            "  estimator.fit(X_train, y_train, **fit_params)\n",
            "/usr/local/lib/python3.7/dist-packages/sklearn/model_selection/_validation.py:515: DataConversionWarning: A column-vector y was passed when a 1d array was expected. Please change the shape of y to (n_samples, ), for example using ravel().\n",
            "  estimator.fit(X_train, y_train, **fit_params)\n",
            "/usr/local/lib/python3.7/dist-packages/sklearn/model_selection/_validation.py:515: DataConversionWarning: A column-vector y was passed when a 1d array was expected. Please change the shape of y to (n_samples, ), for example using ravel().\n",
            "  estimator.fit(X_train, y_train, **fit_params)\n",
            "/usr/local/lib/python3.7/dist-packages/sklearn/model_selection/_validation.py:515: DataConversionWarning: A column-vector y was passed when a 1d array was expected. Please change the shape of y to (n_samples, ), for example using ravel().\n",
            "  estimator.fit(X_train, y_train, **fit_params)\n",
            "/usr/local/lib/python3.7/dist-packages/sklearn/model_selection/_validation.py:515: DataConversionWarning: A column-vector y was passed when a 1d array was expected. Please change the shape of y to (n_samples, ), for example using ravel().\n",
            "  estimator.fit(X_train, y_train, **fit_params)\n",
            "/usr/local/lib/python3.7/dist-packages/sklearn/model_selection/_validation.py:515: DataConversionWarning: A column-vector y was passed when a 1d array was expected. Please change the shape of y to (n_samples, ), for example using ravel().\n",
            "  estimator.fit(X_train, y_train, **fit_params)\n",
            "/usr/local/lib/python3.7/dist-packages/sklearn/model_selection/_validation.py:515: DataConversionWarning: A column-vector y was passed when a 1d array was expected. Please change the shape of y to (n_samples, ), for example using ravel().\n",
            "  estimator.fit(X_train, y_train, **fit_params)\n",
            "/usr/local/lib/python3.7/dist-packages/sklearn/model_selection/_validation.py:515: DataConversionWarning: A column-vector y was passed when a 1d array was expected. Please change the shape of y to (n_samples, ), for example using ravel().\n",
            "  estimator.fit(X_train, y_train, **fit_params)\n",
            "/usr/local/lib/python3.7/dist-packages/sklearn/model_selection/_validation.py:515: DataConversionWarning: A column-vector y was passed when a 1d array was expected. Please change the shape of y to (n_samples, ), for example using ravel().\n",
            "  estimator.fit(X_train, y_train, **fit_params)\n"
          ],
          "name": "stderr"
        }
      ]
    },
    {
      "cell_type": "code",
      "metadata": {
        "colab": {
          "base_uri": "https://localhost:8080/",
          "height": 295
        },
        "id": "Uk2Af9GiG-vY",
        "outputId": "df0ece7e-c0d4-40df-a12e-cdf62fca2718"
      },
      "source": [
        "plt.plot([k for k in range(1, 21)], knn_scores, color = 'red')\n",
        "for i in range(1,21):\n",
        "    plt.text(i, knn_scores[i-1], (i, knn_scores[i-1]))\n",
        "    plt.xticks([i for i in range(1, 21)])\n",
        "    plt.xlabel('Number of Neighbors (K)')\n",
        "    plt.ylabel('Scores')\n",
        "    plt.title('K Neighbors Classifier scores for different K values')"
      ],
      "execution_count": 78,
      "outputs": [
        {
          "output_type": "display_data",
          "data": {
            "image/png": "[encoded data removed]",
            "text/plain": [
              "<Figure size 432x288 with 1 Axes>"
            ]
          },
          "metadata": {
            "tags": []
          }
        }
      ]
    },
    {
      "cell_type": "code",
      "metadata": {
        "colab": {
          "base_uri": "https://localhost:8080/"
        },
        "id": "-JD8Esm6HEYm",
        "outputId": "faeef961-fcae-45bb-efec-3b359ce8d5af"
      },
      "source": [
        "knn_classifier = KNeighborsClassifier(n_neighbors = 20)\n",
        "score=cross_val_score(knn_classifier,X,y,cv=10)\n",
        "score.mean()"
      ],
      "execution_count": 79,
      "outputs": [
        {
          "output_type": "stream",
          "text": [
            "/usr/local/lib/python3.7/dist-packages/sklearn/model_selection/_validation.py:515: DataConversionWarning: A column-vector y was passed when a 1d array was expected. Please change the shape of y to (n_samples, ), for example using ravel().\n",
            "  estimator.fit(X_train, y_train, **fit_params)\n",
            "/usr/local/lib/python3.7/dist-packages/sklearn/model_selection/_validation.py:515: DataConversionWarning: A column-vector y was passed when a 1d array was expected. Please change the shape of y to (n_samples, ), for example using ravel().\n",
            "  estimator.fit(X_train, y_train, **fit_params)\n",
            "/usr/local/lib/python3.7/dist-packages/sklearn/model_selection/_validation.py:515: DataConversionWarning: A column-vector y was passed when a 1d array was expected. Please change the shape of y to (n_samples, ), for example using ravel().\n",
            "  estimator.fit(X_train, y_train, **fit_params)\n",
            "/usr/local/lib/python3.7/dist-packages/sklearn/model_selection/_validation.py:515: DataConversionWarning: A column-vector y was passed when a 1d array was expected. Please change the shape of y to (n_samples, ), for example using ravel().\n",
            "  estimator.fit(X_train, y_train, **fit_params)\n",
            "/usr/local/lib/python3.7/dist-packages/sklearn/model_selection/_validation.py:515: DataConversionWarning: A column-vector y was passed when a 1d array was expected. Please change the shape of y to (n_samples, ), for example using ravel().\n",
            "  estimator.fit(X_train, y_train, **fit_params)\n",
            "/usr/local/lib/python3.7/dist-packages/sklearn/model_selection/_validation.py:515: DataConversionWarning: A column-vector y was passed when a 1d array was expected. Please change the shape of y to (n_samples, ), for example using ravel().\n",
            "  estimator.fit(X_train, y_train, **fit_params)\n",
            "/usr/local/lib/python3.7/dist-packages/sklearn/model_selection/_validation.py:515: DataConversionWarning: A column-vector y was passed when a 1d array was expected. Please change the shape of y to (n_samples, ), for example using ravel().\n",
            "  estimator.fit(X_train, y_train, **fit_params)\n",
            "/usr/local/lib/python3.7/dist-packages/sklearn/model_selection/_validation.py:515: DataConversionWarning: A column-vector y was passed when a 1d array was expected. Please change the shape of y to (n_samples, ), for example using ravel().\n",
            "  estimator.fit(X_train, y_train, **fit_params)\n",
            "/usr/local/lib/python3.7/dist-packages/sklearn/model_selection/_validation.py:515: DataConversionWarning: A column-vector y was passed when a 1d array was expected. Please change the shape of y to (n_samples, ), for example using ravel().\n",
            "  estimator.fit(X_train, y_train, **fit_params)\n",
            "/usr/local/lib/python3.7/dist-packages/sklearn/model_selection/_validation.py:515: DataConversionWarning: A column-vector y was passed when a 1d array was expected. Please change the shape of y to (n_samples, ), for example using ravel().\n",
            "  estimator.fit(X_train, y_train, **fit_params)\n"
          ],
          "name": "stderr"
        },
        {
          "output_type": "execute_result",
          "data": {
            "text/plain": [
              "0.5731607620400581"
            ]
          },
          "metadata": {
            "tags": []
          },
          "execution_count": 79
        }
      ]
    },
    {
      "cell_type": "markdown",
      "metadata": {
        "id": "AbgK6nYBUVdh"
      },
      "source": [
        "#***Aritificial Neural Network (ANN)***"
      ]
    },
    {
      "cell_type": "code",
      "metadata": {
        "colab": {
          "base_uri": "https://localhost:8080/",
          "height": 407
        },
        "id": "_P1wHDAtUawQ",
        "outputId": "31ab02cd-bc3e-4ce7-becc-9a5f08c3eac9"
      },
      "source": [
        "df6"
      ],
      "execution_count": 80,
      "outputs": [
        {
          "output_type": "execute_result",
          "data": {
            "text/html": [
              "<div>\n",
              "<style scoped>\n",
              "    .dataframe tbody tr th:only-of-type {\n",
              "        vertical-align: middle;\n",
              "    }\n",
              "\n",
              "    .dataframe tbody tr th {\n",
              "        vertical-align: top;\n",
              "    }\n",
              "\n",
              "    .dataframe thead th {\n",
              "        text-align: right;\n",
              "    }\n",
              "</style>\n",
              "<table border=\"1\" class=\"dataframe\">\n",
              "  <thead>\n",
              "    <tr style=\"text-align: right;\">\n",
              "      <th></th>\n",
              "      <th>HV024</th>\n",
              "      <th>HV025</th>\n",
              "      <th>HV270</th>\n",
              "      <th>HV104</th>\n",
              "      <th>HV105</th>\n",
              "      <th>HV106</th>\n",
              "      <th>SB308</th>\n",
              "      <th>SB311A</th>\n",
              "      <th>SB311B</th>\n",
              "      <th>SB311C</th>\n",
              "      <th>SB333AA</th>\n",
              "      <th>SB333AB</th>\n",
              "      <th>Deabetic</th>\n",
              "      <th>SBBM</th>\n",
              "    </tr>\n",
              "  </thead>\n",
              "  <tbody>\n",
              "    <tr>\n",
              "      <th>0</th>\n",
              "      <td>1</td>\n",
              "      <td>2</td>\n",
              "      <td>1</td>\n",
              "      <td>1</td>\n",
              "      <td>25</td>\n",
              "      <td>1</td>\n",
              "      <td>31</td>\n",
              "      <td>1.0</td>\n",
              "      <td>1.0</td>\n",
              "      <td>1.0</td>\n",
              "      <td>111</td>\n",
              "      <td>58</td>\n",
              "      <td>1</td>\n",
              "      <td>2055</td>\n",
              "    </tr>\n",
              "    <tr>\n",
              "      <th>1</th>\n",
              "      <td>1</td>\n",
              "      <td>2</td>\n",
              "      <td>1</td>\n",
              "      <td>2</td>\n",
              "      <td>34</td>\n",
              "      <td>0</td>\n",
              "      <td>0</td>\n",
              "      <td>1.0</td>\n",
              "      <td>1.0</td>\n",
              "      <td>1.0</td>\n",
              "      <td>101</td>\n",
              "      <td>67</td>\n",
              "      <td>1</td>\n",
              "      <td>2481</td>\n",
              "    </tr>\n",
              "    <tr>\n",
              "      <th>2</th>\n",
              "      <td>1</td>\n",
              "      <td>2</td>\n",
              "      <td>1</td>\n",
              "      <td>2</td>\n",
              "      <td>35</td>\n",
              "      <td>1</td>\n",
              "      <td>0</td>\n",
              "      <td>1.0</td>\n",
              "      <td>1.0</td>\n",
              "      <td>1.0</td>\n",
              "      <td>100</td>\n",
              "      <td>66</td>\n",
              "      <td>1</td>\n",
              "      <td>1744</td>\n",
              "    </tr>\n",
              "    <tr>\n",
              "      <th>3</th>\n",
              "      <td>1</td>\n",
              "      <td>2</td>\n",
              "      <td>1</td>\n",
              "      <td>1</td>\n",
              "      <td>55</td>\n",
              "      <td>2</td>\n",
              "      <td>52</td>\n",
              "      <td>1.0</td>\n",
              "      <td>0.0</td>\n",
              "      <td>1.0</td>\n",
              "      <td>105</td>\n",
              "      <td>71</td>\n",
              "      <td>1</td>\n",
              "      <td>2108</td>\n",
              "    </tr>\n",
              "    <tr>\n",
              "      <th>4</th>\n",
              "      <td>1</td>\n",
              "      <td>2</td>\n",
              "      <td>1</td>\n",
              "      <td>2</td>\n",
              "      <td>45</td>\n",
              "      <td>1</td>\n",
              "      <td>15</td>\n",
              "      <td>1.0</td>\n",
              "      <td>1.0</td>\n",
              "      <td>0.0</td>\n",
              "      <td>144</td>\n",
              "      <td>94</td>\n",
              "      <td>1</td>\n",
              "      <td>2455</td>\n",
              "    </tr>\n",
              "    <tr>\n",
              "      <th>...</th>\n",
              "      <td>...</td>\n",
              "      <td>...</td>\n",
              "      <td>...</td>\n",
              "      <td>...</td>\n",
              "      <td>...</td>\n",
              "      <td>...</td>\n",
              "      <td>...</td>\n",
              "      <td>...</td>\n",
              "      <td>...</td>\n",
              "      <td>...</td>\n",
              "      <td>...</td>\n",
              "      <td>...</td>\n",
              "      <td>...</td>\n",
              "      <td>...</td>\n",
              "    </tr>\n",
              "    <tr>\n",
              "      <th>12283</th>\n",
              "      <td>8</td>\n",
              "      <td>1</td>\n",
              "      <td>5</td>\n",
              "      <td>2</td>\n",
              "      <td>33</td>\n",
              "      <td>2</td>\n",
              "      <td>0</td>\n",
              "      <td>1.0</td>\n",
              "      <td>0.0</td>\n",
              "      <td>1.0</td>\n",
              "      <td>129</td>\n",
              "      <td>96</td>\n",
              "      <td>1</td>\n",
              "      <td>2682</td>\n",
              "    </tr>\n",
              "    <tr>\n",
              "      <th>12284</th>\n",
              "      <td>8</td>\n",
              "      <td>1</td>\n",
              "      <td>5</td>\n",
              "      <td>2</td>\n",
              "      <td>20</td>\n",
              "      <td>2</td>\n",
              "      <td>31</td>\n",
              "      <td>0.0</td>\n",
              "      <td>0.0</td>\n",
              "      <td>0.0</td>\n",
              "      <td>110</td>\n",
              "      <td>79</td>\n",
              "      <td>1</td>\n",
              "      <td>2389</td>\n",
              "    </tr>\n",
              "    <tr>\n",
              "      <th>12285</th>\n",
              "      <td>8</td>\n",
              "      <td>1</td>\n",
              "      <td>5</td>\n",
              "      <td>1</td>\n",
              "      <td>62</td>\n",
              "      <td>2</td>\n",
              "      <td>31</td>\n",
              "      <td>0.0</td>\n",
              "      <td>0.0</td>\n",
              "      <td>0.0</td>\n",
              "      <td>114</td>\n",
              "      <td>69</td>\n",
              "      <td>1</td>\n",
              "      <td>2154</td>\n",
              "    </tr>\n",
              "    <tr>\n",
              "      <th>12286</th>\n",
              "      <td>8</td>\n",
              "      <td>1</td>\n",
              "      <td>5</td>\n",
              "      <td>2</td>\n",
              "      <td>51</td>\n",
              "      <td>1</td>\n",
              "      <td>0</td>\n",
              "      <td>1.0</td>\n",
              "      <td>0.0</td>\n",
              "      <td>1.0</td>\n",
              "      <td>130</td>\n",
              "      <td>79</td>\n",
              "      <td>0</td>\n",
              "      <td>2761</td>\n",
              "    </tr>\n",
              "    <tr>\n",
              "      <th>12287</th>\n",
              "      <td>8</td>\n",
              "      <td>1</td>\n",
              "      <td>5</td>\n",
              "      <td>2</td>\n",
              "      <td>80</td>\n",
              "      <td>0</td>\n",
              "      <td>0</td>\n",
              "      <td>1.0</td>\n",
              "      <td>1.0</td>\n",
              "      <td>0.0</td>\n",
              "      <td>142</td>\n",
              "      <td>71</td>\n",
              "      <td>1</td>\n",
              "      <td>1597</td>\n",
              "    </tr>\n",
              "  </tbody>\n",
              "</table>\n",
              "<p>12288 rows × 14 columns</p>\n",
              "</div>"
            ],
            "text/plain": [
              "       HV024  HV025  HV270  HV104  ...  SB333AA  SB333AB  Deabetic  SBBM\n",
              "0          1      2      1      1  ...      111       58         1  2055\n",
              "1          1      2      1      2  ...      101       67         1  2481\n",
              "2          1      2      1      2  ...      100       66         1  1744\n",
              "3          1      2      1      1  ...      105       71         1  2108\n",
              "4          1      2      1      2  ...      144       94         1  2455\n",
              "...      ...    ...    ...    ...  ...      ...      ...       ...   ...\n",
              "12283      8      1      5      2  ...      129       96         1  2682\n",
              "12284      8      1      5      2  ...      110       79         1  2389\n",
              "12285      8      1      5      1  ...      114       69         1  2154\n",
              "12286      8      1      5      2  ...      130       79         0  2761\n",
              "12287      8      1      5      2  ...      142       71         1  1597\n",
              "\n",
              "[12288 rows x 14 columns]"
            ]
          },
          "metadata": {
            "tags": []
          },
          "execution_count": 80
        }
      ]
    },
    {
      "cell_type": "code",
      "metadata": {
        "id": "mDQrG-EyUyRV"
      },
      "source": [
        "X = df6.copy()  #independent columns\n",
        "y = X.pop('Deabetic')    #target column i.e price range"
      ],
      "execution_count": 81,
      "outputs": []
    },
    {
      "cell_type": "code",
      "metadata": {
        "colab": {
          "base_uri": "https://localhost:8080/",
          "height": 407
        },
        "id": "T-8LDbfIffXV",
        "outputId": "413e57a9-8334-46dc-ebfb-58f92e5a0c3a"
      },
      "source": [
        "X"
      ],
      "execution_count": 82,
      "outputs": [
        {
          "output_type": "execute_result",
          "data": {
            "text/html": [
              "<div>\n",
              "<style scoped>\n",
              "    .dataframe tbody tr th:only-of-type {\n",
              "        vertical-align: middle;\n",
              "    }\n",
              "\n",
              "    .dataframe tbody tr th {\n",
              "        vertical-align: top;\n",
              "    }\n",
              "\n",
              "    .dataframe thead th {\n",
              "        text-align: right;\n",
              "    }\n",
              "</style>\n",
              "<table border=\"1\" class=\"dataframe\">\n",
              "  <thead>\n",
              "    <tr style=\"text-align: right;\">\n",
              "      <th></th>\n",
              "      <th>HV024</th>\n",
              "      <th>HV025</th>\n",
              "      <th>HV270</th>\n",
              "      <th>HV104</th>\n",
              "      <th>HV105</th>\n",
              "      <th>HV106</th>\n",
              "      <th>SB308</th>\n",
              "      <th>SB311A</th>\n",
              "      <th>SB311B</th>\n",
              "      <th>SB311C</th>\n",
              "      <th>SB333AA</th>\n",
              "      <th>SB333AB</th>\n",
              "      <th>SBBM</th>\n",
              "    </tr>\n",
              "  </thead>\n",
              "  <tbody>\n",
              "    <tr>\n",
              "      <th>0</th>\n",
              "      <td>1</td>\n",
              "      <td>2</td>\n",
              "      <td>1</td>\n",
              "      <td>1</td>\n",
              "      <td>25</td>\n",
              "      <td>1</td>\n",
              "      <td>31</td>\n",
              "      <td>1.0</td>\n",
              "      <td>1.0</td>\n",
              "      <td>1.0</td>\n",
              "      <td>111</td>\n",
              "      <td>58</td>\n",
              "      <td>2055</td>\n",
              "    </tr>\n",
              "    <tr>\n",
              "      <th>1</th>\n",
              "      <td>1</td>\n",
              "      <td>2</td>\n",
              "      <td>1</td>\n",
              "      <td>2</td>\n",
              "      <td>34</td>\n",
              "      <td>0</td>\n",
              "      <td>0</td>\n",
              "      <td>1.0</td>\n",
              "      <td>1.0</td>\n",
              "      <td>1.0</td>\n",
              "      <td>101</td>\n",
              "      <td>67</td>\n",
              "      <td>2481</td>\n",
              "    </tr>\n",
              "    <tr>\n",
              "      <th>2</th>\n",
              "      <td>1</td>\n",
              "      <td>2</td>\n",
              "      <td>1</td>\n",
              "      <td>2</td>\n",
              "      <td>35</td>\n",
              "      <td>1</td>\n",
              "      <td>0</td>\n",
              "      <td>1.0</td>\n",
              "      <td>1.0</td>\n",
              "      <td>1.0</td>\n",
              "      <td>100</td>\n",
              "      <td>66</td>\n",
              "      <td>1744</td>\n",
              "    </tr>\n",
              "    <tr>\n",
              "      <th>3</th>\n",
              "      <td>1</td>\n",
              "      <td>2</td>\n",
              "      <td>1</td>\n",
              "      <td>1</td>\n",
              "      <td>55</td>\n",
              "      <td>2</td>\n",
              "      <td>52</td>\n",
              "      <td>1.0</td>\n",
              "      <td>0.0</td>\n",
              "      <td>1.0</td>\n",
              "      <td>105</td>\n",
              "      <td>71</td>\n",
              "      <td>2108</td>\n",
              "    </tr>\n",
              "    <tr>\n",
              "      <th>4</th>\n",
              "      <td>1</td>\n",
              "      <td>2</td>\n",
              "      <td>1</td>\n",
              "      <td>2</td>\n",
              "      <td>45</td>\n",
              "      <td>1</td>\n",
              "      <td>15</td>\n",
              "      <td>1.0</td>\n",
              "      <td>1.0</td>\n",
              "      <td>0.0</td>\n",
              "      <td>144</td>\n",
              "      <td>94</td>\n",
              "      <td>2455</td>\n",
              "    </tr>\n",
              "    <tr>\n",
              "      <th>...</th>\n",
              "      <td>...</td>\n",
              "      <td>...</td>\n",
              "      <td>...</td>\n",
              "      <td>...</td>\n",
              "      <td>...</td>\n",
              "      <td>...</td>\n",
              "      <td>...</td>\n",
              "      <td>...</td>\n",
              "      <td>...</td>\n",
              "      <td>...</td>\n",
              "      <td>...</td>\n",
              "      <td>...</td>\n",
              "      <td>...</td>\n",
              "    </tr>\n",
              "    <tr>\n",
              "      <th>12283</th>\n",
              "      <td>8</td>\n",
              "      <td>1</td>\n",
              "      <td>5</td>\n",
              "      <td>2</td>\n",
              "      <td>33</td>\n",
              "      <td>2</td>\n",
              "      <td>0</td>\n",
              "      <td>1.0</td>\n",
              "      <td>0.0</td>\n",
              "      <td>1.0</td>\n",
              "      <td>129</td>\n",
              "      <td>96</td>\n",
              "      <td>2682</td>\n",
              "    </tr>\n",
              "    <tr>\n",
              "      <th>12284</th>\n",
              "      <td>8</td>\n",
              "      <td>1</td>\n",
              "      <td>5</td>\n",
              "      <td>2</td>\n",
              "      <td>20</td>\n",
              "      <td>2</td>\n",
              "      <td>31</td>\n",
              "      <td>0.0</td>\n",
              "      <td>0.0</td>\n",
              "      <td>0.0</td>\n",
              "      <td>110</td>\n",
              "      <td>79</td>\n",
              "      <td>2389</td>\n",
              "    </tr>\n",
              "    <tr>\n",
              "      <th>12285</th>\n",
              "      <td>8</td>\n",
              "      <td>1</td>\n",
              "      <td>5</td>\n",
              "      <td>1</td>\n",
              "      <td>62</td>\n",
              "      <td>2</td>\n",
              "      <td>31</td>\n",
              "      <td>0.0</td>\n",
              "      <td>0.0</td>\n",
              "      <td>0.0</td>\n",
              "      <td>114</td>\n",
              "      <td>69</td>\n",
              "      <td>2154</td>\n",
              "    </tr>\n",
              "    <tr>\n",
              "      <th>12286</th>\n",
              "      <td>8</td>\n",
              "      <td>1</td>\n",
              "      <td>5</td>\n",
              "      <td>2</td>\n",
              "      <td>51</td>\n",
              "      <td>1</td>\n",
              "      <td>0</td>\n",
              "      <td>1.0</td>\n",
              "      <td>0.0</td>\n",
              "      <td>1.0</td>\n",
              "      <td>130</td>\n",
              "      <td>79</td>\n",
              "      <td>2761</td>\n",
              "    </tr>\n",
              "    <tr>\n",
              "      <th>12287</th>\n",
              "      <td>8</td>\n",
              "      <td>1</td>\n",
              "      <td>5</td>\n",
              "      <td>2</td>\n",
              "      <td>80</td>\n",
              "      <td>0</td>\n",
              "      <td>0</td>\n",
              "      <td>1.0</td>\n",
              "      <td>1.0</td>\n",
              "      <td>0.0</td>\n",
              "      <td>142</td>\n",
              "      <td>71</td>\n",
              "      <td>1597</td>\n",
              "    </tr>\n",
              "  </tbody>\n",
              "</table>\n",
              "<p>12288 rows × 13 columns</p>\n",
              "</div>"
            ],
            "text/plain": [
              "       HV024  HV025  HV270  HV104  ...  SB311C  SB333AA  SB333AB  SBBM\n",
              "0          1      2      1      1  ...     1.0      111       58  2055\n",
              "1          1      2      1      2  ...     1.0      101       67  2481\n",
              "2          1      2      1      2  ...     1.0      100       66  1744\n",
              "3          1      2      1      1  ...     1.0      105       71  2108\n",
              "4          1      2      1      2  ...     0.0      144       94  2455\n",
              "...      ...    ...    ...    ...  ...     ...      ...      ...   ...\n",
              "12283      8      1      5      2  ...     1.0      129       96  2682\n",
              "12284      8      1      5      2  ...     0.0      110       79  2389\n",
              "12285      8      1      5      1  ...     0.0      114       69  2154\n",
              "12286      8      1      5      2  ...     1.0      130       79  2761\n",
              "12287      8      1      5      2  ...     0.0      142       71  1597\n",
              "\n",
              "[12288 rows x 13 columns]"
            ]
          },
          "metadata": {
            "tags": []
          },
          "execution_count": 82
        }
      ]
    },
    {
      "cell_type": "code",
      "metadata": {
        "colab": {
          "base_uri": "https://localhost:8080/"
        },
        "id": "MNtRn-d8fhii",
        "outputId": "4592ff79-d8f6-402f-80d2-46f43a92dd85"
      },
      "source": [
        "y"
      ],
      "execution_count": 83,
      "outputs": [
        {
          "output_type": "execute_result",
          "data": {
            "text/plain": [
              "0        1\n",
              "1        1\n",
              "2        1\n",
              "3        1\n",
              "4        1\n",
              "        ..\n",
              "12283    1\n",
              "12284    1\n",
              "12285    1\n",
              "12286    0\n",
              "12287    1\n",
              "Name: Deabetic, Length: 12288, dtype: int64"
            ]
          },
          "metadata": {
            "tags": []
          },
          "execution_count": 83
        }
      ]
    },
    {
      "cell_type": "code",
      "metadata": {
        "id": "dvREh8Zcf8GY"
      },
      "source": [
        "# Splitting the dataset into the Training set and Test set\n",
        "from sklearn.model_selection import train_test_split\n",
        "X_train, X_test, y_train, y_test = train_test_split(X, y, test_size = 0.2, random_state = 0)\n",
        "\n",
        "# Feature Scaling\n",
        "from sklearn.preprocessing import StandardScaler\n",
        "sc = StandardScaler()\n",
        "X_train = sc.fit_transform(X_train)\n",
        "X_test = sc.transform(X_test)"
      ],
      "execution_count": 84,
      "outputs": []
    },
    {
      "cell_type": "code",
      "metadata": {
        "colab": {
          "base_uri": "https://localhost:8080/"
        },
        "id": "81wCdJJ3f-CH",
        "outputId": "0c503334-6ff5-4e36-d5da-1c7a256095e6"
      },
      "source": [
        "X_train, X_test"
      ],
      "execution_count": 85,
      "outputs": [
        {
          "output_type": "execute_result",
          "data": {
            "text/plain": [
              "(array([[-1.56692554e+00,  7.43587648e-01, -1.44115314e+00, ...,\n",
              "          9.06021356e-02,  3.06350044e-01, -2.74450524e-01],\n",
              "        [ 2.20780827e-01,  7.43587648e-01, -1.44115314e+00, ...,\n",
              "         -6.22784792e-01,  2.66211942e-02, -7.81281412e-01],\n",
              "        [ 6.67707418e-01, -1.34483138e+00,  6.58214876e-01, ...,\n",
              "         -1.29158504e+00, -5.32836506e-01, -4.33803467e-01],\n",
              "        ...,\n",
              "        [ 1.11463401e+00,  7.43587648e-01, -4.15744633e-02, ...,\n",
              "          1.42876960e-03,  2.66211942e-02, -2.47891700e-01],\n",
              "        [ 1.11463401e+00, -1.34483138e+00,  1.35800421e+00, ...,\n",
              "          3.58122234e-01,  7.25943320e-01,  1.91435512e-01],\n",
              "        [-1.11999895e+00, -1.34483138e+00,  1.35800421e+00, ...,\n",
              "         -5.78198109e-01, -3.23039868e-01, -4.72535085e-01]]),\n",
              " array([[-0.67307236,  0.74358765,  0.65821488, ...,  0.31353555,\n",
              "          0.58607889, -0.79566744],\n",
              "        [ 0.22078083, -1.34483138,  0.65821488, ..., -0.13233128,\n",
              "         -0.46290429, -0.43159023],\n",
              "        [-1.11999895,  0.74358765, -0.7413638 , ..., -0.62278479,\n",
              "         -1.02236199,  0.05200169],\n",
              "        ...,\n",
              "        [ 0.66770742,  0.74358765, -0.04157446, ...,  1.02692248,\n",
              "          0.02662119, -0.64959391],\n",
              "        [-0.67307236, -1.34483138,  0.65821488, ..., -1.78203855,\n",
              "         -1.30209084,  0.00663036],\n",
              "        [ 0.66770742,  0.74358765,  0.65821488, ..., -0.53361143,\n",
              "         -0.46290429,  0.70379949]]))"
            ]
          },
          "metadata": {
            "tags": []
          },
          "execution_count": 85
        }
      ]
    },
    {
      "cell_type": "code",
      "metadata": {
        "id": "eTVqCJaAgxt4"
      },
      "source": [
        "# Importing the Keras libraries and packages\n",
        "import keras\n",
        "from keras.models import Sequential\n",
        "from keras.layers import Dense\n",
        "from keras.layers import Dropout"
      ],
      "execution_count": 86,
      "outputs": []
    },
    {
      "cell_type": "code",
      "metadata": {
        "id": "kPyqP3XXgYhY"
      },
      "source": [
        "# Initialising the ANN\n",
        "classifier = Sequential()\n",
        "\n",
        "# Adding the input layer and the first hidden layer\n",
        "classifier.add(Dense(units = 7, kernel_initializer = 'uniform', activation = 'relu', input_dim = 13))\n",
        "# classifier.add(Dropout(p = 0.1))\n",
        "\n",
        "# Adding the second hidden layer\n",
        "classifier.add(Dense(units = 7, kernel_initializer = 'uniform', activation = 'relu'))\n",
        "# classifier.add(Dropout(p = 0.1))\n",
        "\n",
        "# Adding the second hidden layer\n",
        "classifier.add(Dense(units = 7, kernel_initializer = 'uniform', activation = 'relu'))\n",
        "# classifier.add(Dropout(p = 0.1))\n",
        "\n",
        "# Adding the output layer\n",
        "classifier.add(Dense(units = 1, kernel_initializer = 'uniform', activation = 'sigmoid'))"
      ],
      "execution_count": 87,
      "outputs": []
    },
    {
      "cell_type": "code",
      "metadata": {
        "id": "tQidCuKWgbyr"
      },
      "source": [
        "# Compiling the ANN\n",
        "classifier.compile(optimizer = 'adam', loss = 'binary_crossentropy', metrics = ['accuracy'])"
      ],
      "execution_count": 88,
      "outputs": []
    },
    {
      "cell_type": "code",
      "metadata": {
        "colab": {
          "base_uri": "https://localhost:8080/"
        },
        "id": "k-joj-uCgeZX",
        "outputId": "26561feb-32e1-4341-c07b-4be0ca213d59"
      },
      "source": [
        "# Fitting the ANN to the Training set\n",
        "classifier.fit(X_train, y_train, batch_size = 10, epochs = 100)"
      ],
      "execution_count": 89,
      "outputs": [
        {
          "output_type": "stream",
          "text": [
            "Epoch 1/100\n",
            "983/983 [==============================] - 5s 2ms/step - loss: 0.6798 - accuracy: 0.5864\n",
            "Epoch 2/100\n",
            "983/983 [==============================] - 2s 2ms/step - loss: 0.6615 - accuracy: 0.6256\n",
            "Epoch 3/100\n",
            "983/983 [==============================] - 2s 2ms/step - loss: 0.6569 - accuracy: 0.6222\n",
            "Epoch 4/100\n",
            "983/983 [==============================] - 2s 2ms/step - loss: 0.6602 - accuracy: 0.6159\n",
            "Epoch 5/100\n",
            "983/983 [==============================] - 2s 2ms/step - loss: 0.6537 - accuracy: 0.6232\n",
            "Epoch 6/100\n",
            "983/983 [==============================] - 2s 2ms/step - loss: 0.6469 - accuracy: 0.6351\n",
            "Epoch 7/100\n",
            "983/983 [==============================] - 2s 2ms/step - loss: 0.6483 - accuracy: 0.6305\n",
            "Epoch 8/100\n",
            "983/983 [==============================] - 2s 2ms/step - loss: 0.6525 - accuracy: 0.6238\n",
            "Epoch 9/100\n",
            "983/983 [==============================] - 2s 2ms/step - loss: 0.6499 - accuracy: 0.6255\n",
            "Epoch 10/100\n",
            "983/983 [==============================] - 2s 2ms/step - loss: 0.6502 - accuracy: 0.6277\n",
            "Epoch 11/100\n",
            "983/983 [==============================] - 2s 2ms/step - loss: 0.6514 - accuracy: 0.6271\n",
            "Epoch 12/100\n",
            "983/983 [==============================] - 2s 2ms/step - loss: 0.6467 - accuracy: 0.6362\n",
            "Epoch 13/100\n",
            "983/983 [==============================] - 2s 2ms/step - loss: 0.6440 - accuracy: 0.6335\n",
            "Epoch 14/100\n",
            "983/983 [==============================] - 2s 2ms/step - loss: 0.6480 - accuracy: 0.6298\n",
            "Epoch 15/100\n",
            "983/983 [==============================] - 2s 2ms/step - loss: 0.6466 - accuracy: 0.6325\n",
            "Epoch 16/100\n",
            "983/983 [==============================] - 2s 2ms/step - loss: 0.6512 - accuracy: 0.6257\n",
            "Epoch 17/100\n",
            "983/983 [==============================] - 2s 2ms/step - loss: 0.6531 - accuracy: 0.6207\n",
            "Epoch 18/100\n",
            "983/983 [==============================] - 2s 2ms/step - loss: 0.6489 - accuracy: 0.6299\n",
            "Epoch 19/100\n",
            "983/983 [==============================] - 2s 2ms/step - loss: 0.6476 - accuracy: 0.6324\n",
            "Epoch 20/100\n",
            "983/983 [==============================] - 2s 2ms/step - loss: 0.6443 - accuracy: 0.6344\n",
            "Epoch 21/100\n",
            "983/983 [==============================] - 2s 2ms/step - loss: 0.6514 - accuracy: 0.6297\n",
            "Epoch 22/100\n",
            "983/983 [==============================] - 2s 2ms/step - loss: 0.6434 - accuracy: 0.6373\n",
            "Epoch 23/100\n",
            "983/983 [==============================] - 2s 2ms/step - loss: 0.6512 - accuracy: 0.6260\n",
            "Epoch 24/100\n",
            "983/983 [==============================] - 2s 2ms/step - loss: 0.6413 - accuracy: 0.6390\n",
            "Epoch 25/100\n",
            "983/983 [==============================] - 2s 2ms/step - loss: 0.6464 - accuracy: 0.6347\n",
            "Epoch 26/100\n",
            "983/983 [==============================] - 2s 2ms/step - loss: 0.6491 - accuracy: 0.6321\n",
            "Epoch 27/100\n",
            "983/983 [==============================] - 2s 2ms/step - loss: 0.6476 - accuracy: 0.6345\n",
            "Epoch 28/100\n",
            "983/983 [==============================] - 2s 2ms/step - loss: 0.6501 - accuracy: 0.6262\n",
            "Epoch 29/100\n",
            "983/983 [==============================] - 2s 2ms/step - loss: 0.6478 - accuracy: 0.6331\n",
            "Epoch 30/100\n",
            "983/983 [==============================] - 2s 2ms/step - loss: 0.6465 - accuracy: 0.6341\n",
            "Epoch 31/100\n",
            "983/983 [==============================] - 2s 2ms/step - loss: 0.6485 - accuracy: 0.6353\n",
            "Epoch 32/100\n",
            "983/983 [==============================] - 2s 2ms/step - loss: 0.6485 - accuracy: 0.6294\n",
            "Epoch 33/100\n",
            "983/983 [==============================] - 2s 2ms/step - loss: 0.6468 - accuracy: 0.6365\n",
            "Epoch 34/100\n",
            "983/983 [==============================] - 2s 2ms/step - loss: 0.6464 - accuracy: 0.6373\n",
            "Epoch 35/100\n",
            "983/983 [==============================] - 2s 2ms/step - loss: 0.6477 - accuracy: 0.6321\n",
            "Epoch 36/100\n",
            "983/983 [==============================] - 2s 2ms/step - loss: 0.6433 - accuracy: 0.6389\n",
            "Epoch 37/100\n",
            "983/983 [==============================] - 2s 2ms/step - loss: 0.6483 - accuracy: 0.6266\n",
            "Epoch 38/100\n",
            "983/983 [==============================] - 2s 2ms/step - loss: 0.6461 - accuracy: 0.6329\n",
            "Epoch 39/100\n",
            "983/983 [==============================] - 2s 2ms/step - loss: 0.6471 - accuracy: 0.6372\n",
            "Epoch 40/100\n",
            "983/983 [==============================] - 2s 2ms/step - loss: 0.6452 - accuracy: 0.6379\n",
            "Epoch 41/100\n",
            "983/983 [==============================] - 2s 2ms/step - loss: 0.6488 - accuracy: 0.6344\n",
            "Epoch 42/100\n",
            "983/983 [==============================] - 2s 2ms/step - loss: 0.6447 - accuracy: 0.6357\n",
            "Epoch 43/100\n",
            "983/983 [==============================] - 2s 2ms/step - loss: 0.6482 - accuracy: 0.6334\n",
            "Epoch 44/100\n",
            "983/983 [==============================] - 2s 2ms/step - loss: 0.6504 - accuracy: 0.6269\n",
            "Epoch 45/100\n",
            "983/983 [==============================] - 2s 2ms/step - loss: 0.6472 - accuracy: 0.6341\n",
            "Epoch 46/100\n",
            "983/983 [==============================] - 2s 2ms/step - loss: 0.6433 - accuracy: 0.6443\n",
            "Epoch 47/100\n",
            "983/983 [==============================] - 2s 2ms/step - loss: 0.6505 - accuracy: 0.6274\n",
            "Epoch 48/100\n",
            "983/983 [==============================] - 2s 2ms/step - loss: 0.6444 - accuracy: 0.6386\n",
            "Epoch 49/100\n",
            "983/983 [==============================] - 2s 2ms/step - loss: 0.6468 - accuracy: 0.6362\n",
            "Epoch 50/100\n",
            "983/983 [==============================] - 2s 2ms/step - loss: 0.6452 - accuracy: 0.6402\n",
            "Epoch 51/100\n",
            "983/983 [==============================] - 2s 2ms/step - loss: 0.6436 - accuracy: 0.6421\n",
            "Epoch 52/100\n",
            "983/983 [==============================] - 2s 3ms/step - loss: 0.6474 - accuracy: 0.6369\n",
            "Epoch 53/100\n",
            "983/983 [==============================] - 2s 3ms/step - loss: 0.6472 - accuracy: 0.6295\n",
            "Epoch 54/100\n",
            "983/983 [==============================] - 2s 2ms/step - loss: 0.6420 - accuracy: 0.6433\n",
            "Epoch 55/100\n",
            "983/983 [==============================] - 2s 2ms/step - loss: 0.6437 - accuracy: 0.6400\n",
            "Epoch 56/100\n",
            "983/983 [==============================] - 2s 2ms/step - loss: 0.6482 - accuracy: 0.6341\n",
            "Epoch 57/100\n",
            "983/983 [==============================] - 2s 2ms/step - loss: 0.6438 - accuracy: 0.6373\n",
            "Epoch 58/100\n",
            "983/983 [==============================] - 2s 2ms/step - loss: 0.6437 - accuracy: 0.6398\n",
            "Epoch 59/100\n",
            "983/983 [==============================] - 2s 2ms/step - loss: 0.6442 - accuracy: 0.6413\n",
            "Epoch 60/100\n",
            "983/983 [==============================] - 2s 2ms/step - loss: 0.6493 - accuracy: 0.6354\n",
            "Epoch 61/100\n",
            "983/983 [==============================] - 2s 2ms/step - loss: 0.6432 - accuracy: 0.6404\n",
            "Epoch 62/100\n",
            "983/983 [==============================] - 2s 2ms/step - loss: 0.6458 - accuracy: 0.6348\n",
            "Epoch 63/100\n",
            "983/983 [==============================] - 2s 3ms/step - loss: 0.6413 - accuracy: 0.6396\n",
            "Epoch 64/100\n",
            "983/983 [==============================] - 2s 2ms/step - loss: 0.6453 - accuracy: 0.6362\n",
            "Epoch 65/100\n",
            "983/983 [==============================] - 2s 2ms/step - loss: 0.6489 - accuracy: 0.6303\n",
            "Epoch 66/100\n",
            "983/983 [==============================] - 2s 2ms/step - loss: 0.6410 - accuracy: 0.6428\n",
            "Epoch 67/100\n",
            "983/983 [==============================] - 2s 2ms/step - loss: 0.6411 - accuracy: 0.6449\n",
            "Epoch 68/100\n",
            "983/983 [==============================] - 2s 2ms/step - loss: 0.6447 - accuracy: 0.6408\n",
            "Epoch 69/100\n",
            "983/983 [==============================] - 2s 2ms/step - loss: 0.6409 - accuracy: 0.6383\n",
            "Epoch 70/100\n",
            "983/983 [==============================] - 2s 2ms/step - loss: 0.6441 - accuracy: 0.6371\n",
            "Epoch 71/100\n",
            "983/983 [==============================] - 2s 2ms/step - loss: 0.6422 - accuracy: 0.6383\n",
            "Epoch 72/100\n",
            "983/983 [==============================] - 2s 2ms/step - loss: 0.6454 - accuracy: 0.6400\n",
            "Epoch 73/100\n",
            "983/983 [==============================] - 2s 2ms/step - loss: 0.6428 - accuracy: 0.6396\n",
            "Epoch 74/100\n",
            "983/983 [==============================] - 2s 2ms/step - loss: 0.6521 - accuracy: 0.6323\n",
            "Epoch 75/100\n",
            "983/983 [==============================] - 2s 2ms/step - loss: 0.6405 - accuracy: 0.6475\n",
            "Epoch 76/100\n",
            "983/983 [==============================] - 2s 2ms/step - loss: 0.6459 - accuracy: 0.6364\n",
            "Epoch 77/100\n",
            "983/983 [==============================] - 2s 2ms/step - loss: 0.6446 - accuracy: 0.6406\n",
            "Epoch 78/100\n",
            "983/983 [==============================] - 2s 2ms/step - loss: 0.6415 - accuracy: 0.6481\n",
            "Epoch 79/100\n",
            "983/983 [==============================] - 2s 2ms/step - loss: 0.6472 - accuracy: 0.6323\n",
            "Epoch 80/100\n",
            "983/983 [==============================] - 2s 2ms/step - loss: 0.6487 - accuracy: 0.6368\n",
            "Epoch 81/100\n",
            "983/983 [==============================] - 2s 2ms/step - loss: 0.6442 - accuracy: 0.6462\n",
            "Epoch 82/100\n",
            "983/983 [==============================] - 2s 2ms/step - loss: 0.6488 - accuracy: 0.6324\n",
            "Epoch 83/100\n",
            "983/983 [==============================] - 2s 2ms/step - loss: 0.6420 - accuracy: 0.6432\n",
            "Epoch 84/100\n",
            "983/983 [==============================] - 2s 2ms/step - loss: 0.6376 - accuracy: 0.6471\n",
            "Epoch 85/100\n",
            "983/983 [==============================] - 2s 2ms/step - loss: 0.6435 - accuracy: 0.6401\n",
            "Epoch 86/100\n",
            "983/983 [==============================] - 2s 2ms/step - loss: 0.6469 - accuracy: 0.6367\n",
            "Epoch 87/100\n",
            "983/983 [==============================] - 2s 2ms/step - loss: 0.6401 - accuracy: 0.6430\n",
            "Epoch 88/100\n",
            "983/983 [==============================] - 2s 2ms/step - loss: 0.6410 - accuracy: 0.6433\n",
            "Epoch 89/100\n",
            "983/983 [==============================] - 2s 2ms/step - loss: 0.6415 - accuracy: 0.6446\n",
            "Epoch 90/100\n",
            "983/983 [==============================] - 2s 2ms/step - loss: 0.6372 - accuracy: 0.6494\n",
            "Epoch 91/100\n",
            "983/983 [==============================] - 2s 2ms/step - loss: 0.6438 - accuracy: 0.6355\n",
            "Epoch 92/100\n",
            "983/983 [==============================] - 2s 2ms/step - loss: 0.6453 - accuracy: 0.6363\n",
            "Epoch 93/100\n",
            "983/983 [==============================] - 2s 2ms/step - loss: 0.6446 - accuracy: 0.6370\n",
            "Epoch 94/100\n",
            "983/983 [==============================] - 2s 2ms/step - loss: 0.6464 - accuracy: 0.6343\n",
            "Epoch 95/100\n",
            "983/983 [==============================] - 2s 2ms/step - loss: 0.6495 - accuracy: 0.6330\n",
            "Epoch 96/100\n",
            "983/983 [==============================] - 2s 2ms/step - loss: 0.6439 - accuracy: 0.6438\n",
            "Epoch 97/100\n",
            "983/983 [==============================] - 2s 2ms/step - loss: 0.6450 - accuracy: 0.6318\n",
            "Epoch 98/100\n",
            "983/983 [==============================] - 2s 2ms/step - loss: 0.6422 - accuracy: 0.6412\n",
            "Epoch 99/100\n",
            "983/983 [==============================] - 2s 2ms/step - loss: 0.6369 - accuracy: 0.6455\n",
            "Epoch 100/100\n",
            "983/983 [==============================] - 2s 2ms/step - loss: 0.6498 - accuracy: 0.6301\n"
          ],
          "name": "stdout"
        },
        {
          "output_type": "execute_result",
          "data": {
            "text/plain": [
              "<tensorflow.python.keras.callbacks.History at 0x7f279a7cc4d0>"
            ]
          },
          "metadata": {
            "tags": []
          },
          "execution_count": 89
        }
      ]
    },
    {
      "cell_type": "code",
      "metadata": {
        "id": "ECZBZcbjghaZ"
      },
      "source": [
        "# Predicting the Test set results\n",
        "y_pred = classifier.predict(X_test)\n",
        "y_pred = (y_pred > 0.5)\n"
      ],
      "execution_count": 90,
      "outputs": []
    },
    {
      "cell_type": "code",
      "metadata": {
        "id": "8tB02K7TgjRF"
      },
      "source": [
        "# Making the Confusion Matrix\n",
        "from sklearn.metrics import confusion_matrix\n",
        "cm = confusion_matrix(y_test, y_pred)"
      ],
      "execution_count": 91,
      "outputs": []
    },
    {
      "cell_type": "code",
      "metadata": {
        "colab": {
          "base_uri": "https://localhost:8080/"
        },
        "id": "ADZYk-rIiQOR",
        "outputId": "2bca93ef-8330-491b-d0cb-53a4102d9956"
      },
      "source": [
        "cm"
      ],
      "execution_count": 92,
      "outputs": [
        {
          "output_type": "execute_result",
          "data": {
            "text/plain": [
              "array([[1141,  255],\n",
              "       [ 672,  390]])"
            ]
          },
          "metadata": {
            "tags": []
          },
          "execution_count": 92
        }
      ]
    },
    {
      "cell_type": "code",
      "metadata": {
        "colab": {
          "base_uri": "https://localhost:8080/"
        },
        "id": "Li3ssJZOiSL3",
        "outputId": "5cc27f48-f255-4a58-f7d7-84a8a1424854"
      },
      "source": [
        "(1170 + 226) / (694 + 368 + 1170 + 226)"
      ],
      "execution_count": 93,
      "outputs": [
        {
          "output_type": "execute_result",
          "data": {
            "text/plain": [
              "0.5679414157851912"
            ]
          },
          "metadata": {
            "tags": []
          },
          "execution_count": 93
        }
      ]
    },
    {
      "cell_type": "code",
      "metadata": {
        "colab": {
          "base_uri": "https://localhost:8080/"
        },
        "id": "9zm2mLn8lGZK",
        "outputId": "fea521a9-9fa5-40a7-bb04-572647c041fa"
      },
      "source": [
        "(1143 + 410) / (652 + 253 + 1143 + 410)"
      ],
      "execution_count": 94,
      "outputs": [
        {
          "output_type": "execute_result",
          "data": {
            "text/plain": [
              "0.6318144833197722"
            ]
          },
          "metadata": {
            "tags": []
          },
          "execution_count": 94
        }
      ]
    },
    {
      "cell_type": "code",
      "metadata": {
        "colab": {
          "base_uri": "https://localhost:8080/"
        },
        "id": "8khfHDvcuBpU",
        "outputId": "32ceba70-e223-4783-df52-98e04860d382"
      },
      "source": [
        "(cm[0][0] + cm[1][1]) / (cm[0][0] + cm[0][1] + cm[1][0] + cm[1][1])"
      ],
      "execution_count": 95,
      "outputs": [
        {
          "output_type": "execute_result",
          "data": {
            "text/plain": [
              "0.6228641171684296"
            ]
          },
          "metadata": {
            "tags": []
          },
          "execution_count": 95
        }
      ]
    },
    {
      "cell_type": "markdown",
      "metadata": {
        "id": "E8bgzC77yUXL"
      },
      "source": [
        "#**Evaluating, Improving and Tuning the ANN**"
      ]
    },
    {
      "cell_type": "markdown",
      "metadata": {
        "id": "vRcbSA51nbUk"
      },
      "source": [
        "###**Evaluting ANN**"
      ]
    },
    {
      "cell_type": "code",
      "metadata": {
        "id": "f6ekW85WyYYz"
      },
      "source": [
        "from keras.wrappers.scikit_learn import KerasClassifier\n",
        "from sklearn.model_selection import cross_val_score\n",
        "from keras.models import Sequential\n",
        "from keras.layers import Dense"
      ],
      "execution_count": 102,
      "outputs": []
    },
    {
      "cell_type": "code",
      "metadata": {
        "colab": {
          "base_uri": "https://localhost:8080/"
        },
        "id": "QOtcaWXRyfve",
        "outputId": "32fc5ee4-08c3-4a36-c1b1-016b8f9bbc84"
      },
      "source": [
        "def build_classifier():\n",
        "    classifier = Sequential()\n",
        "    classifier.add(Dense(units = 7, kernel_initializer = 'uniform', activation = 'relu', input_dim = 13))\n",
        "    classifier.add(Dense(units = 7, kernel_initializer = 'uniform', activation = 'relu'))\n",
        "    classifier.add(Dense(units = 7, kernel_initializer = 'uniform', activation = 'relu'))\n",
        "    classifier.add(Dense(units = 1, kernel_initializer = 'uniform', activation = 'sigmoid'))\n",
        "    classifier.compile(optimizer = 'adam', loss = 'binary_crossentropy', metrics = ['accuracy'])\n",
        "    return classifier\n",
        "classifier = KerasClassifier(build_fn = build_classifier, batch_size = 10, epochs = 100)\n",
        "accuracies = cross_val_score(estimator = classifier, X = X_train, y = y_train, cv = 10)"
      ],
      "execution_count": 108,
      "outputs": [
        {
          "output_type": "stream",
          "text": [
            "Epoch 1/100\n",
            "885/885 [==============================] - 3s 3ms/step - loss: 0.6814 - accuracy: 0.5765\n",
            "Epoch 2/100\n",
            "885/885 [==============================] - 3s 3ms/step - loss: 0.6616 - accuracy: 0.5935\n",
            "Epoch 3/100\n",
            "885/885 [==============================] - 3s 3ms/step - loss: 0.6585 - accuracy: 0.6209\n",
            "Epoch 4/100\n",
            "885/885 [==============================] - 3s 3ms/step - loss: 0.6573 - accuracy: 0.6266\n",
            "Epoch 5/100\n",
            "885/885 [==============================] - 3s 3ms/step - loss: 0.6600 - accuracy: 0.6229\n",
            "Epoch 6/100\n",
            "885/885 [==============================] - 3s 3ms/step - loss: 0.6553 - accuracy: 0.6356\n",
            "Epoch 7/100\n",
            "885/885 [==============================] - 3s 3ms/step - loss: 0.6549 - accuracy: 0.6294\n",
            "Epoch 8/100\n",
            "885/885 [==============================] - 3s 3ms/step - loss: 0.6482 - accuracy: 0.6434\n",
            "Epoch 9/100\n",
            "885/885 [==============================] - 3s 3ms/step - loss: 0.6491 - accuracy: 0.6321\n",
            "Epoch 10/100\n",
            "885/885 [==============================] - 3s 3ms/step - loss: 0.6527 - accuracy: 0.6258\n",
            "Epoch 11/100\n",
            "885/885 [==============================] - 3s 3ms/step - loss: 0.6556 - accuracy: 0.6239\n",
            "Epoch 12/100\n",
            "885/885 [==============================] - 3s 3ms/step - loss: 0.6575 - accuracy: 0.6200\n",
            "Epoch 13/100\n",
            "885/885 [==============================] - 3s 3ms/step - loss: 0.6492 - accuracy: 0.6310\n",
            "Epoch 14/100\n",
            "885/885 [==============================] - 3s 3ms/step - loss: 0.6484 - accuracy: 0.6360\n",
            "Epoch 15/100\n",
            "885/885 [==============================] - 3s 3ms/step - loss: 0.6530 - accuracy: 0.6289\n",
            "Epoch 16/100\n",
            "885/885 [==============================] - 3s 3ms/step - loss: 0.6498 - accuracy: 0.6258\n",
            "Epoch 17/100\n",
            "885/885 [==============================] - 3s 3ms/step - loss: 0.6518 - accuracy: 0.6237\n",
            "Epoch 18/100\n",
            "885/885 [==============================] - 3s 3ms/step - loss: 0.6443 - accuracy: 0.6392\n",
            "Epoch 19/100\n",
            "885/885 [==============================] - 3s 3ms/step - loss: 0.6492 - accuracy: 0.6306\n",
            "Epoch 20/100\n",
            "885/885 [==============================] - 3s 3ms/step - loss: 0.6453 - accuracy: 0.6377\n",
            "Epoch 21/100\n",
            "885/885 [==============================] - 3s 3ms/step - loss: 0.6498 - accuracy: 0.6294\n",
            "Epoch 22/100\n",
            "885/885 [==============================] - 3s 3ms/step - loss: 0.6511 - accuracy: 0.6289\n",
            "Epoch 23/100\n",
            "885/885 [==============================] - 3s 3ms/step - loss: 0.6523 - accuracy: 0.6266\n",
            "Epoch 24/100\n",
            "885/885 [==============================] - 3s 3ms/step - loss: 0.6529 - accuracy: 0.6269\n",
            "Epoch 25/100\n",
            "885/885 [==============================] - 3s 3ms/step - loss: 0.6512 - accuracy: 0.6297\n",
            "Epoch 26/100\n",
            "885/885 [==============================] - 3s 3ms/step - loss: 0.6464 - accuracy: 0.6320\n",
            "Epoch 27/100\n",
            "885/885 [==============================] - 3s 3ms/step - loss: 0.6493 - accuracy: 0.6370\n",
            "Epoch 28/100\n",
            "885/885 [==============================] - 3s 3ms/step - loss: 0.6472 - accuracy: 0.6332\n",
            "Epoch 29/100\n",
            "885/885 [==============================] - 3s 3ms/step - loss: 0.6461 - accuracy: 0.6374\n",
            "Epoch 30/100\n",
            "885/885 [==============================] - 3s 3ms/step - loss: 0.6525 - accuracy: 0.6303\n",
            "Epoch 31/100\n",
            "885/885 [==============================] - 3s 3ms/step - loss: 0.6491 - accuracy: 0.6310\n",
            "Epoch 32/100\n",
            "885/885 [==============================] - 3s 3ms/step - loss: 0.6458 - accuracy: 0.6366\n",
            "Epoch 33/100\n",
            "885/885 [==============================] - 3s 3ms/step - loss: 0.6511 - accuracy: 0.6273\n",
            "Epoch 34/100\n",
            "885/885 [==============================] - 3s 3ms/step - loss: 0.6461 - accuracy: 0.6375\n",
            "Epoch 35/100\n",
            "885/885 [==============================] - 3s 3ms/step - loss: 0.6512 - accuracy: 0.6329\n",
            "Epoch 36/100\n",
            "885/885 [==============================] - 3s 3ms/step - loss: 0.6483 - accuracy: 0.6365\n",
            "Epoch 37/100\n",
            "885/885 [==============================] - 3s 3ms/step - loss: 0.6496 - accuracy: 0.6280\n",
            "Epoch 38/100\n",
            "885/885 [==============================] - 3s 3ms/step - loss: 0.6481 - accuracy: 0.6304\n",
            "Epoch 39/100\n",
            "885/885 [==============================] - 3s 3ms/step - loss: 0.6464 - accuracy: 0.6334\n",
            "Epoch 40/100\n",
            "885/885 [==============================] - 3s 3ms/step - loss: 0.6460 - accuracy: 0.6368\n",
            "Epoch 41/100\n",
            "885/885 [==============================] - 3s 3ms/step - loss: 0.6450 - accuracy: 0.6384\n",
            "Epoch 42/100\n",
            "885/885 [==============================] - 3s 3ms/step - loss: 0.6427 - accuracy: 0.6342\n",
            "Epoch 43/100\n",
            "885/885 [==============================] - 3s 3ms/step - loss: 0.6484 - accuracy: 0.6321\n",
            "Epoch 44/100\n",
            "885/885 [==============================] - 3s 3ms/step - loss: 0.6486 - accuracy: 0.6323\n",
            "Epoch 45/100\n",
            "885/885 [==============================] - 3s 3ms/step - loss: 0.6480 - accuracy: 0.6322\n",
            "Epoch 46/100\n",
            "885/885 [==============================] - 3s 3ms/step - loss: 0.6438 - accuracy: 0.6344\n",
            "Epoch 47/100\n",
            "885/885 [==============================] - 3s 3ms/step - loss: 0.6428 - accuracy: 0.6359\n",
            "Epoch 48/100\n",
            "885/885 [==============================] - 3s 3ms/step - loss: 0.6447 - accuracy: 0.6386\n",
            "Epoch 49/100\n",
            "885/885 [==============================] - 3s 3ms/step - loss: 0.6444 - accuracy: 0.6408\n",
            "Epoch 50/100\n",
            "885/885 [==============================] - 3s 3ms/step - loss: 0.6412 - accuracy: 0.6393\n",
            "Epoch 51/100\n",
            "885/885 [==============================] - 3s 3ms/step - loss: 0.6420 - accuracy: 0.6363\n",
            "Epoch 52/100\n",
            "885/885 [==============================] - 3s 3ms/step - loss: 0.6466 - accuracy: 0.6320\n",
            "Epoch 53/100\n",
            "885/885 [==============================] - 3s 3ms/step - loss: 0.6390 - accuracy: 0.6498\n",
            "Epoch 54/100\n",
            "885/885 [==============================] - 3s 3ms/step - loss: 0.6426 - accuracy: 0.6405\n",
            "Epoch 55/100\n",
            "885/885 [==============================] - 3s 3ms/step - loss: 0.6484 - accuracy: 0.6344\n",
            "Epoch 56/100\n",
            "885/885 [==============================] - 3s 3ms/step - loss: 0.6448 - accuracy: 0.6308\n",
            "Epoch 57/100\n",
            "885/885 [==============================] - 3s 3ms/step - loss: 0.6462 - accuracy: 0.6349\n",
            "Epoch 58/100\n",
            "885/885 [==============================] - 3s 3ms/step - loss: 0.6423 - accuracy: 0.6382\n",
            "Epoch 59/100\n",
            "885/885 [==============================] - 3s 3ms/step - loss: 0.6416 - accuracy: 0.6381\n",
            "Epoch 60/100\n",
            "885/885 [==============================] - 3s 3ms/step - loss: 0.6449 - accuracy: 0.6382\n",
            "Epoch 61/100\n",
            "885/885 [==============================] - 3s 3ms/step - loss: 0.6418 - accuracy: 0.6352\n",
            "Epoch 62/100\n",
            "885/885 [==============================] - 3s 3ms/step - loss: 0.6458 - accuracy: 0.6366\n",
            "Epoch 63/100\n",
            "885/885 [==============================] - 3s 3ms/step - loss: 0.6446 - accuracy: 0.6414\n",
            "Epoch 64/100\n",
            "885/885 [==============================] - 3s 3ms/step - loss: 0.6468 - accuracy: 0.6307\n",
            "Epoch 65/100\n",
            "885/885 [==============================] - 3s 3ms/step - loss: 0.6481 - accuracy: 0.6309\n",
            "Epoch 66/100\n",
            "885/885 [==============================] - 3s 3ms/step - loss: 0.6398 - accuracy: 0.6453\n",
            "Epoch 67/100\n",
            "885/885 [==============================] - 3s 3ms/step - loss: 0.6386 - accuracy: 0.6416\n",
            "Epoch 68/100\n",
            "885/885 [==============================] - 3s 3ms/step - loss: 0.6407 - accuracy: 0.6434\n",
            "Epoch 69/100\n",
            "885/885 [==============================] - 3s 3ms/step - loss: 0.6360 - accuracy: 0.6490\n",
            "Epoch 70/100\n",
            "885/885 [==============================] - 3s 3ms/step - loss: 0.6430 - accuracy: 0.6472\n",
            "Epoch 71/100\n",
            "885/885 [==============================] - 3s 3ms/step - loss: 0.6402 - accuracy: 0.6417\n",
            "Epoch 72/100\n",
            "885/885 [==============================] - 3s 3ms/step - loss: 0.6403 - accuracy: 0.6410\n",
            "Epoch 73/100\n",
            "885/885 [==============================] - 3s 3ms/step - loss: 0.6425 - accuracy: 0.6401\n",
            "Epoch 74/100\n",
            "885/885 [==============================] - 3s 3ms/step - loss: 0.6420 - accuracy: 0.6399\n",
            "Epoch 75/100\n",
            "885/885 [==============================] - 3s 3ms/step - loss: 0.6455 - accuracy: 0.6415\n",
            "Epoch 76/100\n",
            "885/885 [==============================] - 3s 3ms/step - loss: 0.6411 - accuracy: 0.6444\n",
            "Epoch 77/100\n",
            "885/885 [==============================] - 3s 3ms/step - loss: 0.6443 - accuracy: 0.6339\n",
            "Epoch 78/100\n",
            "885/885 [==============================] - 3s 3ms/step - loss: 0.6413 - accuracy: 0.6376\n",
            "Epoch 79/100\n",
            "885/885 [==============================] - 3s 3ms/step - loss: 0.6396 - accuracy: 0.6457\n",
            "Epoch 80/100\n",
            "885/885 [==============================] - 3s 3ms/step - loss: 0.6405 - accuracy: 0.6410\n",
            "Epoch 81/100\n",
            "885/885 [==============================] - 3s 3ms/step - loss: 0.6404 - accuracy: 0.6420\n",
            "Epoch 82/100\n",
            "885/885 [==============================] - 3s 3ms/step - loss: 0.6451 - accuracy: 0.6358\n",
            "Epoch 83/100\n",
            "885/885 [==============================] - 3s 3ms/step - loss: 0.6413 - accuracy: 0.6397\n",
            "Epoch 84/100\n",
            "885/885 [==============================] - 3s 3ms/step - loss: 0.6444 - accuracy: 0.6357\n",
            "Epoch 85/100\n",
            "885/885 [==============================] - 3s 3ms/step - loss: 0.6435 - accuracy: 0.6353\n",
            "Epoch 86/100\n",
            "885/885 [==============================] - 3s 3ms/step - loss: 0.6464 - accuracy: 0.6351\n",
            "Epoch 87/100\n",
            "885/885 [==============================] - 3s 3ms/step - loss: 0.6358 - accuracy: 0.6431\n",
            "Epoch 88/100\n",
            "885/885 [==============================] - 3s 3ms/step - loss: 0.6434 - accuracy: 0.6411\n",
            "Epoch 89/100\n",
            "885/885 [==============================] - 3s 3ms/step - loss: 0.6415 - accuracy: 0.6396\n",
            "Epoch 90/100\n",
            "885/885 [==============================] - 3s 3ms/step - loss: 0.6354 - accuracy: 0.6504\n",
            "Epoch 91/100\n",
            "885/885 [==============================] - 3s 3ms/step - loss: 0.6402 - accuracy: 0.6468\n",
            "Epoch 92/100\n",
            "885/885 [==============================] - 3s 3ms/step - loss: 0.6400 - accuracy: 0.6484\n",
            "Epoch 93/100\n",
            "885/885 [==============================] - 3s 3ms/step - loss: 0.6360 - accuracy: 0.6504\n",
            "Epoch 94/100\n",
            "885/885 [==============================] - 3s 3ms/step - loss: 0.6434 - accuracy: 0.6332\n",
            "Epoch 95/100\n",
            "885/885 [==============================] - 3s 3ms/step - loss: 0.6367 - accuracy: 0.6490\n",
            "Epoch 96/100\n",
            "885/885 [==============================] - 3s 3ms/step - loss: 0.6439 - accuracy: 0.6364\n",
            "Epoch 97/100\n",
            "885/885 [==============================] - 3s 3ms/step - loss: 0.6406 - accuracy: 0.6459\n",
            "Epoch 98/100\n",
            "885/885 [==============================] - 3s 3ms/step - loss: 0.6400 - accuracy: 0.6433\n",
            "Epoch 99/100\n",
            "885/885 [==============================] - 3s 3ms/step - loss: 0.6454 - accuracy: 0.6355\n",
            "Epoch 100/100\n",
            "885/885 [==============================] - 3s 3ms/step - loss: 0.6373 - accuracy: 0.6470\n",
            "99/99 [==============================] - 0s 2ms/step - loss: 0.6586 - accuracy: 0.6205\n",
            "Epoch 1/100\n",
            "885/885 [==============================] - 3s 3ms/step - loss: 0.6806 - accuracy: 0.5805\n",
            "Epoch 2/100\n",
            "885/885 [==============================] - 3s 3ms/step - loss: 0.6599 - accuracy: 0.6240\n",
            "Epoch 3/100\n",
            "885/885 [==============================] - 3s 3ms/step - loss: 0.6551 - accuracy: 0.6270\n",
            "Epoch 4/100\n",
            "885/885 [==============================] - 3s 3ms/step - loss: 0.6494 - accuracy: 0.6357\n",
            "Epoch 5/100\n",
            "885/885 [==============================] - 3s 3ms/step - loss: 0.6496 - accuracy: 0.6350\n",
            "Epoch 6/100\n",
            "885/885 [==============================] - 3s 3ms/step - loss: 0.6504 - accuracy: 0.6282\n",
            "Epoch 7/100\n",
            "885/885 [==============================] - 3s 3ms/step - loss: 0.6425 - accuracy: 0.6382\n",
            "Epoch 8/100\n",
            "885/885 [==============================] - 3s 3ms/step - loss: 0.6557 - accuracy: 0.6205\n",
            "Epoch 9/100\n",
            "885/885 [==============================] - 3s 3ms/step - loss: 0.6529 - accuracy: 0.6207\n",
            "Epoch 10/100\n",
            "885/885 [==============================] - 3s 3ms/step - loss: 0.6563 - accuracy: 0.6156\n",
            "Epoch 11/100\n",
            "885/885 [==============================] - 3s 3ms/step - loss: 0.6522 - accuracy: 0.6248\n",
            "Epoch 12/100\n",
            "885/885 [==============================] - 3s 3ms/step - loss: 0.6590 - accuracy: 0.6147\n",
            "Epoch 13/100\n",
            "885/885 [==============================] - 3s 3ms/step - loss: 0.6530 - accuracy: 0.6213\n",
            "Epoch 14/100\n",
            "885/885 [==============================] - 3s 3ms/step - loss: 0.6492 - accuracy: 0.6268\n",
            "Epoch 15/100\n",
            "885/885 [==============================] - 3s 3ms/step - loss: 0.6500 - accuracy: 0.6257\n",
            "Epoch 16/100\n",
            "885/885 [==============================] - 3s 3ms/step - loss: 0.6518 - accuracy: 0.6256\n",
            "Epoch 17/100\n",
            "885/885 [==============================] - 3s 3ms/step - loss: 0.6491 - accuracy: 0.6232\n",
            "Epoch 18/100\n",
            "885/885 [==============================] - 3s 3ms/step - loss: 0.6513 - accuracy: 0.6229\n",
            "Epoch 19/100\n",
            "885/885 [==============================] - 3s 3ms/step - loss: 0.6429 - accuracy: 0.6320\n",
            "Epoch 20/100\n",
            "885/885 [==============================] - 3s 3ms/step - loss: 0.6502 - accuracy: 0.6193\n",
            "Epoch 21/100\n",
            "885/885 [==============================] - 3s 3ms/step - loss: 0.6450 - accuracy: 0.6335\n",
            "Epoch 22/100\n",
            "885/885 [==============================] - 3s 3ms/step - loss: 0.6492 - accuracy: 0.6278\n",
            "Epoch 23/100\n",
            "885/885 [==============================] - 3s 3ms/step - loss: 0.6486 - accuracy: 0.6281\n",
            "Epoch 24/100\n",
            "885/885 [==============================] - 3s 3ms/step - loss: 0.6514 - accuracy: 0.6263\n",
            "Epoch 25/100\n",
            "885/885 [==============================] - 3s 3ms/step - loss: 0.6487 - accuracy: 0.6295\n",
            "Epoch 26/100\n",
            "885/885 [==============================] - 3s 3ms/step - loss: 0.6409 - accuracy: 0.6442\n",
            "Epoch 27/100\n",
            "885/885 [==============================] - 3s 3ms/step - loss: 0.6489 - accuracy: 0.6251\n",
            "Epoch 28/100\n",
            "885/885 [==============================] - 3s 3ms/step - loss: 0.6445 - accuracy: 0.6373\n",
            "Epoch 29/100\n",
            "885/885 [==============================] - 3s 3ms/step - loss: 0.6416 - accuracy: 0.6382\n",
            "Epoch 30/100\n",
            "885/885 [==============================] - 3s 3ms/step - loss: 0.6461 - accuracy: 0.6337\n",
            "Epoch 31/100\n",
            "885/885 [==============================] - 3s 3ms/step - loss: 0.6478 - accuracy: 0.6271\n",
            "Epoch 32/100\n",
            "885/885 [==============================] - 3s 3ms/step - loss: 0.6478 - accuracy: 0.6314\n",
            "Epoch 33/100\n",
            "885/885 [==============================] - 3s 3ms/step - loss: 0.6441 - accuracy: 0.6323\n",
            "Epoch 34/100\n",
            "885/885 [==============================] - 3s 3ms/step - loss: 0.6450 - accuracy: 0.6341\n",
            "Epoch 35/100\n",
            "885/885 [==============================] - 3s 3ms/step - loss: 0.6467 - accuracy: 0.6329\n",
            "Epoch 36/100\n",
            "885/885 [==============================] - 3s 3ms/step - loss: 0.6486 - accuracy: 0.6286\n",
            "Epoch 37/100\n",
            "885/885 [==============================] - 3s 3ms/step - loss: 0.6468 - accuracy: 0.6313\n",
            "Epoch 38/100\n",
            "885/885 [==============================] - 3s 3ms/step - loss: 0.6514 - accuracy: 0.6260\n",
            "Epoch 39/100\n",
            "885/885 [==============================] - 3s 3ms/step - loss: 0.6460 - accuracy: 0.6334\n",
            "Epoch 40/100\n",
            "885/885 [==============================] - 3s 3ms/step - loss: 0.6416 - accuracy: 0.6378\n",
            "Epoch 41/100\n",
            "885/885 [==============================] - 3s 3ms/step - loss: 0.6436 - accuracy: 0.6323\n",
            "Epoch 42/100\n",
            "885/885 [==============================] - 3s 3ms/step - loss: 0.6455 - accuracy: 0.6315\n",
            "Epoch 43/100\n",
            "885/885 [==============================] - 3s 3ms/step - loss: 0.6502 - accuracy: 0.6271\n",
            "Epoch 44/100\n",
            "885/885 [==============================] - 3s 3ms/step - loss: 0.6468 - accuracy: 0.6351\n",
            "Epoch 45/100\n",
            "885/885 [==============================] - 3s 3ms/step - loss: 0.6403 - accuracy: 0.6440\n",
            "Epoch 46/100\n",
            "885/885 [==============================] - 3s 3ms/step - loss: 0.6448 - accuracy: 0.6325\n",
            "Epoch 47/100\n",
            "885/885 [==============================] - 3s 3ms/step - loss: 0.6461 - accuracy: 0.6363\n",
            "Epoch 48/100\n",
            "885/885 [==============================] - 3s 3ms/step - loss: 0.6463 - accuracy: 0.6314\n",
            "Epoch 49/100\n",
            "885/885 [==============================] - 3s 3ms/step - loss: 0.6396 - accuracy: 0.6423\n",
            "Epoch 50/100\n",
            "885/885 [==============================] - 3s 3ms/step - loss: 0.6471 - accuracy: 0.6306\n",
            "Epoch 51/100\n",
            "885/885 [==============================] - 3s 3ms/step - loss: 0.6472 - accuracy: 0.6331\n",
            "Epoch 52/100\n",
            "885/885 [==============================] - 3s 3ms/step - loss: 0.6450 - accuracy: 0.6323\n",
            "Epoch 53/100\n",
            "885/885 [==============================] - 3s 3ms/step - loss: 0.6450 - accuracy: 0.6353\n",
            "Epoch 54/100\n",
            "885/885 [==============================] - 3s 3ms/step - loss: 0.6417 - accuracy: 0.6394\n",
            "Epoch 55/100\n",
            "885/885 [==============================] - 3s 3ms/step - loss: 0.6495 - accuracy: 0.6307\n",
            "Epoch 56/100\n",
            "885/885 [==============================] - 3s 3ms/step - loss: 0.6404 - accuracy: 0.6452\n",
            "Epoch 57/100\n",
            "885/885 [==============================] - 3s 3ms/step - loss: 0.6429 - accuracy: 0.6427\n",
            "Epoch 58/100\n",
            "885/885 [==============================] - 3s 3ms/step - loss: 0.6473 - accuracy: 0.6318\n",
            "Epoch 59/100\n",
            "885/885 [==============================] - 3s 3ms/step - loss: 0.6385 - accuracy: 0.6435\n",
            "Epoch 60/100\n",
            "885/885 [==============================] - 3s 3ms/step - loss: 0.6466 - accuracy: 0.6297\n",
            "Epoch 61/100\n",
            "885/885 [==============================] - 3s 3ms/step - loss: 0.6455 - accuracy: 0.6304\n",
            "Epoch 62/100\n",
            "885/885 [==============================] - 3s 3ms/step - loss: 0.6461 - accuracy: 0.6314\n",
            "Epoch 63/100\n",
            "885/885 [==============================] - 3s 3ms/step - loss: 0.6456 - accuracy: 0.6336\n",
            "Epoch 64/100\n",
            "885/885 [==============================] - 3s 3ms/step - loss: 0.6389 - accuracy: 0.6473\n",
            "Epoch 65/100\n",
            "885/885 [==============================] - 3s 3ms/step - loss: 0.6481 - accuracy: 0.6261\n",
            "Epoch 66/100\n",
            "885/885 [==============================] - 3s 3ms/step - loss: 0.6445 - accuracy: 0.6385\n",
            "Epoch 67/100\n",
            "885/885 [==============================] - 3s 3ms/step - loss: 0.6481 - accuracy: 0.6326\n",
            "Epoch 68/100\n",
            "885/885 [==============================] - 3s 3ms/step - loss: 0.6455 - accuracy: 0.6352\n",
            "Epoch 69/100\n",
            "885/885 [==============================] - 3s 3ms/step - loss: 0.6461 - accuracy: 0.6334\n",
            "Epoch 70/100\n",
            "885/885 [==============================] - 3s 3ms/step - loss: 0.6337 - accuracy: 0.6507\n",
            "Epoch 71/100\n",
            "885/885 [==============================] - 3s 3ms/step - loss: 0.6428 - accuracy: 0.6341\n",
            "Epoch 72/100\n",
            "885/885 [==============================] - 3s 3ms/step - loss: 0.6355 - accuracy: 0.6462\n",
            "Epoch 73/100\n",
            "885/885 [==============================] - 3s 3ms/step - loss: 0.6421 - accuracy: 0.6348\n",
            "Epoch 74/100\n",
            "885/885 [==============================] - 3s 3ms/step - loss: 0.6444 - accuracy: 0.6365\n",
            "Epoch 75/100\n",
            "885/885 [==============================] - 3s 3ms/step - loss: 0.6434 - accuracy: 0.6385\n",
            "Epoch 76/100\n",
            "885/885 [==============================] - 3s 3ms/step - loss: 0.6466 - accuracy: 0.6322\n",
            "Epoch 77/100\n",
            "885/885 [==============================] - 3s 3ms/step - loss: 0.6440 - accuracy: 0.6334\n",
            "Epoch 78/100\n",
            "885/885 [==============================] - 3s 3ms/step - loss: 0.6446 - accuracy: 0.6344\n",
            "Epoch 79/100\n",
            "885/885 [==============================] - 3s 3ms/step - loss: 0.6417 - accuracy: 0.6383\n",
            "Epoch 80/100\n",
            "885/885 [==============================] - 3s 3ms/step - loss: 0.6414 - accuracy: 0.6426\n",
            "Epoch 81/100\n",
            "885/885 [==============================] - 3s 3ms/step - loss: 0.6496 - accuracy: 0.6286\n",
            "Epoch 82/100\n",
            "885/885 [==============================] - 3s 3ms/step - loss: 0.6459 - accuracy: 0.6328\n",
            "Epoch 83/100\n",
            "885/885 [==============================] - 3s 3ms/step - loss: 0.6416 - accuracy: 0.6372\n",
            "Epoch 84/100\n",
            "885/885 [==============================] - 3s 3ms/step - loss: 0.6441 - accuracy: 0.6314\n",
            "Epoch 85/100\n",
            "885/885 [==============================] - 3s 3ms/step - loss: 0.6425 - accuracy: 0.6351\n",
            "Epoch 86/100\n",
            "885/885 [==============================] - 3s 3ms/step - loss: 0.6448 - accuracy: 0.6342\n",
            "Epoch 87/100\n",
            "885/885 [==============================] - 3s 3ms/step - loss: 0.6422 - accuracy: 0.6361\n",
            "Epoch 88/100\n",
            "885/885 [==============================] - 3s 3ms/step - loss: 0.6458 - accuracy: 0.6308\n",
            "Epoch 89/100\n",
            "885/885 [==============================] - 3s 3ms/step - loss: 0.6434 - accuracy: 0.6391\n",
            "Epoch 90/100\n",
            "885/885 [==============================] - 3s 3ms/step - loss: 0.6407 - accuracy: 0.6371\n",
            "Epoch 91/100\n",
            "885/885 [==============================] - 3s 3ms/step - loss: 0.6396 - accuracy: 0.6408\n",
            "Epoch 92/100\n",
            "885/885 [==============================] - 3s 3ms/step - loss: 0.6403 - accuracy: 0.6340\n",
            "Epoch 93/100\n",
            "885/885 [==============================] - 3s 3ms/step - loss: 0.6413 - accuracy: 0.6394\n",
            "Epoch 94/100\n",
            "885/885 [==============================] - 3s 3ms/step - loss: 0.6390 - accuracy: 0.6472\n",
            "Epoch 95/100\n",
            "885/885 [==============================] - 3s 3ms/step - loss: 0.6371 - accuracy: 0.6411\n",
            "Epoch 96/100\n",
            "885/885 [==============================] - 3s 3ms/step - loss: 0.6455 - accuracy: 0.6338\n",
            "Epoch 97/100\n",
            "885/885 [==============================] - 3s 3ms/step - loss: 0.6455 - accuracy: 0.6307\n",
            "Epoch 98/100\n",
            "885/885 [==============================] - 3s 3ms/step - loss: 0.6427 - accuracy: 0.6367\n",
            "Epoch 99/100\n",
            "885/885 [==============================] - 3s 3ms/step - loss: 0.6415 - accuracy: 0.6377\n",
            "Epoch 100/100\n",
            "885/885 [==============================] - 3s 3ms/step - loss: 0.6434 - accuracy: 0.6361\n",
            "99/99 [==============================] - 0s 2ms/step - loss: 0.6417 - accuracy: 0.6541\n",
            "Epoch 1/100\n",
            "885/885 [==============================] - 4s 3ms/step - loss: 0.6815 - accuracy: 0.5786\n",
            "Epoch 2/100\n",
            "885/885 [==============================] - 3s 3ms/step - loss: 0.6554 - accuracy: 0.6331\n",
            "Epoch 3/100\n",
            "885/885 [==============================] - 3s 3ms/step - loss: 0.6542 - accuracy: 0.6239\n",
            "Epoch 4/100\n",
            "885/885 [==============================] - 3s 3ms/step - loss: 0.6555 - accuracy: 0.6219\n",
            "Epoch 5/100\n",
            "885/885 [==============================] - 3s 3ms/step - loss: 0.6506 - accuracy: 0.6299\n",
            "Epoch 6/100\n",
            "885/885 [==============================] - 3s 3ms/step - loss: 0.6487 - accuracy: 0.6233\n",
            "Epoch 7/100\n",
            "885/885 [==============================] - 3s 3ms/step - loss: 0.6494 - accuracy: 0.6321\n",
            "Epoch 8/100\n",
            "885/885 [==============================] - 3s 3ms/step - loss: 0.6463 - accuracy: 0.6347\n",
            "Epoch 9/100\n",
            "885/885 [==============================] - 3s 3ms/step - loss: 0.6499 - accuracy: 0.6300\n",
            "Epoch 10/100\n",
            "885/885 [==============================] - 3s 3ms/step - loss: 0.6528 - accuracy: 0.6250\n",
            "Epoch 11/100\n",
            "885/885 [==============================] - 3s 3ms/step - loss: 0.6469 - accuracy: 0.6319\n",
            "Epoch 12/100\n",
            "885/885 [==============================] - 3s 3ms/step - loss: 0.6518 - accuracy: 0.6280\n",
            "Epoch 13/100\n",
            "885/885 [==============================] - 3s 3ms/step - loss: 0.6503 - accuracy: 0.6284\n",
            "Epoch 14/100\n",
            "885/885 [==============================] - 3s 3ms/step - loss: 0.6416 - accuracy: 0.6414\n",
            "Epoch 15/100\n",
            "885/885 [==============================] - 3s 3ms/step - loss: 0.6446 - accuracy: 0.6393\n",
            "Epoch 16/100\n",
            "885/885 [==============================] - 3s 3ms/step - loss: 0.6442 - accuracy: 0.6331\n",
            "Epoch 17/100\n",
            "885/885 [==============================] - 3s 3ms/step - loss: 0.6493 - accuracy: 0.6314\n",
            "Epoch 18/100\n",
            "885/885 [==============================] - 3s 3ms/step - loss: 0.6504 - accuracy: 0.6268\n",
            "Epoch 19/100\n",
            "885/885 [==============================] - 3s 3ms/step - loss: 0.6427 - accuracy: 0.6408\n",
            "Epoch 20/100\n",
            "885/885 [==============================] - 3s 3ms/step - loss: 0.6401 - accuracy: 0.6432\n",
            "Epoch 21/100\n",
            "885/885 [==============================] - 3s 3ms/step - loss: 0.6481 - accuracy: 0.6364\n",
            "Epoch 22/100\n",
            "885/885 [==============================] - 3s 3ms/step - loss: 0.6457 - accuracy: 0.6385\n",
            "Epoch 23/100\n",
            "885/885 [==============================] - 3s 3ms/step - loss: 0.6488 - accuracy: 0.6297\n",
            "Epoch 24/100\n",
            "885/885 [==============================] - 3s 3ms/step - loss: 0.6424 - accuracy: 0.6374\n",
            "Epoch 25/100\n",
            "885/885 [==============================] - 3s 3ms/step - loss: 0.6447 - accuracy: 0.6360\n",
            "Epoch 26/100\n",
            "885/885 [==============================] - 3s 3ms/step - loss: 0.6433 - accuracy: 0.6311\n",
            "Epoch 27/100\n",
            "885/885 [==============================] - 3s 3ms/step - loss: 0.6391 - accuracy: 0.6431\n",
            "Epoch 28/100\n",
            "885/885 [==============================] - 3s 3ms/step - loss: 0.6422 - accuracy: 0.6398\n",
            "Epoch 29/100\n",
            "885/885 [==============================] - 3s 3ms/step - loss: 0.6469 - accuracy: 0.6325\n",
            "Epoch 30/100\n",
            "885/885 [==============================] - 3s 3ms/step - loss: 0.6422 - accuracy: 0.6408\n",
            "Epoch 31/100\n",
            "885/885 [==============================] - 3s 3ms/step - loss: 0.6461 - accuracy: 0.6328\n",
            "Epoch 32/100\n",
            "885/885 [==============================] - 3s 3ms/step - loss: 0.6478 - accuracy: 0.6281\n",
            "Epoch 33/100\n",
            "885/885 [==============================] - 3s 3ms/step - loss: 0.6457 - accuracy: 0.6347\n",
            "Epoch 34/100\n",
            "885/885 [==============================] - 3s 3ms/step - loss: 0.6443 - accuracy: 0.6335\n",
            "Epoch 35/100\n",
            "885/885 [==============================] - 3s 3ms/step - loss: 0.6474 - accuracy: 0.6316\n",
            "Epoch 36/100\n",
            "885/885 [==============================] - 3s 3ms/step - loss: 0.6424 - accuracy: 0.6404\n",
            "Epoch 37/100\n",
            "885/885 [==============================] - 3s 3ms/step - loss: 0.6459 - accuracy: 0.6382\n",
            "Epoch 38/100\n",
            "885/885 [==============================] - 3s 3ms/step - loss: 0.6451 - accuracy: 0.6370\n",
            "Epoch 39/100\n",
            "885/885 [==============================] - 3s 3ms/step - loss: 0.6384 - accuracy: 0.6492\n",
            "Epoch 40/100\n",
            "885/885 [==============================] - 3s 3ms/step - loss: 0.6434 - accuracy: 0.6390\n",
            "Epoch 41/100\n",
            "885/885 [==============================] - 3s 3ms/step - loss: 0.6377 - accuracy: 0.6449\n",
            "Epoch 42/100\n",
            "885/885 [==============================] - 3s 4ms/step - loss: 0.6465 - accuracy: 0.6359\n",
            "Epoch 43/100\n",
            "885/885 [==============================] - 3s 3ms/step - loss: 0.6426 - accuracy: 0.6409\n",
            "Epoch 44/100\n",
            "885/885 [==============================] - 3s 3ms/step - loss: 0.6416 - accuracy: 0.6408\n",
            "Epoch 45/100\n",
            "885/885 [==============================] - 3s 3ms/step - loss: 0.6414 - accuracy: 0.6391\n",
            "Epoch 46/100\n",
            "885/885 [==============================] - 3s 3ms/step - loss: 0.6474 - accuracy: 0.6379\n",
            "Epoch 47/100\n",
            "885/885 [==============================] - 3s 3ms/step - loss: 0.6347 - accuracy: 0.6554\n",
            "Epoch 48/100\n",
            "885/885 [==============================] - 3s 3ms/step - loss: 0.6498 - accuracy: 0.6327\n",
            "Epoch 49/100\n",
            "885/885 [==============================] - 3s 3ms/step - loss: 0.6454 - accuracy: 0.6428\n",
            "Epoch 50/100\n",
            "885/885 [==============================] - 3s 3ms/step - loss: 0.6430 - accuracy: 0.6432\n",
            "Epoch 51/100\n",
            "885/885 [==============================] - 3s 3ms/step - loss: 0.6434 - accuracy: 0.6400\n",
            "Epoch 52/100\n",
            "885/885 [==============================] - 3s 3ms/step - loss: 0.6471 - accuracy: 0.6341\n",
            "Epoch 53/100\n",
            "885/885 [==============================] - 3s 3ms/step - loss: 0.6404 - accuracy: 0.6393\n",
            "Epoch 54/100\n",
            "885/885 [==============================] - 3s 3ms/step - loss: 0.6469 - accuracy: 0.6360\n",
            "Epoch 55/100\n",
            "885/885 [==============================] - 3s 3ms/step - loss: 0.6437 - accuracy: 0.6408\n",
            "Epoch 56/100\n",
            "885/885 [==============================] - 3s 3ms/step - loss: 0.6430 - accuracy: 0.6409\n",
            "Epoch 57/100\n",
            "885/885 [==============================] - 3s 4ms/step - loss: 0.6493 - accuracy: 0.6318\n",
            "Epoch 58/100\n",
            "885/885 [==============================] - 3s 3ms/step - loss: 0.6449 - accuracy: 0.6395\n",
            "Epoch 59/100\n",
            "885/885 [==============================] - 3s 3ms/step - loss: 0.6457 - accuracy: 0.6348\n",
            "Epoch 60/100\n",
            "885/885 [==============================] - 3s 3ms/step - loss: 0.6401 - accuracy: 0.6460\n",
            "Epoch 61/100\n",
            "885/885 [==============================] - 3s 3ms/step - loss: 0.6418 - accuracy: 0.6461\n",
            "Epoch 62/100\n",
            "885/885 [==============================] - 3s 3ms/step - loss: 0.6455 - accuracy: 0.6372\n",
            "Epoch 63/100\n",
            "885/885 [==============================] - 3s 3ms/step - loss: 0.6476 - accuracy: 0.6344\n",
            "Epoch 64/100\n",
            "885/885 [==============================] - 3s 3ms/step - loss: 0.6401 - accuracy: 0.6420\n",
            "Epoch 65/100\n",
            "885/885 [==============================] - 3s 3ms/step - loss: 0.6445 - accuracy: 0.6389\n",
            "Epoch 66/100\n",
            "885/885 [==============================] - 3s 3ms/step - loss: 0.6415 - accuracy: 0.6429\n",
            "Epoch 67/100\n",
            "885/885 [==============================] - 3s 3ms/step - loss: 0.6432 - accuracy: 0.6410\n",
            "Epoch 68/100\n",
            "885/885 [==============================] - 3s 3ms/step - loss: 0.6416 - accuracy: 0.6444\n",
            "Epoch 69/100\n",
            "885/885 [==============================] - 3s 3ms/step - loss: 0.6397 - accuracy: 0.6442\n",
            "Epoch 70/100\n",
            "885/885 [==============================] - 3s 3ms/step - loss: 0.6467 - accuracy: 0.6316\n",
            "Epoch 71/100\n",
            "885/885 [==============================] - 3s 3ms/step - loss: 0.6462 - accuracy: 0.6346\n",
            "Epoch 72/100\n",
            "885/885 [==============================] - 3s 3ms/step - loss: 0.6392 - accuracy: 0.6465\n",
            "Epoch 73/100\n",
            "885/885 [==============================] - 3s 3ms/step - loss: 0.6356 - accuracy: 0.6491\n",
            "Epoch 74/100\n",
            "885/885 [==============================] - 3s 3ms/step - loss: 0.6444 - accuracy: 0.6367\n",
            "Epoch 75/100\n",
            "885/885 [==============================] - 3s 3ms/step - loss: 0.6376 - accuracy: 0.6474\n",
            "Epoch 76/100\n",
            "885/885 [==============================] - 3s 3ms/step - loss: 0.6408 - accuracy: 0.6440\n",
            "Epoch 77/100\n",
            "885/885 [==============================] - 3s 3ms/step - loss: 0.6456 - accuracy: 0.6335\n",
            "Epoch 78/100\n",
            "885/885 [==============================] - 3s 3ms/step - loss: 0.6405 - accuracy: 0.6476\n",
            "Epoch 79/100\n",
            "885/885 [==============================] - 3s 3ms/step - loss: 0.6431 - accuracy: 0.6430\n",
            "Epoch 80/100\n",
            "885/885 [==============================] - 3s 3ms/step - loss: 0.6400 - accuracy: 0.6474\n",
            "Epoch 81/100\n",
            "885/885 [==============================] - 3s 3ms/step - loss: 0.6356 - accuracy: 0.6476\n",
            "Epoch 82/100\n",
            "885/885 [==============================] - 3s 3ms/step - loss: 0.6403 - accuracy: 0.6444\n",
            "Epoch 83/100\n",
            "885/885 [==============================] - 3s 3ms/step - loss: 0.6444 - accuracy: 0.6399\n",
            "Epoch 84/100\n",
            "885/885 [==============================] - 3s 3ms/step - loss: 0.6385 - accuracy: 0.6469\n",
            "Epoch 85/100\n",
            "885/885 [==============================] - 3s 3ms/step - loss: 0.6439 - accuracy: 0.6390\n",
            "Epoch 86/100\n",
            "885/885 [==============================] - 3s 3ms/step - loss: 0.6350 - accuracy: 0.6565\n",
            "Epoch 87/100\n",
            "885/885 [==============================] - 3s 3ms/step - loss: 0.6407 - accuracy: 0.6496\n",
            "Epoch 88/100\n",
            "885/885 [==============================] - 3s 3ms/step - loss: 0.6453 - accuracy: 0.6411\n",
            "Epoch 89/100\n",
            "885/885 [==============================] - 3s 3ms/step - loss: 0.6399 - accuracy: 0.6433\n",
            "Epoch 90/100\n",
            "885/885 [==============================] - 3s 3ms/step - loss: 0.6423 - accuracy: 0.6433\n",
            "Epoch 91/100\n",
            "885/885 [==============================] - 3s 3ms/step - loss: 0.6426 - accuracy: 0.6437\n",
            "Epoch 92/100\n",
            "885/885 [==============================] - 3s 3ms/step - loss: 0.6433 - accuracy: 0.6356\n",
            "Epoch 93/100\n",
            "885/885 [==============================] - 3s 3ms/step - loss: 0.6455 - accuracy: 0.6393\n",
            "Epoch 94/100\n",
            "885/885 [==============================] - 3s 3ms/step - loss: 0.6371 - accuracy: 0.6524\n",
            "Epoch 95/100\n",
            "885/885 [==============================] - 3s 3ms/step - loss: 0.6421 - accuracy: 0.6439\n",
            "Epoch 96/100\n",
            "885/885 [==============================] - 3s 3ms/step - loss: 0.6401 - accuracy: 0.6424\n",
            "Epoch 97/100\n",
            "885/885 [==============================] - 3s 3ms/step - loss: 0.6421 - accuracy: 0.6394\n",
            "Epoch 98/100\n",
            "885/885 [==============================] - 3s 4ms/step - loss: 0.6426 - accuracy: 0.6464\n",
            "Epoch 99/100\n",
            "885/885 [==============================] - 3s 4ms/step - loss: 0.6435 - accuracy: 0.6366\n",
            "Epoch 100/100\n",
            "885/885 [==============================] - 3s 4ms/step - loss: 0.6414 - accuracy: 0.6459\n",
            "99/99 [==============================] - 0s 2ms/step - loss: 0.6622 - accuracy: 0.6216\n",
            "Epoch 1/100\n",
            "885/885 [==============================] - 3s 3ms/step - loss: 0.6805 - accuracy: 0.5879\n",
            "Epoch 2/100\n",
            "885/885 [==============================] - 3s 3ms/step - loss: 0.6613 - accuracy: 0.6091\n",
            "Epoch 3/100\n",
            "885/885 [==============================] - 3s 3ms/step - loss: 0.6561 - accuracy: 0.6324\n",
            "Epoch 4/100\n",
            "885/885 [==============================] - 3s 3ms/step - loss: 0.6624 - accuracy: 0.6204\n",
            "Epoch 5/100\n",
            "885/885 [==============================] - 3s 3ms/step - loss: 0.6567 - accuracy: 0.6277\n",
            "Epoch 6/100\n",
            "885/885 [==============================] - 3s 3ms/step - loss: 0.6607 - accuracy: 0.6197\n",
            "Epoch 7/100\n",
            "885/885 [==============================] - 3s 3ms/step - loss: 0.6576 - accuracy: 0.6227\n",
            "Epoch 8/100\n",
            "885/885 [==============================] - 3s 3ms/step - loss: 0.6597 - accuracy: 0.6163\n",
            "Epoch 9/100\n",
            "885/885 [==============================] - 3s 3ms/step - loss: 0.6545 - accuracy: 0.6290\n",
            "Epoch 10/100\n",
            "885/885 [==============================] - 3s 3ms/step - loss: 0.6555 - accuracy: 0.6319\n",
            "Epoch 11/100\n",
            "885/885 [==============================] - 3s 3ms/step - loss: 0.6555 - accuracy: 0.6361\n",
            "Epoch 12/100\n",
            "885/885 [==============================] - 3s 3ms/step - loss: 0.6568 - accuracy: 0.6261\n",
            "Epoch 13/100\n",
            "885/885 [==============================] - 3s 3ms/step - loss: 0.6565 - accuracy: 0.6285\n",
            "Epoch 14/100\n",
            "885/885 [==============================] - 3s 3ms/step - loss: 0.6585 - accuracy: 0.6191\n",
            "Epoch 15/100\n",
            "885/885 [==============================] - 3s 3ms/step - loss: 0.6503 - accuracy: 0.6296\n",
            "Epoch 16/100\n",
            "885/885 [==============================] - 3s 3ms/step - loss: 0.6532 - accuracy: 0.6254\n",
            "Epoch 17/100\n",
            "885/885 [==============================] - 3s 3ms/step - loss: 0.6553 - accuracy: 0.6277\n",
            "Epoch 18/100\n",
            "885/885 [==============================] - 3s 3ms/step - loss: 0.6512 - accuracy: 0.6327\n",
            "Epoch 19/100\n",
            "885/885 [==============================] - 3s 3ms/step - loss: 0.6481 - accuracy: 0.6368\n",
            "Epoch 20/100\n",
            "885/885 [==============================] - 3s 3ms/step - loss: 0.6589 - accuracy: 0.6191\n",
            "Epoch 21/100\n",
            "885/885 [==============================] - 3s 3ms/step - loss: 0.6504 - accuracy: 0.6332\n",
            "Epoch 22/100\n",
            "885/885 [==============================] - 3s 3ms/step - loss: 0.6511 - accuracy: 0.6397\n",
            "Epoch 23/100\n",
            "885/885 [==============================] - 3s 3ms/step - loss: 0.6558 - accuracy: 0.6238\n",
            "Epoch 24/100\n",
            "885/885 [==============================] - 3s 3ms/step - loss: 0.6483 - accuracy: 0.6350\n",
            "Epoch 25/100\n",
            "885/885 [==============================] - 3s 3ms/step - loss: 0.6527 - accuracy: 0.6231\n",
            "Epoch 26/100\n",
            "885/885 [==============================] - 3s 3ms/step - loss: 0.6502 - accuracy: 0.6260\n",
            "Epoch 27/100\n",
            "885/885 [==============================] - 3s 3ms/step - loss: 0.6516 - accuracy: 0.6308\n",
            "Epoch 28/100\n",
            "885/885 [==============================] - 3s 3ms/step - loss: 0.6527 - accuracy: 0.6260\n",
            "Epoch 29/100\n",
            "885/885 [==============================] - 3s 3ms/step - loss: 0.6500 - accuracy: 0.6385\n",
            "Epoch 30/100\n",
            "885/885 [==============================] - 3s 3ms/step - loss: 0.6492 - accuracy: 0.6282\n",
            "Epoch 31/100\n",
            "885/885 [==============================] - 3s 3ms/step - loss: 0.6485 - accuracy: 0.6363\n",
            "Epoch 32/100\n",
            "885/885 [==============================] - 3s 3ms/step - loss: 0.6455 - accuracy: 0.6321\n",
            "Epoch 33/100\n",
            "885/885 [==============================] - 3s 4ms/step - loss: 0.6535 - accuracy: 0.6278\n",
            "Epoch 34/100\n",
            "885/885 [==============================] - 3s 3ms/step - loss: 0.6495 - accuracy: 0.6286\n",
            "Epoch 35/100\n",
            "885/885 [==============================] - 3s 3ms/step - loss: 0.6433 - accuracy: 0.6419\n",
            "Epoch 36/100\n",
            "885/885 [==============================] - 3s 3ms/step - loss: 0.6433 - accuracy: 0.6417\n",
            "Epoch 37/100\n",
            "885/885 [==============================] - 3s 3ms/step - loss: 0.6402 - accuracy: 0.6448\n",
            "Epoch 38/100\n",
            "885/885 [==============================] - 3s 3ms/step - loss: 0.6489 - accuracy: 0.6306\n",
            "Epoch 39/100\n",
            "885/885 [==============================] - 3s 3ms/step - loss: 0.6422 - accuracy: 0.6473\n",
            "Epoch 40/100\n",
            "885/885 [==============================] - 3s 3ms/step - loss: 0.6463 - accuracy: 0.6398\n",
            "Epoch 41/100\n",
            "885/885 [==============================] - 3s 4ms/step - loss: 0.6464 - accuracy: 0.6383\n",
            "Epoch 42/100\n",
            "885/885 [==============================] - 3s 3ms/step - loss: 0.6451 - accuracy: 0.6470\n",
            "Epoch 43/100\n",
            "885/885 [==============================] - 3s 3ms/step - loss: 0.6476 - accuracy: 0.6272\n",
            "Epoch 44/100\n",
            "885/885 [==============================] - 3s 4ms/step - loss: 0.6477 - accuracy: 0.6332\n",
            "Epoch 45/100\n",
            "885/885 [==============================] - 3s 4ms/step - loss: 0.6566 - accuracy: 0.6205\n",
            "Epoch 46/100\n",
            "885/885 [==============================] - 3s 3ms/step - loss: 0.6445 - accuracy: 0.6408\n",
            "Epoch 47/100\n",
            "885/885 [==============================] - 3s 4ms/step - loss: 0.6461 - accuracy: 0.6416\n",
            "Epoch 48/100\n",
            "885/885 [==============================] - 3s 3ms/step - loss: 0.6466 - accuracy: 0.6385\n",
            "Epoch 49/100\n",
            "885/885 [==============================] - 3s 3ms/step - loss: 0.6483 - accuracy: 0.6353\n",
            "Epoch 50/100\n",
            "885/885 [==============================] - 3s 3ms/step - loss: 0.6463 - accuracy: 0.6371\n",
            "Epoch 51/100\n",
            "885/885 [==============================] - 3s 3ms/step - loss: 0.6484 - accuracy: 0.6281\n",
            "Epoch 52/100\n",
            "885/885 [==============================] - 3s 3ms/step - loss: 0.6450 - accuracy: 0.6373\n",
            "Epoch 53/100\n",
            "885/885 [==============================] - 3s 3ms/step - loss: 0.6451 - accuracy: 0.6392\n",
            "Epoch 54/100\n",
            "885/885 [==============================] - 3s 3ms/step - loss: 0.6534 - accuracy: 0.6245\n",
            "Epoch 55/100\n",
            "885/885 [==============================] - 3s 3ms/step - loss: 0.6501 - accuracy: 0.6266\n",
            "Epoch 56/100\n",
            "885/885 [==============================] - 3s 3ms/step - loss: 0.6479 - accuracy: 0.6323\n",
            "Epoch 57/100\n",
            "885/885 [==============================] - 3s 4ms/step - loss: 0.6468 - accuracy: 0.6327\n",
            "Epoch 58/100\n",
            "885/885 [==============================] - 3s 3ms/step - loss: 0.6447 - accuracy: 0.6412\n",
            "Epoch 59/100\n",
            "885/885 [==============================] - 3s 3ms/step - loss: 0.6485 - accuracy: 0.6322\n",
            "Epoch 60/100\n",
            "885/885 [==============================] - 3s 3ms/step - loss: 0.6492 - accuracy: 0.6320\n",
            "Epoch 61/100\n",
            "885/885 [==============================] - 3s 3ms/step - loss: 0.6514 - accuracy: 0.6292\n",
            "Epoch 62/100\n",
            "885/885 [==============================] - 3s 4ms/step - loss: 0.6443 - accuracy: 0.6417\n",
            "Epoch 63/100\n",
            "885/885 [==============================] - 3s 3ms/step - loss: 0.6479 - accuracy: 0.6261\n",
            "Epoch 64/100\n",
            "885/885 [==============================] - 3s 3ms/step - loss: 0.6481 - accuracy: 0.6292\n",
            "Epoch 65/100\n",
            "885/885 [==============================] - 3s 3ms/step - loss: 0.6417 - accuracy: 0.6460\n",
            "Epoch 66/100\n",
            "885/885 [==============================] - 3s 3ms/step - loss: 0.6503 - accuracy: 0.6308\n",
            "Epoch 67/100\n",
            "885/885 [==============================] - 3s 3ms/step - loss: 0.6493 - accuracy: 0.6302\n",
            "Epoch 68/100\n",
            "885/885 [==============================] - 3s 3ms/step - loss: 0.6505 - accuracy: 0.6292\n",
            "Epoch 69/100\n",
            "885/885 [==============================] - 3s 3ms/step - loss: 0.6456 - accuracy: 0.6377\n",
            "Epoch 70/100\n",
            "885/885 [==============================] - 3s 3ms/step - loss: 0.6504 - accuracy: 0.6331\n",
            "Epoch 71/100\n",
            "885/885 [==============================] - 3s 3ms/step - loss: 0.6510 - accuracy: 0.6303\n",
            "Epoch 72/100\n",
            "885/885 [==============================] - 3s 4ms/step - loss: 0.6512 - accuracy: 0.6304\n",
            "Epoch 73/100\n",
            "885/885 [==============================] - 3s 3ms/step - loss: 0.6470 - accuracy: 0.6335\n",
            "Epoch 74/100\n",
            "885/885 [==============================] - 3s 3ms/step - loss: 0.6520 - accuracy: 0.6210\n",
            "Epoch 75/100\n",
            "885/885 [==============================] - 3s 4ms/step - loss: 0.6457 - accuracy: 0.6366\n",
            "Epoch 76/100\n",
            "885/885 [==============================] - 3s 4ms/step - loss: 0.6454 - accuracy: 0.6365\n",
            "Epoch 77/100\n",
            "885/885 [==============================] - 3s 3ms/step - loss: 0.6467 - accuracy: 0.6378\n",
            "Epoch 78/100\n",
            "885/885 [==============================] - 3s 4ms/step - loss: 0.6499 - accuracy: 0.6278\n",
            "Epoch 79/100\n",
            "885/885 [==============================] - 3s 4ms/step - loss: 0.6472 - accuracy: 0.6323\n",
            "Epoch 80/100\n",
            "885/885 [==============================] - 3s 4ms/step - loss: 0.6497 - accuracy: 0.6347\n",
            "Epoch 81/100\n",
            "885/885 [==============================] - 3s 3ms/step - loss: 0.6430 - accuracy: 0.6445\n",
            "Epoch 82/100\n",
            "885/885 [==============================] - 3s 3ms/step - loss: 0.6448 - accuracy: 0.6351\n",
            "Epoch 83/100\n",
            "885/885 [==============================] - 3s 3ms/step - loss: 0.6494 - accuracy: 0.6378\n",
            "Epoch 84/100\n",
            "885/885 [==============================] - 3s 3ms/step - loss: 0.6380 - accuracy: 0.6451\n",
            "Epoch 85/100\n",
            "885/885 [==============================] - 3s 3ms/step - loss: 0.6517 - accuracy: 0.6227\n",
            "Epoch 86/100\n",
            "885/885 [==============================] - 3s 4ms/step - loss: 0.6444 - accuracy: 0.6359\n",
            "Epoch 87/100\n",
            "885/885 [==============================] - 3s 3ms/step - loss: 0.6492 - accuracy: 0.6310\n",
            "Epoch 88/100\n",
            "885/885 [==============================] - 3s 3ms/step - loss: 0.6499 - accuracy: 0.6304\n",
            "Epoch 89/100\n",
            "885/885 [==============================] - 3s 3ms/step - loss: 0.6447 - accuracy: 0.6322\n",
            "Epoch 90/100\n",
            "885/885 [==============================] - 3s 4ms/step - loss: 0.6447 - accuracy: 0.6305\n",
            "Epoch 91/100\n",
            "885/885 [==============================] - 3s 3ms/step - loss: 0.6401 - accuracy: 0.6421\n",
            "Epoch 92/100\n",
            "885/885 [==============================] - 3s 3ms/step - loss: 0.6531 - accuracy: 0.6267\n",
            "Epoch 93/100\n",
            "885/885 [==============================] - 3s 3ms/step - loss: 0.6467 - accuracy: 0.6330\n",
            "Epoch 94/100\n",
            "885/885 [==============================] - 3s 3ms/step - loss: 0.6479 - accuracy: 0.6302\n",
            "Epoch 95/100\n",
            "885/885 [==============================] - 3s 3ms/step - loss: 0.6491 - accuracy: 0.6315\n",
            "Epoch 96/100\n",
            "885/885 [==============================] - 3s 3ms/step - loss: 0.6486 - accuracy: 0.6324\n",
            "Epoch 97/100\n",
            "885/885 [==============================] - 3s 3ms/step - loss: 0.6460 - accuracy: 0.6374\n",
            "Epoch 98/100\n",
            "885/885 [==============================] - 3s 3ms/step - loss: 0.6547 - accuracy: 0.6254\n",
            "Epoch 99/100\n",
            "885/885 [==============================] - 3s 3ms/step - loss: 0.6476 - accuracy: 0.6338\n",
            "Epoch 100/100\n",
            "885/885 [==============================] - 3s 4ms/step - loss: 0.6510 - accuracy: 0.6255\n",
            "99/99 [==============================] - 0s 3ms/step - loss: 0.6539 - accuracy: 0.6236\n",
            "Epoch 1/100\n",
            "885/885 [==============================] - 4s 4ms/step - loss: 0.6785 - accuracy: 0.5812\n",
            "Epoch 2/100\n",
            "885/885 [==============================] - 3s 4ms/step - loss: 0.6636 - accuracy: 0.5927\n",
            "Epoch 3/100\n",
            "885/885 [==============================] - 3s 4ms/step - loss: 0.6622 - accuracy: 0.6239\n",
            "Epoch 4/100\n",
            "885/885 [==============================] - 3s 3ms/step - loss: 0.6578 - accuracy: 0.6281\n",
            "Epoch 5/100\n",
            "885/885 [==============================] - 3s 3ms/step - loss: 0.6570 - accuracy: 0.6242\n",
            "Epoch 6/100\n",
            "885/885 [==============================] - 3s 3ms/step - loss: 0.6573 - accuracy: 0.6213\n",
            "Epoch 7/100\n",
            "885/885 [==============================] - 3s 3ms/step - loss: 0.6541 - accuracy: 0.6272\n",
            "Epoch 8/100\n",
            "885/885 [==============================] - 3s 3ms/step - loss: 0.6545 - accuracy: 0.6238\n",
            "Epoch 9/100\n",
            "885/885 [==============================] - 3s 4ms/step - loss: 0.6542 - accuracy: 0.6255\n",
            "Epoch 10/100\n",
            "885/885 [==============================] - 3s 4ms/step - loss: 0.6569 - accuracy: 0.6251\n",
            "Epoch 11/100\n",
            "885/885 [==============================] - 3s 3ms/step - loss: 0.6499 - accuracy: 0.6276\n",
            "Epoch 12/100\n",
            "885/885 [==============================] - 3s 3ms/step - loss: 0.6520 - accuracy: 0.6248\n",
            "Epoch 13/100\n",
            "885/885 [==============================] - 3s 3ms/step - loss: 0.6517 - accuracy: 0.6268\n",
            "Epoch 14/100\n",
            "885/885 [==============================] - 3s 4ms/step - loss: 0.6552 - accuracy: 0.6246\n",
            "Epoch 15/100\n",
            "885/885 [==============================] - 3s 3ms/step - loss: 0.6478 - accuracy: 0.6342\n",
            "Epoch 16/100\n",
            "885/885 [==============================] - 3s 3ms/step - loss: 0.6491 - accuracy: 0.6314\n",
            "Epoch 17/100\n",
            "885/885 [==============================] - 3s 3ms/step - loss: 0.6550 - accuracy: 0.6160\n",
            "Epoch 18/100\n",
            "885/885 [==============================] - 3s 4ms/step - loss: 0.6529 - accuracy: 0.6245\n",
            "Epoch 19/100\n",
            "885/885 [==============================] - 3s 3ms/step - loss: 0.6470 - accuracy: 0.6315\n",
            "Epoch 20/100\n",
            "885/885 [==============================] - 3s 4ms/step - loss: 0.6489 - accuracy: 0.6253\n",
            "Epoch 21/100\n",
            "885/885 [==============================] - 3s 3ms/step - loss: 0.6488 - accuracy: 0.6248\n",
            "Epoch 22/100\n",
            "885/885 [==============================] - 3s 3ms/step - loss: 0.6512 - accuracy: 0.6267\n",
            "Epoch 23/100\n",
            "885/885 [==============================] - 3s 3ms/step - loss: 0.6490 - accuracy: 0.6291\n",
            "Epoch 24/100\n",
            "885/885 [==============================] - 3s 3ms/step - loss: 0.6438 - accuracy: 0.6380\n",
            "Epoch 25/100\n",
            "885/885 [==============================] - 3s 4ms/step - loss: 0.6531 - accuracy: 0.6205\n",
            "Epoch 26/100\n",
            "885/885 [==============================] - 3s 4ms/step - loss: 0.6491 - accuracy: 0.6284\n",
            "Epoch 27/100\n",
            "885/885 [==============================] - 3s 4ms/step - loss: 0.6473 - accuracy: 0.6336\n",
            "Epoch 28/100\n",
            "885/885 [==============================] - 3s 4ms/step - loss: 0.6467 - accuracy: 0.6341\n",
            "Epoch 29/100\n",
            "885/885 [==============================] - 3s 4ms/step - loss: 0.6461 - accuracy: 0.6279\n",
            "Epoch 30/100\n",
            "885/885 [==============================] - 3s 3ms/step - loss: 0.6431 - accuracy: 0.6336\n",
            "Epoch 31/100\n",
            "885/885 [==============================] - 3s 4ms/step - loss: 0.6491 - accuracy: 0.6302\n",
            "Epoch 32/100\n",
            "885/885 [==============================] - 3s 3ms/step - loss: 0.6508 - accuracy: 0.6269\n",
            "Epoch 33/100\n",
            "885/885 [==============================] - 3s 3ms/step - loss: 0.6514 - accuracy: 0.6218\n",
            "Epoch 34/100\n",
            "885/885 [==============================] - 3s 3ms/step - loss: 0.6502 - accuracy: 0.6252\n",
            "Epoch 35/100\n",
            "885/885 [==============================] - 3s 3ms/step - loss: 0.6477 - accuracy: 0.6333\n",
            "Epoch 36/100\n",
            "885/885 [==============================] - 3s 4ms/step - loss: 0.6438 - accuracy: 0.6340\n",
            "Epoch 37/100\n",
            "885/885 [==============================] - 3s 3ms/step - loss: 0.6526 - accuracy: 0.6264\n",
            "Epoch 38/100\n",
            "885/885 [==============================] - 3s 3ms/step - loss: 0.6408 - accuracy: 0.6377\n",
            "Epoch 39/100\n",
            "885/885 [==============================] - 3s 3ms/step - loss: 0.6443 - accuracy: 0.6348\n",
            "Epoch 40/100\n",
            "885/885 [==============================] - 3s 3ms/step - loss: 0.6493 - accuracy: 0.6266\n",
            "Epoch 41/100\n",
            "885/885 [==============================] - 3s 4ms/step - loss: 0.6453 - accuracy: 0.6321\n",
            "Epoch 42/100\n",
            "885/885 [==============================] - 3s 4ms/step - loss: 0.6515 - accuracy: 0.6277\n",
            "Epoch 43/100\n",
            "885/885 [==============================] - 3s 4ms/step - loss: 0.6512 - accuracy: 0.6258\n",
            "Epoch 44/100\n",
            "885/885 [==============================] - 3s 4ms/step - loss: 0.6476 - accuracy: 0.6308\n",
            "Epoch 45/100\n",
            "885/885 [==============================] - 3s 3ms/step - loss: 0.6445 - accuracy: 0.6342\n",
            "Epoch 46/100\n",
            "885/885 [==============================] - 3s 3ms/step - loss: 0.6419 - accuracy: 0.6379\n",
            "Epoch 47/100\n",
            "885/885 [==============================] - 3s 3ms/step - loss: 0.6438 - accuracy: 0.6357\n",
            "Epoch 48/100\n",
            "885/885 [==============================] - 3s 4ms/step - loss: 0.6475 - accuracy: 0.6357\n",
            "Epoch 49/100\n",
            "885/885 [==============================] - 3s 3ms/step - loss: 0.6445 - accuracy: 0.6366\n",
            "Epoch 50/100\n",
            "885/885 [==============================] - 3s 4ms/step - loss: 0.6440 - accuracy: 0.6329\n",
            "Epoch 51/100\n",
            "885/885 [==============================] - 3s 4ms/step - loss: 0.6435 - accuracy: 0.6396\n",
            "Epoch 52/100\n",
            "885/885 [==============================] - 3s 4ms/step - loss: 0.6467 - accuracy: 0.6365\n",
            "Epoch 53/100\n",
            "885/885 [==============================] - 3s 4ms/step - loss: 0.6416 - accuracy: 0.6358\n",
            "Epoch 54/100\n",
            "885/885 [==============================] - 3s 3ms/step - loss: 0.6512 - accuracy: 0.6275\n",
            "Epoch 55/100\n",
            "885/885 [==============================] - 3s 4ms/step - loss: 0.6485 - accuracy: 0.6329\n",
            "Epoch 56/100\n",
            "885/885 [==============================] - 3s 3ms/step - loss: 0.6417 - accuracy: 0.6353\n",
            "Epoch 57/100\n",
            "885/885 [==============================] - 3s 3ms/step - loss: 0.6476 - accuracy: 0.6318\n",
            "Epoch 58/100\n",
            "885/885 [==============================] - 3s 4ms/step - loss: 0.6494 - accuracy: 0.6289\n",
            "Epoch 59/100\n",
            "885/885 [==============================] - 3s 3ms/step - loss: 0.6395 - accuracy: 0.6404\n",
            "Epoch 60/100\n",
            "885/885 [==============================] - 3s 3ms/step - loss: 0.6413 - accuracy: 0.6407\n",
            "Epoch 61/100\n",
            "885/885 [==============================] - 3s 4ms/step - loss: 0.6408 - accuracy: 0.6423\n",
            "Epoch 62/100\n",
            "885/885 [==============================] - 3s 4ms/step - loss: 0.6491 - accuracy: 0.6252\n",
            "Epoch 63/100\n",
            "885/885 [==============================] - 3s 3ms/step - loss: 0.6484 - accuracy: 0.6316\n",
            "Epoch 64/100\n",
            "885/885 [==============================] - 3s 3ms/step - loss: 0.6475 - accuracy: 0.6265\n",
            "Epoch 65/100\n",
            "885/885 [==============================] - 3s 3ms/step - loss: 0.6427 - accuracy: 0.6364\n",
            "Epoch 66/100\n",
            "885/885 [==============================] - 3s 3ms/step - loss: 0.6436 - accuracy: 0.6375\n",
            "Epoch 67/100\n",
            "885/885 [==============================] - 3s 3ms/step - loss: 0.6462 - accuracy: 0.6352\n",
            "Epoch 68/100\n",
            "885/885 [==============================] - 3s 3ms/step - loss: 0.6461 - accuracy: 0.6302\n",
            "Epoch 69/100\n",
            "885/885 [==============================] - 3s 3ms/step - loss: 0.6425 - accuracy: 0.6358\n",
            "Epoch 70/100\n",
            "885/885 [==============================] - 3s 4ms/step - loss: 0.6406 - accuracy: 0.6386\n",
            "Epoch 71/100\n",
            "885/885 [==============================] - 3s 3ms/step - loss: 0.6426 - accuracy: 0.6288\n",
            "Epoch 72/100\n",
            "885/885 [==============================] - 3s 4ms/step - loss: 0.6444 - accuracy: 0.6310\n",
            "Epoch 73/100\n",
            "885/885 [==============================] - 3s 3ms/step - loss: 0.6440 - accuracy: 0.6395\n",
            "Epoch 74/100\n",
            "885/885 [==============================] - 3s 3ms/step - loss: 0.6483 - accuracy: 0.6288\n",
            "Epoch 75/100\n",
            "885/885 [==============================] - 3s 3ms/step - loss: 0.6496 - accuracy: 0.6226\n",
            "Epoch 76/100\n",
            "885/885 [==============================] - 3s 3ms/step - loss: 0.6474 - accuracy: 0.6272\n",
            "Epoch 77/100\n",
            "885/885 [==============================] - 3s 4ms/step - loss: 0.6467 - accuracy: 0.6295\n",
            "Epoch 78/100\n",
            "885/885 [==============================] - 3s 4ms/step - loss: 0.6434 - accuracy: 0.6312\n",
            "Epoch 79/100\n",
            "885/885 [==============================] - 3s 3ms/step - loss: 0.6432 - accuracy: 0.6372\n",
            "Epoch 80/100\n",
            "885/885 [==============================] - 3s 4ms/step - loss: 0.6505 - accuracy: 0.6231\n",
            "Epoch 81/100\n",
            "885/885 [==============================] - 3s 3ms/step - loss: 0.6432 - accuracy: 0.6381\n",
            "Epoch 82/100\n",
            "885/885 [==============================] - 3s 3ms/step - loss: 0.6404 - accuracy: 0.6340\n",
            "Epoch 83/100\n",
            "885/885 [==============================] - 3s 3ms/step - loss: 0.6470 - accuracy: 0.6313\n",
            "Epoch 84/100\n",
            "885/885 [==============================] - 3s 3ms/step - loss: 0.6417 - accuracy: 0.6404\n",
            "Epoch 85/100\n",
            "885/885 [==============================] - 3s 3ms/step - loss: 0.6488 - accuracy: 0.6212\n",
            "Epoch 86/100\n",
            "885/885 [==============================] - 3s 3ms/step - loss: 0.6468 - accuracy: 0.6322\n",
            "Epoch 87/100\n",
            "885/885 [==============================] - 3s 4ms/step - loss: 0.6453 - accuracy: 0.6289\n",
            "Epoch 88/100\n",
            "885/885 [==============================] - 3s 4ms/step - loss: 0.6405 - accuracy: 0.6394\n",
            "Epoch 89/100\n",
            "885/885 [==============================] - 3s 3ms/step - loss: 0.6470 - accuracy: 0.6272\n",
            "Epoch 90/100\n",
            "885/885 [==============================] - 3s 3ms/step - loss: 0.6469 - accuracy: 0.6297\n",
            "Epoch 91/100\n",
            "885/885 [==============================] - 3s 4ms/step - loss: 0.6451 - accuracy: 0.6342\n",
            "Epoch 92/100\n",
            "885/885 [==============================] - 3s 3ms/step - loss: 0.6447 - accuracy: 0.6341\n",
            "Epoch 93/100\n",
            "885/885 [==============================] - 3s 3ms/step - loss: 0.6438 - accuracy: 0.6290\n",
            "Epoch 94/100\n",
            "885/885 [==============================] - 3s 3ms/step - loss: 0.6453 - accuracy: 0.6286\n",
            "Epoch 95/100\n",
            "885/885 [==============================] - 3s 3ms/step - loss: 0.6440 - accuracy: 0.6315\n",
            "Epoch 96/100\n",
            "885/885 [==============================] - 3s 4ms/step - loss: 0.6426 - accuracy: 0.6367\n",
            "Epoch 97/100\n",
            "885/885 [==============================] - 3s 4ms/step - loss: 0.6377 - accuracy: 0.6440\n",
            "Epoch 98/100\n",
            "885/885 [==============================] - 3s 3ms/step - loss: 0.6458 - accuracy: 0.6266\n",
            "Epoch 99/100\n",
            "885/885 [==============================] - 3s 4ms/step - loss: 0.6457 - accuracy: 0.6277\n",
            "Epoch 100/100\n",
            "885/885 [==============================] - 3s 4ms/step - loss: 0.6437 - accuracy: 0.6361\n",
            "99/99 [==============================] - 0s 2ms/step - loss: 0.6525 - accuracy: 0.6175\n",
            "Epoch 1/100\n",
            "885/885 [==============================] - 4s 4ms/step - loss: 0.6792 - accuracy: 0.5841\n",
            "Epoch 2/100\n",
            "885/885 [==============================] - 3s 4ms/step - loss: 0.6630 - accuracy: 0.6027\n",
            "Epoch 3/100\n",
            "885/885 [==============================] - 3s 3ms/step - loss: 0.6616 - accuracy: 0.6242\n",
            "Epoch 4/100\n",
            "885/885 [==============================] - 3s 3ms/step - loss: 0.6537 - accuracy: 0.6307\n",
            "Epoch 5/100\n",
            "885/885 [==============================] - 3s 4ms/step - loss: 0.6571 - accuracy: 0.6254\n",
            "Epoch 6/100\n",
            "885/885 [==============================] - 3s 4ms/step - loss: 0.6623 - accuracy: 0.6137\n",
            "Epoch 7/100\n",
            "885/885 [==============================] - 3s 4ms/step - loss: 0.6571 - accuracy: 0.6314\n",
            "Epoch 8/100\n",
            "885/885 [==============================] - 3s 3ms/step - loss: 0.6561 - accuracy: 0.6355\n",
            "Epoch 9/100\n",
            "885/885 [==============================] - 3s 4ms/step - loss: 0.6483 - accuracy: 0.6374\n",
            "Epoch 10/100\n",
            "885/885 [==============================] - 3s 4ms/step - loss: 0.6553 - accuracy: 0.6267\n",
            "Epoch 11/100\n",
            "885/885 [==============================] - 3s 4ms/step - loss: 0.6570 - accuracy: 0.6254\n",
            "Epoch 12/100\n",
            "885/885 [==============================] - 3s 3ms/step - loss: 0.6523 - accuracy: 0.6375\n",
            "Epoch 13/100\n",
            "885/885 [==============================] - 3s 4ms/step - loss: 0.6605 - accuracy: 0.6255\n",
            "Epoch 14/100\n",
            "885/885 [==============================] - 3s 3ms/step - loss: 0.6500 - accuracy: 0.6370\n",
            "Epoch 15/100\n",
            "885/885 [==============================] - 3s 4ms/step - loss: 0.6515 - accuracy: 0.6330\n",
            "Epoch 16/100\n",
            "885/885 [==============================] - 3s 4ms/step - loss: 0.6502 - accuracy: 0.6401\n",
            "Epoch 17/100\n",
            "885/885 [==============================] - 3s 4ms/step - loss: 0.6502 - accuracy: 0.6307\n",
            "Epoch 18/100\n",
            "885/885 [==============================] - 3s 4ms/step - loss: 0.6518 - accuracy: 0.6331\n",
            "Epoch 19/100\n",
            "885/885 [==============================] - 3s 4ms/step - loss: 0.6501 - accuracy: 0.6367\n",
            "Epoch 20/100\n",
            "885/885 [==============================] - 3s 4ms/step - loss: 0.6494 - accuracy: 0.6376\n",
            "Epoch 21/100\n",
            "885/885 [==============================] - 3s 4ms/step - loss: 0.6539 - accuracy: 0.6268\n",
            "Epoch 22/100\n",
            "885/885 [==============================] - 3s 4ms/step - loss: 0.6527 - accuracy: 0.6295\n",
            "Epoch 23/100\n",
            "885/885 [==============================] - 3s 4ms/step - loss: 0.6588 - accuracy: 0.6203\n",
            "Epoch 24/100\n",
            "885/885 [==============================] - 3s 4ms/step - loss: 0.6560 - accuracy: 0.6263\n",
            "Epoch 25/100\n",
            "885/885 [==============================] - 3s 4ms/step - loss: 0.6511 - accuracy: 0.6302\n",
            "Epoch 26/100\n",
            "885/885 [==============================] - 3s 4ms/step - loss: 0.6478 - accuracy: 0.6380\n",
            "Epoch 27/100\n",
            "885/885 [==============================] - 3s 4ms/step - loss: 0.6496 - accuracy: 0.6349\n",
            "Epoch 28/100\n",
            "885/885 [==============================] - 3s 4ms/step - loss: 0.6554 - accuracy: 0.6291\n",
            "Epoch 29/100\n",
            "885/885 [==============================] - 3s 4ms/step - loss: 0.6472 - accuracy: 0.6386\n",
            "Epoch 30/100\n",
            "885/885 [==============================] - 3s 4ms/step - loss: 0.6511 - accuracy: 0.6346\n",
            "Epoch 31/100\n",
            "885/885 [==============================] - 3s 3ms/step - loss: 0.6497 - accuracy: 0.6372\n",
            "Epoch 32/100\n",
            "885/885 [==============================] - 3s 4ms/step - loss: 0.6423 - accuracy: 0.6432\n",
            "Epoch 33/100\n",
            "885/885 [==============================] - 3s 3ms/step - loss: 0.6506 - accuracy: 0.6346\n",
            "Epoch 34/100\n",
            "885/885 [==============================] - 3s 4ms/step - loss: 0.6491 - accuracy: 0.6344\n",
            "Epoch 35/100\n",
            "885/885 [==============================] - 3s 4ms/step - loss: 0.6488 - accuracy: 0.6371\n",
            "Epoch 36/100\n",
            "885/885 [==============================] - 3s 4ms/step - loss: 0.6472 - accuracy: 0.6413\n",
            "Epoch 37/100\n",
            "885/885 [==============================] - 3s 4ms/step - loss: 0.6505 - accuracy: 0.6336\n",
            "Epoch 38/100\n",
            "885/885 [==============================] - 3s 4ms/step - loss: 0.6502 - accuracy: 0.6382\n",
            "Epoch 39/100\n",
            "885/885 [==============================] - 3s 3ms/step - loss: 0.6498 - accuracy: 0.6337\n",
            "Epoch 40/100\n",
            "885/885 [==============================] - 3s 4ms/step - loss: 0.6520 - accuracy: 0.6278\n",
            "Epoch 41/100\n",
            "885/885 [==============================] - 4s 4ms/step - loss: 0.6427 - accuracy: 0.6464\n",
            "Epoch 42/100\n",
            "885/885 [==============================] - 3s 4ms/step - loss: 0.6446 - accuracy: 0.6413\n",
            "Epoch 43/100\n",
            "885/885 [==============================] - 3s 4ms/step - loss: 0.6476 - accuracy: 0.6398\n",
            "Epoch 44/100\n",
            "885/885 [==============================] - 3s 4ms/step - loss: 0.6498 - accuracy: 0.6329\n",
            "Epoch 45/100\n",
            "885/885 [==============================] - 3s 4ms/step - loss: 0.6456 - accuracy: 0.6378\n",
            "Epoch 46/100\n",
            "885/885 [==============================] - 3s 4ms/step - loss: 0.6503 - accuracy: 0.6364\n",
            "Epoch 47/100\n",
            "885/885 [==============================] - 3s 4ms/step - loss: 0.6411 - accuracy: 0.6497\n",
            "Epoch 48/100\n",
            "885/885 [==============================] - 3s 4ms/step - loss: 0.6494 - accuracy: 0.6361\n",
            "Epoch 49/100\n",
            "885/885 [==============================] - 3s 4ms/step - loss: 0.6436 - accuracy: 0.6415\n",
            "Epoch 50/100\n",
            "885/885 [==============================] - 3s 4ms/step - loss: 0.6498 - accuracy: 0.6362\n",
            "Epoch 51/100\n",
            "885/885 [==============================] - 3s 4ms/step - loss: 0.6489 - accuracy: 0.6358\n",
            "Epoch 52/100\n",
            "885/885 [==============================] - 3s 4ms/step - loss: 0.6495 - accuracy: 0.6350\n",
            "Epoch 53/100\n",
            "885/885 [==============================] - 3s 3ms/step - loss: 0.6486 - accuracy: 0.6392\n",
            "Epoch 54/100\n",
            "885/885 [==============================] - 3s 4ms/step - loss: 0.6473 - accuracy: 0.6391\n",
            "Epoch 55/100\n",
            "885/885 [==============================] - 3s 4ms/step - loss: 0.6406 - accuracy: 0.6485\n",
            "Epoch 56/100\n",
            "885/885 [==============================] - 3s 4ms/step - loss: 0.6505 - accuracy: 0.6365\n",
            "Epoch 57/100\n",
            "885/885 [==============================] - 3s 4ms/step - loss: 0.6528 - accuracy: 0.6314\n",
            "Epoch 58/100\n",
            "885/885 [==============================] - 3s 4ms/step - loss: 0.6477 - accuracy: 0.6395\n",
            "Epoch 59/100\n",
            "885/885 [==============================] - 3s 3ms/step - loss: 0.6466 - accuracy: 0.6395\n",
            "Epoch 60/100\n",
            "885/885 [==============================] - 3s 4ms/step - loss: 0.6497 - accuracy: 0.6341\n",
            "Epoch 61/100\n",
            "885/885 [==============================] - 3s 4ms/step - loss: 0.6502 - accuracy: 0.6359\n",
            "Epoch 62/100\n",
            "885/885 [==============================] - 3s 4ms/step - loss: 0.6400 - accuracy: 0.6504\n",
            "Epoch 63/100\n",
            "885/885 [==============================] - 3s 4ms/step - loss: 0.6461 - accuracy: 0.6372\n",
            "Epoch 64/100\n",
            "885/885 [==============================] - 3s 4ms/step - loss: 0.6480 - accuracy: 0.6395\n",
            "Epoch 65/100\n",
            "885/885 [==============================] - 3s 3ms/step - loss: 0.6521 - accuracy: 0.6273\n",
            "Epoch 66/100\n",
            "885/885 [==============================] - 3s 4ms/step - loss: 0.6474 - accuracy: 0.6372\n",
            "Epoch 67/100\n",
            "885/885 [==============================] - 3s 4ms/step - loss: 0.6503 - accuracy: 0.6339\n",
            "Epoch 68/100\n",
            "885/885 [==============================] - 3s 4ms/step - loss: 0.6521 - accuracy: 0.6327\n",
            "Epoch 69/100\n",
            "885/885 [==============================] - 3s 4ms/step - loss: 0.6452 - accuracy: 0.6429\n",
            "Epoch 70/100\n",
            "885/885 [==============================] - 3s 3ms/step - loss: 0.6482 - accuracy: 0.6316\n",
            "Epoch 71/100\n",
            "885/885 [==============================] - 3s 4ms/step - loss: 0.6475 - accuracy: 0.6356\n",
            "Epoch 72/100\n",
            "885/885 [==============================] - 3s 4ms/step - loss: 0.6481 - accuracy: 0.6369\n",
            "Epoch 73/100\n",
            "885/885 [==============================] - 3s 3ms/step - loss: 0.6459 - accuracy: 0.6458\n",
            "Epoch 74/100\n",
            "885/885 [==============================] - 3s 4ms/step - loss: 0.6452 - accuracy: 0.6437\n",
            "Epoch 75/100\n",
            "885/885 [==============================] - 3s 4ms/step - loss: 0.6433 - accuracy: 0.6443\n",
            "Epoch 76/100\n",
            "885/885 [==============================] - 3s 4ms/step - loss: 0.6469 - accuracy: 0.6416\n",
            "Epoch 77/100\n",
            "885/885 [==============================] - 3s 4ms/step - loss: 0.6422 - accuracy: 0.6463\n",
            "Epoch 78/100\n",
            "885/885 [==============================] - 3s 4ms/step - loss: 0.6461 - accuracy: 0.6395\n",
            "Epoch 79/100\n",
            "885/885 [==============================] - 3s 4ms/step - loss: 0.6475 - accuracy: 0.6360\n",
            "Epoch 80/100\n",
            "885/885 [==============================] - 3s 4ms/step - loss: 0.6474 - accuracy: 0.6345\n",
            "Epoch 81/100\n",
            "885/885 [==============================] - 3s 3ms/step - loss: 0.6480 - accuracy: 0.6395\n",
            "Epoch 82/100\n",
            "885/885 [==============================] - 3s 4ms/step - loss: 0.6395 - accuracy: 0.6524\n",
            "Epoch 83/100\n",
            "885/885 [==============================] - 3s 4ms/step - loss: 0.6432 - accuracy: 0.6433\n",
            "Epoch 84/100\n",
            "885/885 [==============================] - 3s 4ms/step - loss: 0.6429 - accuracy: 0.6440\n",
            "Epoch 85/100\n",
            "885/885 [==============================] - 3s 4ms/step - loss: 0.6487 - accuracy: 0.6428\n",
            "Epoch 86/100\n",
            "885/885 [==============================] - 3s 4ms/step - loss: 0.6418 - accuracy: 0.6460\n",
            "Epoch 87/100\n",
            "885/885 [==============================] - 3s 4ms/step - loss: 0.6483 - accuracy: 0.6386\n",
            "Epoch 88/100\n",
            "885/885 [==============================] - 3s 4ms/step - loss: 0.6477 - accuracy: 0.6409\n",
            "Epoch 89/100\n",
            "885/885 [==============================] - 3s 4ms/step - loss: 0.6435 - accuracy: 0.6413\n",
            "Epoch 90/100\n",
            "885/885 [==============================] - 3s 4ms/step - loss: 0.6493 - accuracy: 0.6334\n",
            "Epoch 91/100\n",
            "885/885 [==============================] - 3s 3ms/step - loss: 0.6490 - accuracy: 0.6352\n",
            "Epoch 92/100\n",
            "885/885 [==============================] - 3s 4ms/step - loss: 0.6502 - accuracy: 0.6359\n",
            "Epoch 93/100\n",
            "885/885 [==============================] - 3s 4ms/step - loss: 0.6413 - accuracy: 0.6457\n",
            "Epoch 94/100\n",
            "885/885 [==============================] - 3s 4ms/step - loss: 0.6472 - accuracy: 0.6349\n",
            "Epoch 95/100\n",
            "885/885 [==============================] - 3s 4ms/step - loss: 0.6479 - accuracy: 0.6375\n",
            "Epoch 96/100\n",
            "885/885 [==============================] - 3s 4ms/step - loss: 0.6487 - accuracy: 0.6388\n",
            "Epoch 97/100\n",
            "885/885 [==============================] - 3s 4ms/step - loss: 0.6483 - accuracy: 0.6384\n",
            "Epoch 98/100\n",
            "885/885 [==============================] - 3s 4ms/step - loss: 0.6424 - accuracy: 0.6480\n",
            "Epoch 99/100\n",
            "885/885 [==============================] - 3s 4ms/step - loss: 0.6458 - accuracy: 0.6384\n",
            "Epoch 100/100\n",
            "885/885 [==============================] - 3s 4ms/step - loss: 0.6449 - accuracy: 0.6429\n",
            "99/99 [==============================] - 0s 3ms/step - loss: 0.6573 - accuracy: 0.6226\n",
            "Epoch 1/100\n",
            "885/885 [==============================] - 4s 4ms/step - loss: 0.6818 - accuracy: 0.5821\n",
            "Epoch 2/100\n",
            "885/885 [==============================] - 3s 4ms/step - loss: 0.6616 - accuracy: 0.5889\n",
            "Epoch 3/100\n",
            "885/885 [==============================] - 3s 4ms/step - loss: 0.6610 - accuracy: 0.6180\n",
            "Epoch 4/100\n",
            "885/885 [==============================] - 3s 4ms/step - loss: 0.6567 - accuracy: 0.6322\n",
            "Epoch 5/100\n",
            "885/885 [==============================] - 3s 4ms/step - loss: 0.6543 - accuracy: 0.6354\n",
            "Epoch 6/100\n",
            "885/885 [==============================] - 3s 4ms/step - loss: 0.6535 - accuracy: 0.6330\n",
            "Epoch 7/100\n",
            "885/885 [==============================] - 3s 4ms/step - loss: 0.6564 - accuracy: 0.6238\n",
            "Epoch 8/100\n",
            "885/885 [==============================] - 3s 4ms/step - loss: 0.6500 - accuracy: 0.6369\n",
            "Epoch 9/100\n",
            "885/885 [==============================] - 3s 3ms/step - loss: 0.6523 - accuracy: 0.6226\n",
            "Epoch 10/100\n",
            "885/885 [==============================] - 3s 4ms/step - loss: 0.6482 - accuracy: 0.6364\n",
            "Epoch 11/100\n",
            "885/885 [==============================] - 3s 4ms/step - loss: 0.6481 - accuracy: 0.6330\n",
            "Epoch 12/100\n",
            "885/885 [==============================] - 3s 4ms/step - loss: 0.6522 - accuracy: 0.6299\n",
            "Epoch 13/100\n",
            "885/885 [==============================] - 3s 4ms/step - loss: 0.6483 - accuracy: 0.6314\n",
            "Epoch 14/100\n",
            "885/885 [==============================] - 3s 4ms/step - loss: 0.6487 - accuracy: 0.6340\n",
            "Epoch 15/100\n",
            "885/885 [==============================] - 3s 4ms/step - loss: 0.6428 - accuracy: 0.6414\n",
            "Epoch 16/100\n",
            "885/885 [==============================] - 3s 4ms/step - loss: 0.6481 - accuracy: 0.6410\n",
            "Epoch 17/100\n",
            "885/885 [==============================] - 3s 4ms/step - loss: 0.6476 - accuracy: 0.6265\n",
            "Epoch 18/100\n",
            "885/885 [==============================] - 3s 4ms/step - loss: 0.6473 - accuracy: 0.6396\n",
            "Epoch 19/100\n",
            "885/885 [==============================] - 3s 4ms/step - loss: 0.6488 - accuracy: 0.6309\n",
            "Epoch 20/100\n",
            "885/885 [==============================] - 3s 4ms/step - loss: 0.6504 - accuracy: 0.6299\n",
            "Epoch 21/100\n",
            "885/885 [==============================] - 3s 4ms/step - loss: 0.6445 - accuracy: 0.6408\n",
            "Epoch 22/100\n",
            "885/885 [==============================] - 3s 4ms/step - loss: 0.6487 - accuracy: 0.6324\n",
            "Epoch 23/100\n",
            "885/885 [==============================] - 3s 4ms/step - loss: 0.6482 - accuracy: 0.6345\n",
            "Epoch 24/100\n",
            "885/885 [==============================] - 3s 3ms/step - loss: 0.6510 - accuracy: 0.6304\n",
            "Epoch 25/100\n",
            "885/885 [==============================] - 3s 4ms/step - loss: 0.6548 - accuracy: 0.6224\n",
            "Epoch 26/100\n",
            "885/885 [==============================] - 3s 4ms/step - loss: 0.6432 - accuracy: 0.6396\n",
            "Epoch 27/100\n",
            "885/885 [==============================] - 3s 4ms/step - loss: 0.6430 - accuracy: 0.6405\n",
            "Epoch 28/100\n",
            "885/885 [==============================] - 3s 3ms/step - loss: 0.6514 - accuracy: 0.6244\n",
            "Epoch 29/100\n",
            "885/885 [==============================] - 3s 4ms/step - loss: 0.6464 - accuracy: 0.6382\n",
            "Epoch 30/100\n",
            "885/885 [==============================] - 3s 4ms/step - loss: 0.6476 - accuracy: 0.6333\n",
            "Epoch 31/100\n",
            "885/885 [==============================] - 3s 4ms/step - loss: 0.6436 - accuracy: 0.6388\n",
            "Epoch 32/100\n",
            "885/885 [==============================] - 3s 4ms/step - loss: 0.6482 - accuracy: 0.6304\n",
            "Epoch 33/100\n",
            "885/885 [==============================] - 3s 4ms/step - loss: 0.6463 - accuracy: 0.6337\n",
            "Epoch 34/100\n",
            "885/885 [==============================] - 3s 4ms/step - loss: 0.6544 - accuracy: 0.6189\n",
            "Epoch 35/100\n",
            "885/885 [==============================] - 3s 4ms/step - loss: 0.6522 - accuracy: 0.6297\n",
            "Epoch 36/100\n",
            "885/885 [==============================] - 3s 4ms/step - loss: 0.6469 - accuracy: 0.6349\n",
            "Epoch 37/100\n",
            "885/885 [==============================] - 3s 4ms/step - loss: 0.6441 - accuracy: 0.6395\n",
            "Epoch 38/100\n",
            "885/885 [==============================] - 3s 4ms/step - loss: 0.6503 - accuracy: 0.6297\n",
            "Epoch 39/100\n",
            "885/885 [==============================] - 3s 4ms/step - loss: 0.6430 - accuracy: 0.6392\n",
            "Epoch 40/100\n",
            "885/885 [==============================] - 3s 4ms/step - loss: 0.6446 - accuracy: 0.6346\n",
            "Epoch 41/100\n",
            "885/885 [==============================] - 3s 4ms/step - loss: 0.6482 - accuracy: 0.6309\n",
            "Epoch 42/100\n",
            "885/885 [==============================] - 3s 4ms/step - loss: 0.6483 - accuracy: 0.6269\n",
            "Epoch 43/100\n",
            "885/885 [==============================] - 3s 4ms/step - loss: 0.6451 - accuracy: 0.6350\n",
            "Epoch 44/100\n",
            "885/885 [==============================] - 3s 4ms/step - loss: 0.6437 - accuracy: 0.6399\n",
            "Epoch 45/100\n",
            "885/885 [==============================] - 3s 4ms/step - loss: 0.6469 - accuracy: 0.6323\n",
            "Epoch 46/100\n",
            "885/885 [==============================] - 3s 4ms/step - loss: 0.6392 - accuracy: 0.6397\n",
            "Epoch 47/100\n",
            "885/885 [==============================] - 3s 4ms/step - loss: 0.6362 - accuracy: 0.6473\n",
            "Epoch 48/100\n",
            "885/885 [==============================] - 3s 4ms/step - loss: 0.6475 - accuracy: 0.6367\n",
            "Epoch 49/100\n",
            "885/885 [==============================] - 3s 4ms/step - loss: 0.6481 - accuracy: 0.6335\n",
            "Epoch 50/100\n",
            "885/885 [==============================] - 3s 4ms/step - loss: 0.6415 - accuracy: 0.6370\n",
            "Epoch 51/100\n",
            "885/885 [==============================] - 3s 4ms/step - loss: 0.6449 - accuracy: 0.6378\n",
            "Epoch 52/100\n",
            "885/885 [==============================] - 3s 4ms/step - loss: 0.6421 - accuracy: 0.6396\n",
            "Epoch 53/100\n",
            "885/885 [==============================] - 3s 4ms/step - loss: 0.6429 - accuracy: 0.6412\n",
            "Epoch 54/100\n",
            "885/885 [==============================] - 3s 4ms/step - loss: 0.6472 - accuracy: 0.6350\n",
            "Epoch 55/100\n",
            "885/885 [==============================] - 3s 4ms/step - loss: 0.6394 - accuracy: 0.6443\n",
            "Epoch 56/100\n",
            "885/885 [==============================] - 3s 4ms/step - loss: 0.6397 - accuracy: 0.6414\n",
            "Epoch 57/100\n",
            "885/885 [==============================] - 3s 4ms/step - loss: 0.6490 - accuracy: 0.6319\n",
            "Epoch 58/100\n",
            "885/885 [==============================] - 3s 4ms/step - loss: 0.6450 - accuracy: 0.6423\n",
            "Epoch 59/100\n",
            "885/885 [==============================] - 3s 4ms/step - loss: 0.6458 - accuracy: 0.6377\n",
            "Epoch 60/100\n",
            "885/885 [==============================] - 3s 4ms/step - loss: 0.6445 - accuracy: 0.6444\n",
            "Epoch 61/100\n",
            "885/885 [==============================] - 3s 4ms/step - loss: 0.6415 - accuracy: 0.6380\n",
            "Epoch 62/100\n",
            "885/885 [==============================] - 3s 4ms/step - loss: 0.6424 - accuracy: 0.6397\n",
            "Epoch 63/100\n",
            "885/885 [==============================] - 3s 4ms/step - loss: 0.6518 - accuracy: 0.6195\n",
            "Epoch 64/100\n",
            "885/885 [==============================] - 3s 4ms/step - loss: 0.6403 - accuracy: 0.6473\n",
            "Epoch 65/100\n",
            "885/885 [==============================] - 3s 4ms/step - loss: 0.6495 - accuracy: 0.6300\n",
            "Epoch 66/100\n",
            "885/885 [==============================] - 3s 4ms/step - loss: 0.6439 - accuracy: 0.6383\n",
            "Epoch 67/100\n",
            "885/885 [==============================] - 3s 4ms/step - loss: 0.6451 - accuracy: 0.6333\n",
            "Epoch 68/100\n",
            "885/885 [==============================] - 3s 4ms/step - loss: 0.6420 - accuracy: 0.6427\n",
            "Epoch 69/100\n",
            "885/885 [==============================] - 3s 4ms/step - loss: 0.6441 - accuracy: 0.6401\n",
            "Epoch 70/100\n",
            "885/885 [==============================] - 3s 4ms/step - loss: 0.6387 - accuracy: 0.6456\n",
            "Epoch 71/100\n",
            "885/885 [==============================] - 3s 4ms/step - loss: 0.6408 - accuracy: 0.6484\n",
            "Epoch 72/100\n",
            "885/885 [==============================] - 3s 4ms/step - loss: 0.6434 - accuracy: 0.6421\n",
            "Epoch 73/100\n",
            "885/885 [==============================] - 3s 4ms/step - loss: 0.6424 - accuracy: 0.6357\n",
            "Epoch 74/100\n",
            "885/885 [==============================] - 3s 4ms/step - loss: 0.6441 - accuracy: 0.6376\n",
            "Epoch 75/100\n",
            "885/885 [==============================] - 3s 4ms/step - loss: 0.6404 - accuracy: 0.6454\n",
            "Epoch 76/100\n",
            "885/885 [==============================] - 3s 4ms/step - loss: 0.6448 - accuracy: 0.6392\n",
            "Epoch 77/100\n",
            "885/885 [==============================] - 3s 4ms/step - loss: 0.6471 - accuracy: 0.6377\n",
            "Epoch 78/100\n",
            "885/885 [==============================] - 3s 4ms/step - loss: 0.6462 - accuracy: 0.6335\n",
            "Epoch 79/100\n",
            "885/885 [==============================] - 3s 4ms/step - loss: 0.6473 - accuracy: 0.6349\n",
            "Epoch 80/100\n",
            "885/885 [==============================] - 3s 4ms/step - loss: 0.6382 - accuracy: 0.6433\n",
            "Epoch 81/100\n",
            "885/885 [==============================] - 3s 4ms/step - loss: 0.6387 - accuracy: 0.6435\n",
            "Epoch 82/100\n",
            "885/885 [==============================] - 3s 4ms/step - loss: 0.6406 - accuracy: 0.6439\n",
            "Epoch 83/100\n",
            "885/885 [==============================] - 3s 4ms/step - loss: 0.6391 - accuracy: 0.6399\n",
            "Epoch 84/100\n",
            "885/885 [==============================] - 3s 4ms/step - loss: 0.6428 - accuracy: 0.6361\n",
            "Epoch 85/100\n",
            "885/885 [==============================] - 3s 4ms/step - loss: 0.6451 - accuracy: 0.6350\n",
            "Epoch 86/100\n",
            "885/885 [==============================] - 3s 4ms/step - loss: 0.6457 - accuracy: 0.6322\n",
            "Epoch 87/100\n",
            "885/885 [==============================] - 3s 4ms/step - loss: 0.6392 - accuracy: 0.6426\n",
            "Epoch 88/100\n",
            "885/885 [==============================] - 3s 4ms/step - loss: 0.6394 - accuracy: 0.6407\n",
            "Epoch 89/100\n",
            "885/885 [==============================] - 3s 4ms/step - loss: 0.6479 - accuracy: 0.6298\n",
            "Epoch 90/100\n",
            "885/885 [==============================] - 3s 4ms/step - loss: 0.6384 - accuracy: 0.6452\n",
            "Epoch 91/100\n",
            "885/885 [==============================] - 3s 4ms/step - loss: 0.6425 - accuracy: 0.6362\n",
            "Epoch 92/100\n",
            "885/885 [==============================] - 3s 4ms/step - loss: 0.6418 - accuracy: 0.6449\n",
            "Epoch 93/100\n",
            "885/885 [==============================] - 3s 4ms/step - loss: 0.6444 - accuracy: 0.6431\n",
            "Epoch 94/100\n",
            "885/885 [==============================] - 4s 4ms/step - loss: 0.6436 - accuracy: 0.6392\n",
            "Epoch 95/100\n",
            "885/885 [==============================] - 3s 4ms/step - loss: 0.6414 - accuracy: 0.6381\n",
            "Epoch 96/100\n",
            "885/885 [==============================] - 3s 4ms/step - loss: 0.6408 - accuracy: 0.6423\n",
            "Epoch 97/100\n",
            "885/885 [==============================] - 3s 4ms/step - loss: 0.6379 - accuracy: 0.6473\n",
            "Epoch 98/100\n",
            "885/885 [==============================] - 3s 4ms/step - loss: 0.6396 - accuracy: 0.6437\n",
            "Epoch 99/100\n",
            "885/885 [==============================] - 3s 4ms/step - loss: 0.6440 - accuracy: 0.6316\n",
            "Epoch 100/100\n",
            "885/885 [==============================] - 3s 4ms/step - loss: 0.6352 - accuracy: 0.6502\n",
            "99/99 [==============================] - 0s 3ms/step - loss: 0.6552 - accuracy: 0.6185\n",
            "Epoch 1/100\n",
            "885/885 [==============================] - 4s 4ms/step - loss: 0.6805 - accuracy: 0.5794\n",
            "Epoch 2/100\n",
            "885/885 [==============================] - 3s 4ms/step - loss: 0.6637 - accuracy: 0.6101\n",
            "Epoch 3/100\n",
            "885/885 [==============================] - 3s 4ms/step - loss: 0.6589 - accuracy: 0.6153\n",
            "Epoch 4/100\n",
            "885/885 [==============================] - 3s 4ms/step - loss: 0.6597 - accuracy: 0.6290\n",
            "Epoch 5/100\n",
            "885/885 [==============================] - 3s 4ms/step - loss: 0.6548 - accuracy: 0.6348\n",
            "Epoch 6/100\n",
            "885/885 [==============================] - 3s 4ms/step - loss: 0.6584 - accuracy: 0.6207\n",
            "Epoch 7/100\n",
            "885/885 [==============================] - 3s 4ms/step - loss: 0.6549 - accuracy: 0.6252\n",
            "Epoch 8/100\n",
            "885/885 [==============================] - 3s 4ms/step - loss: 0.6510 - accuracy: 0.6396\n",
            "Epoch 9/100\n",
            "885/885 [==============================] - 3s 4ms/step - loss: 0.6513 - accuracy: 0.6337\n",
            "Epoch 10/100\n",
            "885/885 [==============================] - 3s 4ms/step - loss: 0.6546 - accuracy: 0.6281\n",
            "Epoch 11/100\n",
            "885/885 [==============================] - 3s 4ms/step - loss: 0.6506 - accuracy: 0.6325\n",
            "Epoch 12/100\n",
            "885/885 [==============================] - 3s 4ms/step - loss: 0.6484 - accuracy: 0.6357\n",
            "Epoch 13/100\n",
            "885/885 [==============================] - 3s 4ms/step - loss: 0.6515 - accuracy: 0.6302\n",
            "Epoch 14/100\n",
            "885/885 [==============================] - 3s 4ms/step - loss: 0.6489 - accuracy: 0.6331\n",
            "Epoch 15/100\n",
            "885/885 [==============================] - 3s 4ms/step - loss: 0.6491 - accuracy: 0.6353\n",
            "Epoch 16/100\n",
            "885/885 [==============================] - 3s 4ms/step - loss: 0.6518 - accuracy: 0.6279\n",
            "Epoch 17/100\n",
            "885/885 [==============================] - 3s 4ms/step - loss: 0.6505 - accuracy: 0.6304\n",
            "Epoch 18/100\n",
            "885/885 [==============================] - 3s 4ms/step - loss: 0.6458 - accuracy: 0.6414\n",
            "Epoch 19/100\n",
            "885/885 [==============================] - 3s 4ms/step - loss: 0.6490 - accuracy: 0.6357\n",
            "Epoch 20/100\n",
            "885/885 [==============================] - 3s 4ms/step - loss: 0.6481 - accuracy: 0.6334\n",
            "Epoch 21/100\n",
            "885/885 [==============================] - 3s 4ms/step - loss: 0.6537 - accuracy: 0.6311\n",
            "Epoch 22/100\n",
            "885/885 [==============================] - 3s 4ms/step - loss: 0.6520 - accuracy: 0.6308\n",
            "Epoch 23/100\n",
            "885/885 [==============================] - 3s 4ms/step - loss: 0.6494 - accuracy: 0.6335\n",
            "Epoch 24/100\n",
            "885/885 [==============================] - 3s 4ms/step - loss: 0.6388 - accuracy: 0.6508\n",
            "Epoch 25/100\n",
            "885/885 [==============================] - 3s 4ms/step - loss: 0.6419 - accuracy: 0.6442\n",
            "Epoch 26/100\n",
            "885/885 [==============================] - 3s 4ms/step - loss: 0.6417 - accuracy: 0.6396\n",
            "Epoch 27/100\n",
            "885/885 [==============================] - 3s 4ms/step - loss: 0.6484 - accuracy: 0.6339\n",
            "Epoch 28/100\n",
            "885/885 [==============================] - 3s 4ms/step - loss: 0.6454 - accuracy: 0.6417\n",
            "Epoch 29/100\n",
            "885/885 [==============================] - 3s 4ms/step - loss: 0.6473 - accuracy: 0.6349\n",
            "Epoch 30/100\n",
            "885/885 [==============================] - 3s 4ms/step - loss: 0.6544 - accuracy: 0.6269\n",
            "Epoch 31/100\n",
            "885/885 [==============================] - 3s 4ms/step - loss: 0.6499 - accuracy: 0.6313\n",
            "Epoch 32/100\n",
            "885/885 [==============================] - 3s 4ms/step - loss: 0.6448 - accuracy: 0.6366\n",
            "Epoch 33/100\n",
            "885/885 [==============================] - 3s 4ms/step - loss: 0.6446 - accuracy: 0.6413\n",
            "Epoch 34/100\n",
            "885/885 [==============================] - 3s 4ms/step - loss: 0.6501 - accuracy: 0.6269\n",
            "Epoch 35/100\n",
            "885/885 [==============================] - 3s 4ms/step - loss: 0.6470 - accuracy: 0.6357\n",
            "Epoch 36/100\n",
            "885/885 [==============================] - 3s 4ms/step - loss: 0.6447 - accuracy: 0.6369\n",
            "Epoch 37/100\n",
            "885/885 [==============================] - 3s 4ms/step - loss: 0.6463 - accuracy: 0.6333\n",
            "Epoch 38/100\n",
            "885/885 [==============================] - 3s 4ms/step - loss: 0.6498 - accuracy: 0.6278\n",
            "Epoch 39/100\n",
            "885/885 [==============================] - 3s 4ms/step - loss: 0.6480 - accuracy: 0.6356\n",
            "Epoch 40/100\n",
            "885/885 [==============================] - 3s 4ms/step - loss: 0.6440 - accuracy: 0.6359\n",
            "Epoch 41/100\n",
            "885/885 [==============================] - 3s 4ms/step - loss: 0.6461 - accuracy: 0.6379\n",
            "Epoch 42/100\n",
            "885/885 [==============================] - 3s 4ms/step - loss: 0.6473 - accuracy: 0.6322\n",
            "Epoch 43/100\n",
            "885/885 [==============================] - 3s 4ms/step - loss: 0.6487 - accuracy: 0.6323\n",
            "Epoch 44/100\n",
            "885/885 [==============================] - 3s 4ms/step - loss: 0.6426 - accuracy: 0.6416\n",
            "Epoch 45/100\n",
            "885/885 [==============================] - 3s 4ms/step - loss: 0.6408 - accuracy: 0.6464\n",
            "Epoch 46/100\n",
            "885/885 [==============================] - 3s 4ms/step - loss: 0.6467 - accuracy: 0.6382\n",
            "Epoch 47/100\n",
            "885/885 [==============================] - 3s 4ms/step - loss: 0.6460 - accuracy: 0.6348\n",
            "Epoch 48/100\n",
            "885/885 [==============================] - 3s 4ms/step - loss: 0.6456 - accuracy: 0.6357\n",
            "Epoch 49/100\n",
            "885/885 [==============================] - 3s 4ms/step - loss: 0.6452 - accuracy: 0.6399\n",
            "Epoch 50/100\n",
            "885/885 [==============================] - 3s 4ms/step - loss: 0.6487 - accuracy: 0.6332\n",
            "Epoch 51/100\n",
            "885/885 [==============================] - 3s 4ms/step - loss: 0.6437 - accuracy: 0.6393\n",
            "Epoch 52/100\n",
            "885/885 [==============================] - 3s 4ms/step - loss: 0.6407 - accuracy: 0.6446\n",
            "Epoch 53/100\n",
            "885/885 [==============================] - 3s 4ms/step - loss: 0.6438 - accuracy: 0.6391\n",
            "Epoch 54/100\n",
            "885/885 [==============================] - 3s 4ms/step - loss: 0.6502 - accuracy: 0.6309\n",
            "Epoch 55/100\n",
            "885/885 [==============================] - 3s 4ms/step - loss: 0.6502 - accuracy: 0.6239\n",
            "Epoch 56/100\n",
            "885/885 [==============================] - 3s 4ms/step - loss: 0.6463 - accuracy: 0.6336\n",
            "Epoch 57/100\n",
            "885/885 [==============================] - 3s 4ms/step - loss: 0.6486 - accuracy: 0.6308\n",
            "Epoch 58/100\n",
            "885/885 [==============================] - 3s 4ms/step - loss: 0.6435 - accuracy: 0.6381\n",
            "Epoch 59/100\n",
            "885/885 [==============================] - 3s 4ms/step - loss: 0.6388 - accuracy: 0.6401\n",
            "Epoch 60/100\n",
            "885/885 [==============================] - 3s 4ms/step - loss: 0.6473 - accuracy: 0.6333\n",
            "Epoch 61/100\n",
            "885/885 [==============================] - 3s 4ms/step - loss: 0.6471 - accuracy: 0.6312\n",
            "Epoch 62/100\n",
            "885/885 [==============================] - 3s 4ms/step - loss: 0.6371 - accuracy: 0.6542\n",
            "Epoch 63/100\n",
            "885/885 [==============================] - 3s 4ms/step - loss: 0.6417 - accuracy: 0.6403\n",
            "Epoch 64/100\n",
            "885/885 [==============================] - 3s 4ms/step - loss: 0.6499 - accuracy: 0.6308\n",
            "Epoch 65/100\n",
            "885/885 [==============================] - 3s 4ms/step - loss: 0.6418 - accuracy: 0.6369\n",
            "Epoch 66/100\n",
            "885/885 [==============================] - 3s 4ms/step - loss: 0.6486 - accuracy: 0.6302\n",
            "Epoch 67/100\n",
            "885/885 [==============================] - 3s 4ms/step - loss: 0.6422 - accuracy: 0.6432\n",
            "Epoch 68/100\n",
            "885/885 [==============================] - 3s 4ms/step - loss: 0.6495 - accuracy: 0.6322\n",
            "Epoch 69/100\n",
            "885/885 [==============================] - 3s 4ms/step - loss: 0.6416 - accuracy: 0.6455\n",
            "Epoch 70/100\n",
            "885/885 [==============================] - 3s 4ms/step - loss: 0.6432 - accuracy: 0.6392\n",
            "Epoch 71/100\n",
            "885/885 [==============================] - 3s 4ms/step - loss: 0.6486 - accuracy: 0.6347\n",
            "Epoch 72/100\n",
            "885/885 [==============================] - 3s 4ms/step - loss: 0.6488 - accuracy: 0.6277\n",
            "Epoch 73/100\n",
            "885/885 [==============================] - 3s 4ms/step - loss: 0.6448 - accuracy: 0.6318\n",
            "Epoch 74/100\n",
            "885/885 [==============================] - 3s 4ms/step - loss: 0.6406 - accuracy: 0.6391\n",
            "Epoch 75/100\n",
            "885/885 [==============================] - 3s 4ms/step - loss: 0.6438 - accuracy: 0.6368\n",
            "Epoch 76/100\n",
            "885/885 [==============================] - 3s 4ms/step - loss: 0.6431 - accuracy: 0.6362\n",
            "Epoch 77/100\n",
            "885/885 [==============================] - 3s 4ms/step - loss: 0.6464 - accuracy: 0.6339\n",
            "Epoch 78/100\n",
            "885/885 [==============================] - 3s 4ms/step - loss: 0.6453 - accuracy: 0.6349\n",
            "Epoch 79/100\n",
            "885/885 [==============================] - 3s 4ms/step - loss: 0.6432 - accuracy: 0.6391\n",
            "Epoch 80/100\n",
            "885/885 [==============================] - 3s 4ms/step - loss: 0.6462 - accuracy: 0.6339\n",
            "Epoch 81/100\n",
            "885/885 [==============================] - 3s 4ms/step - loss: 0.6489 - accuracy: 0.6307\n",
            "Epoch 82/100\n",
            "885/885 [==============================] - 3s 4ms/step - loss: 0.6494 - accuracy: 0.6324\n",
            "Epoch 83/100\n",
            "885/885 [==============================] - 3s 4ms/step - loss: 0.6492 - accuracy: 0.6257\n",
            "Epoch 84/100\n",
            "885/885 [==============================] - 3s 4ms/step - loss: 0.6452 - accuracy: 0.6362\n",
            "Epoch 85/100\n",
            "885/885 [==============================] - 3s 4ms/step - loss: 0.6459 - accuracy: 0.6332\n",
            "Epoch 86/100\n",
            "885/885 [==============================] - 3s 4ms/step - loss: 0.6438 - accuracy: 0.6377\n",
            "Epoch 87/100\n",
            "885/885 [==============================] - 4s 4ms/step - loss: 0.6432 - accuracy: 0.6386\n",
            "Epoch 88/100\n",
            "885/885 [==============================] - 4s 4ms/step - loss: 0.6421 - accuracy: 0.6405\n",
            "Epoch 89/100\n",
            "885/885 [==============================] - 3s 4ms/step - loss: 0.6413 - accuracy: 0.6404\n",
            "Epoch 90/100\n",
            "885/885 [==============================] - 3s 4ms/step - loss: 0.6483 - accuracy: 0.6307\n",
            "Epoch 91/100\n",
            "885/885 [==============================] - 3s 4ms/step - loss: 0.6462 - accuracy: 0.6375\n",
            "Epoch 92/100\n",
            "885/885 [==============================] - 3s 4ms/step - loss: 0.6430 - accuracy: 0.6440\n",
            "Epoch 93/100\n",
            "885/885 [==============================] - 3s 4ms/step - loss: 0.6408 - accuracy: 0.6384\n",
            "Epoch 94/100\n",
            "885/885 [==============================] - 3s 4ms/step - loss: 0.6440 - accuracy: 0.6344\n",
            "Epoch 95/100\n",
            "885/885 [==============================] - 3s 4ms/step - loss: 0.6413 - accuracy: 0.6421\n",
            "Epoch 96/100\n",
            "885/885 [==============================] - 3s 4ms/step - loss: 0.6468 - accuracy: 0.6289\n",
            "Epoch 97/100\n",
            "885/885 [==============================] - 3s 4ms/step - loss: 0.6459 - accuracy: 0.6364\n",
            "Epoch 98/100\n",
            "885/885 [==============================] - 3s 4ms/step - loss: 0.6449 - accuracy: 0.6371\n",
            "Epoch 99/100\n",
            "885/885 [==============================] - 3s 4ms/step - loss: 0.6478 - accuracy: 0.6365\n",
            "Epoch 100/100\n",
            "885/885 [==============================] - 3s 4ms/step - loss: 0.6425 - accuracy: 0.6402\n",
            "99/99 [==============================] - 0s 3ms/step - loss: 0.6697 - accuracy: 0.6104\n",
            "Epoch 1/100\n",
            "885/885 [==============================] - 4s 4ms/step - loss: 0.6840 - accuracy: 0.5694\n",
            "Epoch 2/100\n",
            "885/885 [==============================] - 3s 4ms/step - loss: 0.6601 - accuracy: 0.5860\n",
            "Epoch 3/100\n",
            "885/885 [==============================] - 3s 4ms/step - loss: 0.6589 - accuracy: 0.6225\n",
            "Epoch 4/100\n",
            "885/885 [==============================] - 3s 4ms/step - loss: 0.6571 - accuracy: 0.6250\n",
            "Epoch 5/100\n",
            "885/885 [==============================] - 3s 4ms/step - loss: 0.6563 - accuracy: 0.6274\n",
            "Epoch 6/100\n",
            "885/885 [==============================] - 3s 4ms/step - loss: 0.6581 - accuracy: 0.6251\n",
            "Epoch 7/100\n",
            "885/885 [==============================] - 3s 4ms/step - loss: 0.6582 - accuracy: 0.6295\n",
            "Epoch 8/100\n",
            "885/885 [==============================] - 3s 4ms/step - loss: 0.6590 - accuracy: 0.6210\n",
            "Epoch 9/100\n",
            "885/885 [==============================] - 3s 4ms/step - loss: 0.6586 - accuracy: 0.6213\n",
            "Epoch 10/100\n",
            "885/885 [==============================] - 3s 4ms/step - loss: 0.6564 - accuracy: 0.6317\n",
            "Epoch 11/100\n",
            "885/885 [==============================] - 3s 4ms/step - loss: 0.6542 - accuracy: 0.6277\n",
            "Epoch 12/100\n",
            "885/885 [==============================] - 3s 4ms/step - loss: 0.6592 - accuracy: 0.6247\n",
            "Epoch 13/100\n",
            "885/885 [==============================] - 3s 4ms/step - loss: 0.6520 - accuracy: 0.6300\n",
            "Epoch 14/100\n",
            "885/885 [==============================] - 3s 4ms/step - loss: 0.6553 - accuracy: 0.6241\n",
            "Epoch 15/100\n",
            "885/885 [==============================] - 3s 4ms/step - loss: 0.6528 - accuracy: 0.6305\n",
            "Epoch 16/100\n",
            "885/885 [==============================] - 3s 4ms/step - loss: 0.6502 - accuracy: 0.6307\n",
            "Epoch 17/100\n",
            "885/885 [==============================] - 3s 4ms/step - loss: 0.6536 - accuracy: 0.6271\n",
            "Epoch 18/100\n",
            "885/885 [==============================] - 3s 4ms/step - loss: 0.6509 - accuracy: 0.6316\n",
            "Epoch 19/100\n",
            "885/885 [==============================] - 4s 4ms/step - loss: 0.6488 - accuracy: 0.6321\n",
            "Epoch 20/100\n",
            "885/885 [==============================] - 3s 4ms/step - loss: 0.6556 - accuracy: 0.6258\n",
            "Epoch 21/100\n",
            "885/885 [==============================] - 3s 4ms/step - loss: 0.6480 - accuracy: 0.6338\n",
            "Epoch 22/100\n",
            "885/885 [==============================] - 3s 4ms/step - loss: 0.6484 - accuracy: 0.6322\n",
            "Epoch 23/100\n",
            "885/885 [==============================] - 3s 4ms/step - loss: 0.6558 - accuracy: 0.6223\n",
            "Epoch 24/100\n",
            "885/885 [==============================] - 3s 4ms/step - loss: 0.6469 - accuracy: 0.6369\n",
            "Epoch 25/100\n",
            "885/885 [==============================] - 3s 4ms/step - loss: 0.6466 - accuracy: 0.6349\n",
            "Epoch 26/100\n",
            "885/885 [==============================] - 3s 4ms/step - loss: 0.6507 - accuracy: 0.6337\n",
            "Epoch 27/100\n",
            "885/885 [==============================] - 3s 4ms/step - loss: 0.6484 - accuracy: 0.6319\n",
            "Epoch 28/100\n",
            "885/885 [==============================] - 3s 4ms/step - loss: 0.6488 - accuracy: 0.6345\n",
            "Epoch 29/100\n",
            "885/885 [==============================] - 3s 4ms/step - loss: 0.6513 - accuracy: 0.6240\n",
            "Epoch 30/100\n",
            "885/885 [==============================] - 3s 4ms/step - loss: 0.6484 - accuracy: 0.6296\n",
            "Epoch 31/100\n",
            "885/885 [==============================] - 3s 4ms/step - loss: 0.6476 - accuracy: 0.6330\n",
            "Epoch 32/100\n",
            "885/885 [==============================] - 3s 4ms/step - loss: 0.6462 - accuracy: 0.6325\n",
            "Epoch 33/100\n",
            "885/885 [==============================] - 3s 4ms/step - loss: 0.6513 - accuracy: 0.6224\n",
            "Epoch 34/100\n",
            "885/885 [==============================] - 3s 4ms/step - loss: 0.6445 - accuracy: 0.6380\n",
            "Epoch 35/100\n",
            "885/885 [==============================] - 3s 4ms/step - loss: 0.6433 - accuracy: 0.6435\n",
            "Epoch 36/100\n",
            "885/885 [==============================] - 3s 4ms/step - loss: 0.6434 - accuracy: 0.6375\n",
            "Epoch 37/100\n",
            "885/885 [==============================] - 3s 4ms/step - loss: 0.6462 - accuracy: 0.6411\n",
            "Epoch 38/100\n",
            "885/885 [==============================] - 3s 4ms/step - loss: 0.6433 - accuracy: 0.6394\n",
            "Epoch 39/100\n",
            "885/885 [==============================] - 3s 4ms/step - loss: 0.6479 - accuracy: 0.6325\n",
            "Epoch 40/100\n",
            "885/885 [==============================] - 3s 4ms/step - loss: 0.6490 - accuracy: 0.6320\n",
            "Epoch 41/100\n",
            "885/885 [==============================] - 3s 4ms/step - loss: 0.6448 - accuracy: 0.6342\n",
            "Epoch 42/100\n",
            "885/885 [==============================] - 3s 4ms/step - loss: 0.6493 - accuracy: 0.6293\n",
            "Epoch 43/100\n",
            "885/885 [==============================] - 3s 4ms/step - loss: 0.6514 - accuracy: 0.6265\n",
            "Epoch 44/100\n",
            "885/885 [==============================] - 3s 4ms/step - loss: 0.6469 - accuracy: 0.6354\n",
            "Epoch 45/100\n",
            "885/885 [==============================] - 3s 4ms/step - loss: 0.6451 - accuracy: 0.6357\n",
            "Epoch 46/100\n",
            "885/885 [==============================] - 3s 4ms/step - loss: 0.6467 - accuracy: 0.6312\n",
            "Epoch 47/100\n",
            "885/885 [==============================] - 3s 4ms/step - loss: 0.6495 - accuracy: 0.6292\n",
            "Epoch 48/100\n",
            "885/885 [==============================] - 3s 4ms/step - loss: 0.6462 - accuracy: 0.6318\n",
            "Epoch 49/100\n",
            "885/885 [==============================] - 3s 4ms/step - loss: 0.6452 - accuracy: 0.6369\n",
            "Epoch 50/100\n",
            "885/885 [==============================] - 3s 4ms/step - loss: 0.6458 - accuracy: 0.6346\n",
            "Epoch 51/100\n",
            "885/885 [==============================] - 3s 4ms/step - loss: 0.6489 - accuracy: 0.6306\n",
            "Epoch 52/100\n",
            "885/885 [==============================] - 3s 4ms/step - loss: 0.6499 - accuracy: 0.6349\n",
            "Epoch 53/100\n",
            "885/885 [==============================] - 3s 4ms/step - loss: 0.6455 - accuracy: 0.6349\n",
            "Epoch 54/100\n",
            "885/885 [==============================] - 3s 4ms/step - loss: 0.6395 - accuracy: 0.6418\n",
            "Epoch 55/100\n",
            "885/885 [==============================] - 3s 4ms/step - loss: 0.6469 - accuracy: 0.6367\n",
            "Epoch 56/100\n",
            "885/885 [==============================] - 3s 4ms/step - loss: 0.6458 - accuracy: 0.6332\n",
            "Epoch 57/100\n",
            "885/885 [==============================] - 3s 4ms/step - loss: 0.6487 - accuracy: 0.6292\n",
            "Epoch 58/100\n",
            "885/885 [==============================] - 3s 4ms/step - loss: 0.6451 - accuracy: 0.6392\n",
            "Epoch 59/100\n",
            "885/885 [==============================] - 3s 4ms/step - loss: 0.6452 - accuracy: 0.6337\n",
            "Epoch 60/100\n",
            "885/885 [==============================] - 3s 4ms/step - loss: 0.6526 - accuracy: 0.6271\n",
            "Epoch 61/100\n",
            "885/885 [==============================] - 3s 4ms/step - loss: 0.6447 - accuracy: 0.6401\n",
            "Epoch 62/100\n",
            "885/885 [==============================] - 3s 4ms/step - loss: 0.6471 - accuracy: 0.6284\n",
            "Epoch 63/100\n",
            "885/885 [==============================] - 3s 4ms/step - loss: 0.6502 - accuracy: 0.6229\n",
            "Epoch 64/100\n",
            "885/885 [==============================] - 3s 4ms/step - loss: 0.6443 - accuracy: 0.6346\n",
            "Epoch 65/100\n",
            "885/885 [==============================] - 3s 4ms/step - loss: 0.6422 - accuracy: 0.6384\n",
            "Epoch 66/100\n",
            "885/885 [==============================] - 4s 4ms/step - loss: 0.6384 - accuracy: 0.6400\n",
            "Epoch 67/100\n",
            "885/885 [==============================] - 3s 4ms/step - loss: 0.6463 - accuracy: 0.6315\n",
            "Epoch 68/100\n",
            "885/885 [==============================] - 3s 4ms/step - loss: 0.6472 - accuracy: 0.6309\n",
            "Epoch 69/100\n",
            "885/885 [==============================] - 3s 4ms/step - loss: 0.6441 - accuracy: 0.6360\n",
            "Epoch 70/100\n",
            "885/885 [==============================] - 3s 4ms/step - loss: 0.6407 - accuracy: 0.6388\n",
            "Epoch 71/100\n",
            "885/885 [==============================] - 3s 4ms/step - loss: 0.6426 - accuracy: 0.6394\n",
            "Epoch 72/100\n",
            "885/885 [==============================] - 3s 4ms/step - loss: 0.6489 - accuracy: 0.6302\n",
            "Epoch 73/100\n",
            "885/885 [==============================] - 3s 4ms/step - loss: 0.6466 - accuracy: 0.6389\n",
            "Epoch 74/100\n",
            "885/885 [==============================] - 3s 4ms/step - loss: 0.6399 - accuracy: 0.6390\n",
            "Epoch 75/100\n",
            "885/885 [==============================] - 4s 4ms/step - loss: 0.6395 - accuracy: 0.6426\n",
            "Epoch 76/100\n",
            "885/885 [==============================] - 3s 4ms/step - loss: 0.6457 - accuracy: 0.6286\n",
            "Epoch 77/100\n",
            "885/885 [==============================] - 3s 4ms/step - loss: 0.6489 - accuracy: 0.6227\n",
            "Epoch 78/100\n",
            "885/885 [==============================] - 4s 4ms/step - loss: 0.6433 - accuracy: 0.6378\n",
            "Epoch 79/100\n",
            "885/885 [==============================] - 4s 4ms/step - loss: 0.6456 - accuracy: 0.6357\n",
            "Epoch 80/100\n",
            "885/885 [==============================] - 4s 4ms/step - loss: 0.6428 - accuracy: 0.6381\n",
            "Epoch 81/100\n",
            "885/885 [==============================] - 4s 4ms/step - loss: 0.6469 - accuracy: 0.6349\n",
            "Epoch 82/100\n",
            "885/885 [==============================] - 4s 4ms/step - loss: 0.6439 - accuracy: 0.6375\n",
            "Epoch 83/100\n",
            "885/885 [==============================] - 3s 4ms/step - loss: 0.6376 - accuracy: 0.6440\n",
            "Epoch 84/100\n",
            "885/885 [==============================] - 3s 4ms/step - loss: 0.6453 - accuracy: 0.6364\n",
            "Epoch 85/100\n",
            "885/885 [==============================] - 3s 4ms/step - loss: 0.6429 - accuracy: 0.6394\n",
            "Epoch 86/100\n",
            "885/885 [==============================] - 4s 4ms/step - loss: 0.6406 - accuracy: 0.6415\n",
            "Epoch 87/100\n",
            "885/885 [==============================] - 3s 4ms/step - loss: 0.6413 - accuracy: 0.6379\n",
            "Epoch 88/100\n",
            "885/885 [==============================] - 3s 4ms/step - loss: 0.6422 - accuracy: 0.6385\n",
            "Epoch 89/100\n",
            "885/885 [==============================] - 4s 4ms/step - loss: 0.6392 - accuracy: 0.6415\n",
            "Epoch 90/100\n",
            "885/885 [==============================] - 3s 4ms/step - loss: 0.6410 - accuracy: 0.6383\n",
            "Epoch 91/100\n",
            "885/885 [==============================] - 3s 4ms/step - loss: 0.6431 - accuracy: 0.6364\n",
            "Epoch 92/100\n",
            "885/885 [==============================] - 4s 4ms/step - loss: 0.6410 - accuracy: 0.6393\n",
            "Epoch 93/100\n",
            "885/885 [==============================] - 3s 4ms/step - loss: 0.6420 - accuracy: 0.6377\n",
            "Epoch 94/100\n",
            "885/885 [==============================] - 3s 4ms/step - loss: 0.6431 - accuracy: 0.6331\n",
            "Epoch 95/100\n",
            "885/885 [==============================] - 3s 4ms/step - loss: 0.6429 - accuracy: 0.6346\n",
            "Epoch 96/100\n",
            "885/885 [==============================] - 3s 4ms/step - loss: 0.6418 - accuracy: 0.6420\n",
            "Epoch 97/100\n",
            "885/885 [==============================] - 4s 4ms/step - loss: 0.6447 - accuracy: 0.6340\n",
            "Epoch 98/100\n",
            "885/885 [==============================] - 4s 4ms/step - loss: 0.6394 - accuracy: 0.6439\n",
            "Epoch 99/100\n",
            "885/885 [==============================] - 4s 4ms/step - loss: 0.6419 - accuracy: 0.6394\n",
            "Epoch 100/100\n",
            "885/885 [==============================] - 4s 4ms/step - loss: 0.6417 - accuracy: 0.6427\n",
            "99/99 [==============================] - 0s 3ms/step - loss: 0.6561 - accuracy: 0.6307\n",
            "Epoch 1/100\n",
            "885/885 [==============================] - 4s 4ms/step - loss: 0.6798 - accuracy: 0.5886\n",
            "Epoch 2/100\n",
            "885/885 [==============================] - 3s 4ms/step - loss: 0.6498 - accuracy: 0.6329\n",
            "Epoch 3/100\n",
            "885/885 [==============================] - 3s 4ms/step - loss: 0.6506 - accuracy: 0.6337\n",
            "Epoch 4/100\n",
            "885/885 [==============================] - 3s 4ms/step - loss: 0.6536 - accuracy: 0.6214\n",
            "Epoch 5/100\n",
            "885/885 [==============================] - 3s 4ms/step - loss: 0.6519 - accuracy: 0.6329\n",
            "Epoch 6/100\n",
            "885/885 [==============================] - 3s 4ms/step - loss: 0.6478 - accuracy: 0.6322\n",
            "Epoch 7/100\n",
            "885/885 [==============================] - 3s 4ms/step - loss: 0.6544 - accuracy: 0.6197\n",
            "Epoch 8/100\n",
            "885/885 [==============================] - 3s 4ms/step - loss: 0.6509 - accuracy: 0.6303\n",
            "Epoch 9/100\n",
            "885/885 [==============================] - 4s 4ms/step - loss: 0.6496 - accuracy: 0.6315\n",
            "Epoch 10/100\n",
            "885/885 [==============================] - 3s 4ms/step - loss: 0.6507 - accuracy: 0.6297\n",
            "Epoch 11/100\n",
            "885/885 [==============================] - 3s 4ms/step - loss: 0.6494 - accuracy: 0.6262\n",
            "Epoch 12/100\n",
            "885/885 [==============================] - 3s 4ms/step - loss: 0.6483 - accuracy: 0.6268\n",
            "Epoch 13/100\n",
            "885/885 [==============================] - 3s 4ms/step - loss: 0.6504 - accuracy: 0.6233\n",
            "Epoch 14/100\n",
            "885/885 [==============================] - 3s 4ms/step - loss: 0.6470 - accuracy: 0.6336\n",
            "Epoch 15/100\n",
            "885/885 [==============================] - 3s 4ms/step - loss: 0.6513 - accuracy: 0.6264\n",
            "Epoch 16/100\n",
            "885/885 [==============================] - 3s 4ms/step - loss: 0.6491 - accuracy: 0.6258\n",
            "Epoch 17/100\n",
            "885/885 [==============================] - 3s 4ms/step - loss: 0.6490 - accuracy: 0.6277\n",
            "Epoch 18/100\n",
            "885/885 [==============================] - 4s 4ms/step - loss: 0.6474 - accuracy: 0.6344\n",
            "Epoch 19/100\n",
            "885/885 [==============================] - 3s 4ms/step - loss: 0.6497 - accuracy: 0.6331\n",
            "Epoch 20/100\n",
            "885/885 [==============================] - 3s 4ms/step - loss: 0.6397 - accuracy: 0.6424\n",
            "Epoch 21/100\n",
            "885/885 [==============================] - 3s 4ms/step - loss: 0.6502 - accuracy: 0.6265\n",
            "Epoch 22/100\n",
            "885/885 [==============================] - 3s 4ms/step - loss: 0.6478 - accuracy: 0.6325\n",
            "Epoch 23/100\n",
            "885/885 [==============================] - 3s 4ms/step - loss: 0.6433 - accuracy: 0.6356\n",
            "Epoch 24/100\n",
            "885/885 [==============================] - 3s 4ms/step - loss: 0.6444 - accuracy: 0.6337\n",
            "Epoch 25/100\n",
            "885/885 [==============================] - 3s 4ms/step - loss: 0.6443 - accuracy: 0.6348\n",
            "Epoch 26/100\n",
            "885/885 [==============================] - 3s 4ms/step - loss: 0.6425 - accuracy: 0.6389\n",
            "Epoch 27/100\n",
            "885/885 [==============================] - 3s 4ms/step - loss: 0.6394 - accuracy: 0.6370\n",
            "Epoch 28/100\n",
            "885/885 [==============================] - 3s 4ms/step - loss: 0.6491 - accuracy: 0.6350\n",
            "Epoch 29/100\n",
            "885/885 [==============================] - 3s 4ms/step - loss: 0.6439 - accuracy: 0.6375\n",
            "Epoch 30/100\n",
            "885/885 [==============================] - 3s 4ms/step - loss: 0.6451 - accuracy: 0.6439\n",
            "Epoch 31/100\n",
            "885/885 [==============================] - 3s 4ms/step - loss: 0.6416 - accuracy: 0.6383\n",
            "Epoch 32/100\n",
            "885/885 [==============================] - 3s 4ms/step - loss: 0.6456 - accuracy: 0.6345\n",
            "Epoch 33/100\n",
            "885/885 [==============================] - 3s 4ms/step - loss: 0.6452 - accuracy: 0.6364\n",
            "Epoch 34/100\n",
            "885/885 [==============================] - 3s 4ms/step - loss: 0.6448 - accuracy: 0.6356\n",
            "Epoch 35/100\n",
            "885/885 [==============================] - 4s 4ms/step - loss: 0.6402 - accuracy: 0.6385\n",
            "Epoch 36/100\n",
            "885/885 [==============================] - 4s 4ms/step - loss: 0.6471 - accuracy: 0.6304\n",
            "Epoch 37/100\n",
            "885/885 [==============================] - 4s 4ms/step - loss: 0.6427 - accuracy: 0.6344\n",
            "Epoch 38/100\n",
            "885/885 [==============================] - 3s 4ms/step - loss: 0.6494 - accuracy: 0.6340\n",
            "Epoch 39/100\n",
            "885/885 [==============================] - 3s 4ms/step - loss: 0.6476 - accuracy: 0.6275\n",
            "Epoch 40/100\n",
            "885/885 [==============================] - 3s 4ms/step - loss: 0.6415 - accuracy: 0.6443\n",
            "Epoch 41/100\n",
            "885/885 [==============================] - 3s 4ms/step - loss: 0.6411 - accuracy: 0.6449\n",
            "Epoch 42/100\n",
            "885/885 [==============================] - 3s 4ms/step - loss: 0.6505 - accuracy: 0.6263\n",
            "Epoch 43/100\n",
            "885/885 [==============================] - 3s 4ms/step - loss: 0.6501 - accuracy: 0.6301\n",
            "Epoch 44/100\n",
            "885/885 [==============================] - 4s 4ms/step - loss: 0.6458 - accuracy: 0.6347\n",
            "Epoch 45/100\n",
            "885/885 [==============================] - 3s 4ms/step - loss: 0.6450 - accuracy: 0.6376\n",
            "Epoch 46/100\n",
            "885/885 [==============================] - 4s 4ms/step - loss: 0.6412 - accuracy: 0.6442\n",
            "Epoch 47/100\n",
            "885/885 [==============================] - 3s 4ms/step - loss: 0.6432 - accuracy: 0.6395\n",
            "Epoch 48/100\n",
            "885/885 [==============================] - 3s 4ms/step - loss: 0.6446 - accuracy: 0.6373\n",
            "Epoch 49/100\n",
            "885/885 [==============================] - 3s 4ms/step - loss: 0.6458 - accuracy: 0.6388\n",
            "Epoch 50/100\n",
            "885/885 [==============================] - 3s 4ms/step - loss: 0.6401 - accuracy: 0.6404\n",
            "Epoch 51/100\n",
            "885/885 [==============================] - 4s 4ms/step - loss: 0.6419 - accuracy: 0.6371\n",
            "Epoch 52/100\n",
            "885/885 [==============================] - 3s 4ms/step - loss: 0.6443 - accuracy: 0.6387\n",
            "Epoch 53/100\n",
            "885/885 [==============================] - 3s 4ms/step - loss: 0.6404 - accuracy: 0.6374\n",
            "Epoch 54/100\n",
            "885/885 [==============================] - 3s 4ms/step - loss: 0.6425 - accuracy: 0.6387\n",
            "Epoch 55/100\n",
            "885/885 [==============================] - 3s 4ms/step - loss: 0.6427 - accuracy: 0.6411\n",
            "Epoch 56/100\n",
            "885/885 [==============================] - 3s 4ms/step - loss: 0.6436 - accuracy: 0.6388\n",
            "Epoch 57/100\n",
            "885/885 [==============================] - 4s 4ms/step - loss: 0.6372 - accuracy: 0.6497\n",
            "Epoch 58/100\n",
            "885/885 [==============================] - 3s 4ms/step - loss: 0.6451 - accuracy: 0.6340\n",
            "Epoch 59/100\n",
            "885/885 [==============================] - 4s 4ms/step - loss: 0.6421 - accuracy: 0.6453\n",
            "Epoch 60/100\n",
            "885/885 [==============================] - 4s 4ms/step - loss: 0.6437 - accuracy: 0.6327\n",
            "Epoch 61/100\n",
            "885/885 [==============================] - 3s 4ms/step - loss: 0.6379 - accuracy: 0.6474\n",
            "Epoch 62/100\n",
            "885/885 [==============================] - 3s 4ms/step - loss: 0.6388 - accuracy: 0.6416\n",
            "Epoch 63/100\n",
            "885/885 [==============================] - 3s 4ms/step - loss: 0.6455 - accuracy: 0.6338\n",
            "Epoch 64/100\n",
            "885/885 [==============================] - 4s 4ms/step - loss: 0.6441 - accuracy: 0.6362\n",
            "Epoch 65/100\n",
            "885/885 [==============================] - 4s 4ms/step - loss: 0.6411 - accuracy: 0.6422\n",
            "Epoch 66/100\n",
            "885/885 [==============================] - 4s 4ms/step - loss: 0.6457 - accuracy: 0.6362\n",
            "Epoch 67/100\n",
            "885/885 [==============================] - 4s 4ms/step - loss: 0.6438 - accuracy: 0.6377\n",
            "Epoch 68/100\n",
            "885/885 [==============================] - 4s 4ms/step - loss: 0.6436 - accuracy: 0.6376\n",
            "Epoch 69/100\n",
            "885/885 [==============================] - 4s 4ms/step - loss: 0.6519 - accuracy: 0.6220\n",
            "Epoch 70/100\n",
            "885/885 [==============================] - 4s 4ms/step - loss: 0.6435 - accuracy: 0.6335\n",
            "Epoch 71/100\n",
            "885/885 [==============================] - 3s 4ms/step - loss: 0.6402 - accuracy: 0.6449\n",
            "Epoch 72/100\n",
            "885/885 [==============================] - 4s 4ms/step - loss: 0.6400 - accuracy: 0.6431\n",
            "Epoch 73/100\n",
            "885/885 [==============================] - 4s 4ms/step - loss: 0.6388 - accuracy: 0.6396\n",
            "Epoch 74/100\n",
            "885/885 [==============================] - 4s 4ms/step - loss: 0.6438 - accuracy: 0.6345\n",
            "Epoch 75/100\n",
            "885/885 [==============================] - 4s 4ms/step - loss: 0.6453 - accuracy: 0.6348\n",
            "Epoch 76/100\n",
            "885/885 [==============================] - 4s 4ms/step - loss: 0.6425 - accuracy: 0.6353\n",
            "Epoch 77/100\n",
            "885/885 [==============================] - 4s 4ms/step - loss: 0.6444 - accuracy: 0.6352\n",
            "Epoch 78/100\n",
            "885/885 [==============================] - 3s 4ms/step - loss: 0.6464 - accuracy: 0.6324\n",
            "Epoch 79/100\n",
            "885/885 [==============================] - 3s 4ms/step - loss: 0.6385 - accuracy: 0.6436\n",
            "Epoch 80/100\n",
            "885/885 [==============================] - 4s 4ms/step - loss: 0.6332 - accuracy: 0.6567\n",
            "Epoch 81/100\n",
            "885/885 [==============================] - 3s 4ms/step - loss: 0.6439 - accuracy: 0.6346\n",
            "Epoch 82/100\n",
            "885/885 [==============================] - 3s 4ms/step - loss: 0.6428 - accuracy: 0.6386\n",
            "Epoch 83/100\n",
            "885/885 [==============================] - 4s 4ms/step - loss: 0.6433 - accuracy: 0.6420\n",
            "Epoch 84/100\n",
            "885/885 [==============================] - 3s 4ms/step - loss: 0.6377 - accuracy: 0.6428\n",
            "Epoch 85/100\n",
            "885/885 [==============================] - 3s 4ms/step - loss: 0.6443 - accuracy: 0.6361\n",
            "Epoch 86/100\n",
            "885/885 [==============================] - 4s 4ms/step - loss: 0.6414 - accuracy: 0.6457\n",
            "Epoch 87/100\n",
            "885/885 [==============================] - 3s 4ms/step - loss: 0.6444 - accuracy: 0.6412\n",
            "Epoch 88/100\n",
            "885/885 [==============================] - 3s 4ms/step - loss: 0.6441 - accuracy: 0.6408\n",
            "Epoch 89/100\n",
            "885/885 [==============================] - 3s 4ms/step - loss: 0.6355 - accuracy: 0.6478\n",
            "Epoch 90/100\n",
            "885/885 [==============================] - 3s 4ms/step - loss: 0.6419 - accuracy: 0.6365\n",
            "Epoch 91/100\n",
            "885/885 [==============================] - 3s 4ms/step - loss: 0.6423 - accuracy: 0.6394\n",
            "Epoch 92/100\n",
            "885/885 [==============================] - 3s 4ms/step - loss: 0.6385 - accuracy: 0.6452\n",
            "Epoch 93/100\n",
            "885/885 [==============================] - 3s 4ms/step - loss: 0.6434 - accuracy: 0.6369\n",
            "Epoch 94/100\n",
            "885/885 [==============================] - 3s 4ms/step - loss: 0.6420 - accuracy: 0.6443\n",
            "Epoch 95/100\n",
            "885/885 [==============================] - 4s 4ms/step - loss: 0.6421 - accuracy: 0.6403\n",
            "Epoch 96/100\n",
            "885/885 [==============================] - 4s 4ms/step - loss: 0.6378 - accuracy: 0.6457\n",
            "Epoch 97/100\n",
            "885/885 [==============================] - 4s 4ms/step - loss: 0.6385 - accuracy: 0.6466\n",
            "Epoch 98/100\n",
            "885/885 [==============================] - 3s 4ms/step - loss: 0.6374 - accuracy: 0.6466\n",
            "Epoch 99/100\n",
            "885/885 [==============================] - 4s 4ms/step - loss: 0.6461 - accuracy: 0.6311\n",
            "Epoch 100/100\n",
            "885/885 [==============================] - 3s 4ms/step - loss: 0.6386 - accuracy: 0.6496\n",
            "99/99 [==============================] - 0s 3ms/step - loss: 0.6655 - accuracy: 0.5992\n"
          ],
          "name": "stdout"
        }
      ]
    },
    {
      "cell_type": "code",
      "metadata": {
        "colab": {
          "base_uri": "https://localhost:8080/"
        },
        "id": "hV3voey-2s--",
        "outputId": "d789c86a-80f2-4c72-9852-27207d4e7987"
      },
      "source": [
        "mean = accuracies.mean()\n",
        "mean"
      ],
      "execution_count": 109,
      "outputs": [
        {
          "output_type": "execute_result",
          "data": {
            "text/plain": [
              "0.6218718230724335"
            ]
          },
          "metadata": {
            "tags": []
          },
          "execution_count": 109
        }
      ]
    },
    {
      "cell_type": "code",
      "metadata": {
        "colab": {
          "base_uri": "https://localhost:8080/"
        },
        "id": "mhgqc19-ywKY",
        "outputId": "60b0ffa7-04e6-40ee-a977-82bb30e020a0"
      },
      "source": [
        "variance = accuracies.std()\n",
        "variance"
      ],
      "execution_count": 111,
      "outputs": [
        {
          "output_type": "execute_result",
          "data": {
            "text/plain": [
              "0.013419407458371"
            ]
          },
          "metadata": {
            "tags": []
          },
          "execution_count": 111
        }
      ]
    },
    {
      "cell_type": "markdown",
      "metadata": {
        "id": "Lu9fxNi7yziw"
      },
      "source": [
        "###**Improving & Tuning the ANN**"
      ]
    },
    {
      "cell_type": "code",
      "metadata": {
        "id": "g5_9MxCDy0a-"
      },
      "source": [
        "# Dropout Regularization to reduce overfitting if needed\n",
        "\n",
        "# Tuning the ANN\n",
        "from keras.wrappers.scikit_learn import KerasClassifier\n",
        "from sklearn.model_selection import GridSearchCV\n",
        "from keras.models import Sequential\n",
        "from keras.layers import Dense"
      ],
      "execution_count": 112,
      "outputs": []
    },
    {
      "cell_type": "code",
      "metadata": {
        "id": "MAUSJas7y9dN"
      },
      "source": [
        "def build_classifier(optimizer):\n",
        "    classifier = Sequential()\n",
        "    classifier.add(Dense(units = 7, kernel_initializer = 'uniform', activation = 'relu', input_dim = 13))\n",
        "    classifier.add(Dense(units = 7, kernel_initializer = 'uniform', activation = 'relu'))\n",
        "    classifier.add(Dense(units = 7, kernel_initializer = 'uniform', activation = 'relu'))\n",
        "    classifier.add(Dense(units = 1, kernel_initializer = 'uniform', activation = 'sigmoid'))\n",
        "    classifier.compile(optimizer = optimizer, loss = 'binary_crossentropy', metrics = ['accuracy'])\n",
        "    return classifier\n",
        "\n",
        "classifier = KerasClassifier(build_fn = build_classifier)\n",
        "parameters = {'batch_size': [10, 25, 32],\n",
        "              'epochs': [100, 500],\n",
        "              'optimizer': ['adam', 'rmsprop']}\n",
        "grid_search = GridSearchCV(estimator = classifier,\n",
        "                           param_grid = parameters,\n",
        "                           scoring = 'accuracy',\n",
        "                           cv = 10)\n",
        "grid_search = grid_search.fit(X_train, y_train)\n"
      ],
      "execution_count": null,
      "outputs": []
    },
    {
      "cell_type": "code",
      "metadata": {
        "id": "Dg96O2ddy_4j"
      },
      "source": [
        "best_parameters = grid_search.best_params_\n",
        "best_accuracy = grid_search.best_score_"
      ],
      "execution_count": null,
      "outputs": []
    },
    {
      "cell_type": "code",
      "metadata": {
        "id": "VNugtra8D4Km"
      },
      "source": [
        "best_parameters"
      ],
      "execution_count": null,
      "outputs": []
    },
    {
      "cell_type": "code",
      "metadata": {
        "id": "RfTcCmXPD7bw"
      },
      "source": [
        "best_accuracy"
      ],
      "execution_count": null,
      "outputs": []
    },
    {
      "cell_type": "code",
      "metadata": {
        "id": "A20kTUHtOyqv"
      },
      "source": [
        ""
      ],
      "execution_count": null,
      "outputs": []
    }
  ]
}